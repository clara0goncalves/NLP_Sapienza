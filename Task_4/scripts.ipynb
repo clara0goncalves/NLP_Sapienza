{
  "nbformat": 4,
  "nbformat_minor": 0,
  "metadata": {
    "colab": {
      "provenance": [],
      "gpuType": "T4"
    },
    "kernelspec": {
      "name": "python3",
      "display_name": "Python 3"
    },
    "language_info": {
      "name": "python"
    },
    "accelerator": "GPU",
    "widgets": {
      "application/vnd.jupyter.widget-state+json": {
        "25aa5aac7112485da8289930d5145be9": {
          "model_module": "@jupyter-widgets/controls",
          "model_name": "HBoxModel",
          "model_module_version": "1.5.0",
          "state": {
            "_dom_classes": [],
            "_model_module": "@jupyter-widgets/controls",
            "_model_module_version": "1.5.0",
            "_model_name": "HBoxModel",
            "_view_count": null,
            "_view_module": "@jupyter-widgets/controls",
            "_view_module_version": "1.5.0",
            "_view_name": "HBoxView",
            "box_style": "",
            "children": [
              "IPY_MODEL_034715d164bb4ac3aa7480a02ec81bdc",
              "IPY_MODEL_b8df317b2db640a397f20d93f19b9fb6",
              "IPY_MODEL_36499b63dbc7484a8858d6a1196f4321"
            ],
            "layout": "IPY_MODEL_09970fb8908542db98973bbc02e1bdfa"
          }
        },
        "034715d164bb4ac3aa7480a02ec81bdc": {
          "model_module": "@jupyter-widgets/controls",
          "model_name": "HTMLModel",
          "model_module_version": "1.5.0",
          "state": {
            "_dom_classes": [],
            "_model_module": "@jupyter-widgets/controls",
            "_model_module_version": "1.5.0",
            "_model_name": "HTMLModel",
            "_view_count": null,
            "_view_module": "@jupyter-widgets/controls",
            "_view_module_version": "1.5.0",
            "_view_name": "HTMLView",
            "description": "",
            "description_tooltip": null,
            "layout": "IPY_MODEL_fb21a0d82bae407694769876a84688b4",
            "placeholder": "​",
            "style": "IPY_MODEL_7ba2859b3d5f4902905b063baa50f0b7",
            "value": "tokenizer_config.json: 100%"
          }
        },
        "b8df317b2db640a397f20d93f19b9fb6": {
          "model_module": "@jupyter-widgets/controls",
          "model_name": "FloatProgressModel",
          "model_module_version": "1.5.0",
          "state": {
            "_dom_classes": [],
            "_model_module": "@jupyter-widgets/controls",
            "_model_module_version": "1.5.0",
            "_model_name": "FloatProgressModel",
            "_view_count": null,
            "_view_module": "@jupyter-widgets/controls",
            "_view_module_version": "1.5.0",
            "_view_name": "ProgressView",
            "bar_style": "success",
            "description": "",
            "description_tooltip": null,
            "layout": "IPY_MODEL_bd53789f6ce04728ac92fba85b893d8a",
            "max": 467,
            "min": 0,
            "orientation": "horizontal",
            "style": "IPY_MODEL_46c70a5b599b479c909d437ee0fdd04d",
            "value": 467
          }
        },
        "36499b63dbc7484a8858d6a1196f4321": {
          "model_module": "@jupyter-widgets/controls",
          "model_name": "HTMLModel",
          "model_module_version": "1.5.0",
          "state": {
            "_dom_classes": [],
            "_model_module": "@jupyter-widgets/controls",
            "_model_module_version": "1.5.0",
            "_model_name": "HTMLModel",
            "_view_count": null,
            "_view_module": "@jupyter-widgets/controls",
            "_view_module_version": "1.5.0",
            "_view_name": "HTMLView",
            "description": "",
            "description_tooltip": null,
            "layout": "IPY_MODEL_1da0045d87ed45a2a19e472d8169f966",
            "placeholder": "​",
            "style": "IPY_MODEL_4e51a967346c4f70aab77f4f93733ae9",
            "value": " 467/467 [00:00&lt;00:00, 18.6kB/s]"
          }
        },
        "09970fb8908542db98973bbc02e1bdfa": {
          "model_module": "@jupyter-widgets/base",
          "model_name": "LayoutModel",
          "model_module_version": "1.2.0",
          "state": {
            "_model_module": "@jupyter-widgets/base",
            "_model_module_version": "1.2.0",
            "_model_name": "LayoutModel",
            "_view_count": null,
            "_view_module": "@jupyter-widgets/base",
            "_view_module_version": "1.2.0",
            "_view_name": "LayoutView",
            "align_content": null,
            "align_items": null,
            "align_self": null,
            "border": null,
            "bottom": null,
            "display": null,
            "flex": null,
            "flex_flow": null,
            "grid_area": null,
            "grid_auto_columns": null,
            "grid_auto_flow": null,
            "grid_auto_rows": null,
            "grid_column": null,
            "grid_gap": null,
            "grid_row": null,
            "grid_template_areas": null,
            "grid_template_columns": null,
            "grid_template_rows": null,
            "height": null,
            "justify_content": null,
            "justify_items": null,
            "left": null,
            "margin": null,
            "max_height": null,
            "max_width": null,
            "min_height": null,
            "min_width": null,
            "object_fit": null,
            "object_position": null,
            "order": null,
            "overflow": null,
            "overflow_x": null,
            "overflow_y": null,
            "padding": null,
            "right": null,
            "top": null,
            "visibility": null,
            "width": null
          }
        },
        "fb21a0d82bae407694769876a84688b4": {
          "model_module": "@jupyter-widgets/base",
          "model_name": "LayoutModel",
          "model_module_version": "1.2.0",
          "state": {
            "_model_module": "@jupyter-widgets/base",
            "_model_module_version": "1.2.0",
            "_model_name": "LayoutModel",
            "_view_count": null,
            "_view_module": "@jupyter-widgets/base",
            "_view_module_version": "1.2.0",
            "_view_name": "LayoutView",
            "align_content": null,
            "align_items": null,
            "align_self": null,
            "border": null,
            "bottom": null,
            "display": null,
            "flex": null,
            "flex_flow": null,
            "grid_area": null,
            "grid_auto_columns": null,
            "grid_auto_flow": null,
            "grid_auto_rows": null,
            "grid_column": null,
            "grid_gap": null,
            "grid_row": null,
            "grid_template_areas": null,
            "grid_template_columns": null,
            "grid_template_rows": null,
            "height": null,
            "justify_content": null,
            "justify_items": null,
            "left": null,
            "margin": null,
            "max_height": null,
            "max_width": null,
            "min_height": null,
            "min_width": null,
            "object_fit": null,
            "object_position": null,
            "order": null,
            "overflow": null,
            "overflow_x": null,
            "overflow_y": null,
            "padding": null,
            "right": null,
            "top": null,
            "visibility": null,
            "width": null
          }
        },
        "7ba2859b3d5f4902905b063baa50f0b7": {
          "model_module": "@jupyter-widgets/controls",
          "model_name": "DescriptionStyleModel",
          "model_module_version": "1.5.0",
          "state": {
            "_model_module": "@jupyter-widgets/controls",
            "_model_module_version": "1.5.0",
            "_model_name": "DescriptionStyleModel",
            "_view_count": null,
            "_view_module": "@jupyter-widgets/base",
            "_view_module_version": "1.2.0",
            "_view_name": "StyleView",
            "description_width": ""
          }
        },
        "bd53789f6ce04728ac92fba85b893d8a": {
          "model_module": "@jupyter-widgets/base",
          "model_name": "LayoutModel",
          "model_module_version": "1.2.0",
          "state": {
            "_model_module": "@jupyter-widgets/base",
            "_model_module_version": "1.2.0",
            "_model_name": "LayoutModel",
            "_view_count": null,
            "_view_module": "@jupyter-widgets/base",
            "_view_module_version": "1.2.0",
            "_view_name": "LayoutView",
            "align_content": null,
            "align_items": null,
            "align_self": null,
            "border": null,
            "bottom": null,
            "display": null,
            "flex": null,
            "flex_flow": null,
            "grid_area": null,
            "grid_auto_columns": null,
            "grid_auto_flow": null,
            "grid_auto_rows": null,
            "grid_column": null,
            "grid_gap": null,
            "grid_row": null,
            "grid_template_areas": null,
            "grid_template_columns": null,
            "grid_template_rows": null,
            "height": null,
            "justify_content": null,
            "justify_items": null,
            "left": null,
            "margin": null,
            "max_height": null,
            "max_width": null,
            "min_height": null,
            "min_width": null,
            "object_fit": null,
            "object_position": null,
            "order": null,
            "overflow": null,
            "overflow_x": null,
            "overflow_y": null,
            "padding": null,
            "right": null,
            "top": null,
            "visibility": null,
            "width": null
          }
        },
        "46c70a5b599b479c909d437ee0fdd04d": {
          "model_module": "@jupyter-widgets/controls",
          "model_name": "ProgressStyleModel",
          "model_module_version": "1.5.0",
          "state": {
            "_model_module": "@jupyter-widgets/controls",
            "_model_module_version": "1.5.0",
            "_model_name": "ProgressStyleModel",
            "_view_count": null,
            "_view_module": "@jupyter-widgets/base",
            "_view_module_version": "1.2.0",
            "_view_name": "StyleView",
            "bar_color": null,
            "description_width": ""
          }
        },
        "1da0045d87ed45a2a19e472d8169f966": {
          "model_module": "@jupyter-widgets/base",
          "model_name": "LayoutModel",
          "model_module_version": "1.2.0",
          "state": {
            "_model_module": "@jupyter-widgets/base",
            "_model_module_version": "1.2.0",
            "_model_name": "LayoutModel",
            "_view_count": null,
            "_view_module": "@jupyter-widgets/base",
            "_view_module_version": "1.2.0",
            "_view_name": "LayoutView",
            "align_content": null,
            "align_items": null,
            "align_self": null,
            "border": null,
            "bottom": null,
            "display": null,
            "flex": null,
            "flex_flow": null,
            "grid_area": null,
            "grid_auto_columns": null,
            "grid_auto_flow": null,
            "grid_auto_rows": null,
            "grid_column": null,
            "grid_gap": null,
            "grid_row": null,
            "grid_template_areas": null,
            "grid_template_columns": null,
            "grid_template_rows": null,
            "height": null,
            "justify_content": null,
            "justify_items": null,
            "left": null,
            "margin": null,
            "max_height": null,
            "max_width": null,
            "min_height": null,
            "min_width": null,
            "object_fit": null,
            "object_position": null,
            "order": null,
            "overflow": null,
            "overflow_x": null,
            "overflow_y": null,
            "padding": null,
            "right": null,
            "top": null,
            "visibility": null,
            "width": null
          }
        },
        "4e51a967346c4f70aab77f4f93733ae9": {
          "model_module": "@jupyter-widgets/controls",
          "model_name": "DescriptionStyleModel",
          "model_module_version": "1.5.0",
          "state": {
            "_model_module": "@jupyter-widgets/controls",
            "_model_module_version": "1.5.0",
            "_model_name": "DescriptionStyleModel",
            "_view_count": null,
            "_view_module": "@jupyter-widgets/base",
            "_view_module_version": "1.2.0",
            "_view_name": "StyleView",
            "description_width": ""
          }
        },
        "03ed310eac3a4e53b9c753d5eceeac74": {
          "model_module": "@jupyter-widgets/controls",
          "model_name": "HBoxModel",
          "model_module_version": "1.5.0",
          "state": {
            "_dom_classes": [],
            "_model_module": "@jupyter-widgets/controls",
            "_model_module_version": "1.5.0",
            "_model_name": "HBoxModel",
            "_view_count": null,
            "_view_module": "@jupyter-widgets/controls",
            "_view_module_version": "1.5.0",
            "_view_name": "HBoxView",
            "box_style": "",
            "children": [
              "IPY_MODEL_bfdf8797f6984e269bfefb0c74c81738",
              "IPY_MODEL_65e7d404447040c3b7ebaae0cce2b3fb",
              "IPY_MODEL_11482799a3f040488a08147d6a3009b9"
            ],
            "layout": "IPY_MODEL_dd74bebe72144bb8bf8ba1dd21f57229"
          }
        },
        "bfdf8797f6984e269bfefb0c74c81738": {
          "model_module": "@jupyter-widgets/controls",
          "model_name": "HTMLModel",
          "model_module_version": "1.5.0",
          "state": {
            "_dom_classes": [],
            "_model_module": "@jupyter-widgets/controls",
            "_model_module_version": "1.5.0",
            "_model_name": "HTMLModel",
            "_view_count": null,
            "_view_module": "@jupyter-widgets/controls",
            "_view_module_version": "1.5.0",
            "_view_name": "HTMLView",
            "description": "",
            "description_tooltip": null,
            "layout": "IPY_MODEL_9e35d0db663c4807944d4691eb20be20",
            "placeholder": "​",
            "style": "IPY_MODEL_7e2fbb76cde34c5ab5f367537b833eb0",
            "value": "spm.model: 100%"
          }
        },
        "65e7d404447040c3b7ebaae0cce2b3fb": {
          "model_module": "@jupyter-widgets/controls",
          "model_name": "FloatProgressModel",
          "model_module_version": "1.5.0",
          "state": {
            "_dom_classes": [],
            "_model_module": "@jupyter-widgets/controls",
            "_model_module_version": "1.5.0",
            "_model_name": "FloatProgressModel",
            "_view_count": null,
            "_view_module": "@jupyter-widgets/controls",
            "_view_module_version": "1.5.0",
            "_view_name": "ProgressView",
            "bar_style": "success",
            "description": "",
            "description_tooltip": null,
            "layout": "IPY_MODEL_372673c20309414099b5d4e95547235a",
            "max": 4305025,
            "min": 0,
            "orientation": "horizontal",
            "style": "IPY_MODEL_eaf07d60afdb4657895b791d64a44ca2",
            "value": 4305025
          }
        },
        "11482799a3f040488a08147d6a3009b9": {
          "model_module": "@jupyter-widgets/controls",
          "model_name": "HTMLModel",
          "model_module_version": "1.5.0",
          "state": {
            "_dom_classes": [],
            "_model_module": "@jupyter-widgets/controls",
            "_model_module_version": "1.5.0",
            "_model_name": "HTMLModel",
            "_view_count": null,
            "_view_module": "@jupyter-widgets/controls",
            "_view_module_version": "1.5.0",
            "_view_name": "HTMLView",
            "description": "",
            "description_tooltip": null,
            "layout": "IPY_MODEL_a672901ab7e548599c52850128578ade",
            "placeholder": "​",
            "style": "IPY_MODEL_0399fe6f667e49fb8df4372ea2137520",
            "value": " 4.31M/4.31M [00:00&lt;00:00, 29.8MB/s]"
          }
        },
        "dd74bebe72144bb8bf8ba1dd21f57229": {
          "model_module": "@jupyter-widgets/base",
          "model_name": "LayoutModel",
          "model_module_version": "1.2.0",
          "state": {
            "_model_module": "@jupyter-widgets/base",
            "_model_module_version": "1.2.0",
            "_model_name": "LayoutModel",
            "_view_count": null,
            "_view_module": "@jupyter-widgets/base",
            "_view_module_version": "1.2.0",
            "_view_name": "LayoutView",
            "align_content": null,
            "align_items": null,
            "align_self": null,
            "border": null,
            "bottom": null,
            "display": null,
            "flex": null,
            "flex_flow": null,
            "grid_area": null,
            "grid_auto_columns": null,
            "grid_auto_flow": null,
            "grid_auto_rows": null,
            "grid_column": null,
            "grid_gap": null,
            "grid_row": null,
            "grid_template_areas": null,
            "grid_template_columns": null,
            "grid_template_rows": null,
            "height": null,
            "justify_content": null,
            "justify_items": null,
            "left": null,
            "margin": null,
            "max_height": null,
            "max_width": null,
            "min_height": null,
            "min_width": null,
            "object_fit": null,
            "object_position": null,
            "order": null,
            "overflow": null,
            "overflow_x": null,
            "overflow_y": null,
            "padding": null,
            "right": null,
            "top": null,
            "visibility": null,
            "width": null
          }
        },
        "9e35d0db663c4807944d4691eb20be20": {
          "model_module": "@jupyter-widgets/base",
          "model_name": "LayoutModel",
          "model_module_version": "1.2.0",
          "state": {
            "_model_module": "@jupyter-widgets/base",
            "_model_module_version": "1.2.0",
            "_model_name": "LayoutModel",
            "_view_count": null,
            "_view_module": "@jupyter-widgets/base",
            "_view_module_version": "1.2.0",
            "_view_name": "LayoutView",
            "align_content": null,
            "align_items": null,
            "align_self": null,
            "border": null,
            "bottom": null,
            "display": null,
            "flex": null,
            "flex_flow": null,
            "grid_area": null,
            "grid_auto_columns": null,
            "grid_auto_flow": null,
            "grid_auto_rows": null,
            "grid_column": null,
            "grid_gap": null,
            "grid_row": null,
            "grid_template_areas": null,
            "grid_template_columns": null,
            "grid_template_rows": null,
            "height": null,
            "justify_content": null,
            "justify_items": null,
            "left": null,
            "margin": null,
            "max_height": null,
            "max_width": null,
            "min_height": null,
            "min_width": null,
            "object_fit": null,
            "object_position": null,
            "order": null,
            "overflow": null,
            "overflow_x": null,
            "overflow_y": null,
            "padding": null,
            "right": null,
            "top": null,
            "visibility": null,
            "width": null
          }
        },
        "7e2fbb76cde34c5ab5f367537b833eb0": {
          "model_module": "@jupyter-widgets/controls",
          "model_name": "DescriptionStyleModel",
          "model_module_version": "1.5.0",
          "state": {
            "_model_module": "@jupyter-widgets/controls",
            "_model_module_version": "1.5.0",
            "_model_name": "DescriptionStyleModel",
            "_view_count": null,
            "_view_module": "@jupyter-widgets/base",
            "_view_module_version": "1.2.0",
            "_view_name": "StyleView",
            "description_width": ""
          }
        },
        "372673c20309414099b5d4e95547235a": {
          "model_module": "@jupyter-widgets/base",
          "model_name": "LayoutModel",
          "model_module_version": "1.2.0",
          "state": {
            "_model_module": "@jupyter-widgets/base",
            "_model_module_version": "1.2.0",
            "_model_name": "LayoutModel",
            "_view_count": null,
            "_view_module": "@jupyter-widgets/base",
            "_view_module_version": "1.2.0",
            "_view_name": "LayoutView",
            "align_content": null,
            "align_items": null,
            "align_self": null,
            "border": null,
            "bottom": null,
            "display": null,
            "flex": null,
            "flex_flow": null,
            "grid_area": null,
            "grid_auto_columns": null,
            "grid_auto_flow": null,
            "grid_auto_rows": null,
            "grid_column": null,
            "grid_gap": null,
            "grid_row": null,
            "grid_template_areas": null,
            "grid_template_columns": null,
            "grid_template_rows": null,
            "height": null,
            "justify_content": null,
            "justify_items": null,
            "left": null,
            "margin": null,
            "max_height": null,
            "max_width": null,
            "min_height": null,
            "min_width": null,
            "object_fit": null,
            "object_position": null,
            "order": null,
            "overflow": null,
            "overflow_x": null,
            "overflow_y": null,
            "padding": null,
            "right": null,
            "top": null,
            "visibility": null,
            "width": null
          }
        },
        "eaf07d60afdb4657895b791d64a44ca2": {
          "model_module": "@jupyter-widgets/controls",
          "model_name": "ProgressStyleModel",
          "model_module_version": "1.5.0",
          "state": {
            "_model_module": "@jupyter-widgets/controls",
            "_model_module_version": "1.5.0",
            "_model_name": "ProgressStyleModel",
            "_view_count": null,
            "_view_module": "@jupyter-widgets/base",
            "_view_module_version": "1.2.0",
            "_view_name": "StyleView",
            "bar_color": null,
            "description_width": ""
          }
        },
        "a672901ab7e548599c52850128578ade": {
          "model_module": "@jupyter-widgets/base",
          "model_name": "LayoutModel",
          "model_module_version": "1.2.0",
          "state": {
            "_model_module": "@jupyter-widgets/base",
            "_model_module_version": "1.2.0",
            "_model_name": "LayoutModel",
            "_view_count": null,
            "_view_module": "@jupyter-widgets/base",
            "_view_module_version": "1.2.0",
            "_view_name": "LayoutView",
            "align_content": null,
            "align_items": null,
            "align_self": null,
            "border": null,
            "bottom": null,
            "display": null,
            "flex": null,
            "flex_flow": null,
            "grid_area": null,
            "grid_auto_columns": null,
            "grid_auto_flow": null,
            "grid_auto_rows": null,
            "grid_column": null,
            "grid_gap": null,
            "grid_row": null,
            "grid_template_areas": null,
            "grid_template_columns": null,
            "grid_template_rows": null,
            "height": null,
            "justify_content": null,
            "justify_items": null,
            "left": null,
            "margin": null,
            "max_height": null,
            "max_width": null,
            "min_height": null,
            "min_width": null,
            "object_fit": null,
            "object_position": null,
            "order": null,
            "overflow": null,
            "overflow_x": null,
            "overflow_y": null,
            "padding": null,
            "right": null,
            "top": null,
            "visibility": null,
            "width": null
          }
        },
        "0399fe6f667e49fb8df4372ea2137520": {
          "model_module": "@jupyter-widgets/controls",
          "model_name": "DescriptionStyleModel",
          "model_module_version": "1.5.0",
          "state": {
            "_model_module": "@jupyter-widgets/controls",
            "_model_module_version": "1.5.0",
            "_model_name": "DescriptionStyleModel",
            "_view_count": null,
            "_view_module": "@jupyter-widgets/base",
            "_view_module_version": "1.2.0",
            "_view_name": "StyleView",
            "description_width": ""
          }
        },
        "514bfcc5fe13416c949f999155c84f5d": {
          "model_module": "@jupyter-widgets/controls",
          "model_name": "HBoxModel",
          "model_module_version": "1.5.0",
          "state": {
            "_dom_classes": [],
            "_model_module": "@jupyter-widgets/controls",
            "_model_module_version": "1.5.0",
            "_model_name": "HBoxModel",
            "_view_count": null,
            "_view_module": "@jupyter-widgets/controls",
            "_view_module_version": "1.5.0",
            "_view_name": "HBoxView",
            "box_style": "",
            "children": [
              "IPY_MODEL_ba6461ee49b34a589a7442bfb7691ba9",
              "IPY_MODEL_69039c8cea8f4af7b455335eff267c48",
              "IPY_MODEL_50cb63c9948a4e51b12699dd4a4486fd"
            ],
            "layout": "IPY_MODEL_a5cf85bbd9254df89ac65cc75574997c"
          }
        },
        "ba6461ee49b34a589a7442bfb7691ba9": {
          "model_module": "@jupyter-widgets/controls",
          "model_name": "HTMLModel",
          "model_module_version": "1.5.0",
          "state": {
            "_dom_classes": [],
            "_model_module": "@jupyter-widgets/controls",
            "_model_module_version": "1.5.0",
            "_model_name": "HTMLModel",
            "_view_count": null,
            "_view_module": "@jupyter-widgets/controls",
            "_view_module_version": "1.5.0",
            "_view_name": "HTMLView",
            "description": "",
            "description_tooltip": null,
            "layout": "IPY_MODEL_f0af98366e9e4c85a5e88dcd029c4074",
            "placeholder": "​",
            "style": "IPY_MODEL_44c7bf1c4edd4b7b9a26a4c6a169cd20",
            "value": "tokenizer.json: 100%"
          }
        },
        "69039c8cea8f4af7b455335eff267c48": {
          "model_module": "@jupyter-widgets/controls",
          "model_name": "FloatProgressModel",
          "model_module_version": "1.5.0",
          "state": {
            "_dom_classes": [],
            "_model_module": "@jupyter-widgets/controls",
            "_model_module_version": "1.5.0",
            "_model_name": "FloatProgressModel",
            "_view_count": null,
            "_view_module": "@jupyter-widgets/controls",
            "_view_module_version": "1.5.0",
            "_view_name": "ProgressView",
            "bar_style": "success",
            "description": "",
            "description_tooltip": null,
            "layout": "IPY_MODEL_013aacfbb16c4503b9b8a0b0ca0dd6e5",
            "max": 16316151,
            "min": 0,
            "orientation": "horizontal",
            "style": "IPY_MODEL_b1b57e1078ba4237884a6fc182ba42f5",
            "value": 16316151
          }
        },
        "50cb63c9948a4e51b12699dd4a4486fd": {
          "model_module": "@jupyter-widgets/controls",
          "model_name": "HTMLModel",
          "model_module_version": "1.5.0",
          "state": {
            "_dom_classes": [],
            "_model_module": "@jupyter-widgets/controls",
            "_model_module_version": "1.5.0",
            "_model_name": "HTMLModel",
            "_view_count": null,
            "_view_module": "@jupyter-widgets/controls",
            "_view_module_version": "1.5.0",
            "_view_name": "HTMLView",
            "description": "",
            "description_tooltip": null,
            "layout": "IPY_MODEL_f05fb2db037f4992840caf817ac54a41",
            "placeholder": "​",
            "style": "IPY_MODEL_060e3baa14c54c7e819ddcc8f2957ccf",
            "value": " 16.3M/16.3M [00:00&lt;00:00, 92.7MB/s]"
          }
        },
        "a5cf85bbd9254df89ac65cc75574997c": {
          "model_module": "@jupyter-widgets/base",
          "model_name": "LayoutModel",
          "model_module_version": "1.2.0",
          "state": {
            "_model_module": "@jupyter-widgets/base",
            "_model_module_version": "1.2.0",
            "_model_name": "LayoutModel",
            "_view_count": null,
            "_view_module": "@jupyter-widgets/base",
            "_view_module_version": "1.2.0",
            "_view_name": "LayoutView",
            "align_content": null,
            "align_items": null,
            "align_self": null,
            "border": null,
            "bottom": null,
            "display": null,
            "flex": null,
            "flex_flow": null,
            "grid_area": null,
            "grid_auto_columns": null,
            "grid_auto_flow": null,
            "grid_auto_rows": null,
            "grid_column": null,
            "grid_gap": null,
            "grid_row": null,
            "grid_template_areas": null,
            "grid_template_columns": null,
            "grid_template_rows": null,
            "height": null,
            "justify_content": null,
            "justify_items": null,
            "left": null,
            "margin": null,
            "max_height": null,
            "max_width": null,
            "min_height": null,
            "min_width": null,
            "object_fit": null,
            "object_position": null,
            "order": null,
            "overflow": null,
            "overflow_x": null,
            "overflow_y": null,
            "padding": null,
            "right": null,
            "top": null,
            "visibility": null,
            "width": null
          }
        },
        "f0af98366e9e4c85a5e88dcd029c4074": {
          "model_module": "@jupyter-widgets/base",
          "model_name": "LayoutModel",
          "model_module_version": "1.2.0",
          "state": {
            "_model_module": "@jupyter-widgets/base",
            "_model_module_version": "1.2.0",
            "_model_name": "LayoutModel",
            "_view_count": null,
            "_view_module": "@jupyter-widgets/base",
            "_view_module_version": "1.2.0",
            "_view_name": "LayoutView",
            "align_content": null,
            "align_items": null,
            "align_self": null,
            "border": null,
            "bottom": null,
            "display": null,
            "flex": null,
            "flex_flow": null,
            "grid_area": null,
            "grid_auto_columns": null,
            "grid_auto_flow": null,
            "grid_auto_rows": null,
            "grid_column": null,
            "grid_gap": null,
            "grid_row": null,
            "grid_template_areas": null,
            "grid_template_columns": null,
            "grid_template_rows": null,
            "height": null,
            "justify_content": null,
            "justify_items": null,
            "left": null,
            "margin": null,
            "max_height": null,
            "max_width": null,
            "min_height": null,
            "min_width": null,
            "object_fit": null,
            "object_position": null,
            "order": null,
            "overflow": null,
            "overflow_x": null,
            "overflow_y": null,
            "padding": null,
            "right": null,
            "top": null,
            "visibility": null,
            "width": null
          }
        },
        "44c7bf1c4edd4b7b9a26a4c6a169cd20": {
          "model_module": "@jupyter-widgets/controls",
          "model_name": "DescriptionStyleModel",
          "model_module_version": "1.5.0",
          "state": {
            "_model_module": "@jupyter-widgets/controls",
            "_model_module_version": "1.5.0",
            "_model_name": "DescriptionStyleModel",
            "_view_count": null,
            "_view_module": "@jupyter-widgets/base",
            "_view_module_version": "1.2.0",
            "_view_name": "StyleView",
            "description_width": ""
          }
        },
        "013aacfbb16c4503b9b8a0b0ca0dd6e5": {
          "model_module": "@jupyter-widgets/base",
          "model_name": "LayoutModel",
          "model_module_version": "1.2.0",
          "state": {
            "_model_module": "@jupyter-widgets/base",
            "_model_module_version": "1.2.0",
            "_model_name": "LayoutModel",
            "_view_count": null,
            "_view_module": "@jupyter-widgets/base",
            "_view_module_version": "1.2.0",
            "_view_name": "LayoutView",
            "align_content": null,
            "align_items": null,
            "align_self": null,
            "border": null,
            "bottom": null,
            "display": null,
            "flex": null,
            "flex_flow": null,
            "grid_area": null,
            "grid_auto_columns": null,
            "grid_auto_flow": null,
            "grid_auto_rows": null,
            "grid_column": null,
            "grid_gap": null,
            "grid_row": null,
            "grid_template_areas": null,
            "grid_template_columns": null,
            "grid_template_rows": null,
            "height": null,
            "justify_content": null,
            "justify_items": null,
            "left": null,
            "margin": null,
            "max_height": null,
            "max_width": null,
            "min_height": null,
            "min_width": null,
            "object_fit": null,
            "object_position": null,
            "order": null,
            "overflow": null,
            "overflow_x": null,
            "overflow_y": null,
            "padding": null,
            "right": null,
            "top": null,
            "visibility": null,
            "width": null
          }
        },
        "b1b57e1078ba4237884a6fc182ba42f5": {
          "model_module": "@jupyter-widgets/controls",
          "model_name": "ProgressStyleModel",
          "model_module_version": "1.5.0",
          "state": {
            "_model_module": "@jupyter-widgets/controls",
            "_model_module_version": "1.5.0",
            "_model_name": "ProgressStyleModel",
            "_view_count": null,
            "_view_module": "@jupyter-widgets/base",
            "_view_module_version": "1.2.0",
            "_view_name": "StyleView",
            "bar_color": null,
            "description_width": ""
          }
        },
        "f05fb2db037f4992840caf817ac54a41": {
          "model_module": "@jupyter-widgets/base",
          "model_name": "LayoutModel",
          "model_module_version": "1.2.0",
          "state": {
            "_model_module": "@jupyter-widgets/base",
            "_model_module_version": "1.2.0",
            "_model_name": "LayoutModel",
            "_view_count": null,
            "_view_module": "@jupyter-widgets/base",
            "_view_module_version": "1.2.0",
            "_view_name": "LayoutView",
            "align_content": null,
            "align_items": null,
            "align_self": null,
            "border": null,
            "bottom": null,
            "display": null,
            "flex": null,
            "flex_flow": null,
            "grid_area": null,
            "grid_auto_columns": null,
            "grid_auto_flow": null,
            "grid_auto_rows": null,
            "grid_column": null,
            "grid_gap": null,
            "grid_row": null,
            "grid_template_areas": null,
            "grid_template_columns": null,
            "grid_template_rows": null,
            "height": null,
            "justify_content": null,
            "justify_items": null,
            "left": null,
            "margin": null,
            "max_height": null,
            "max_width": null,
            "min_height": null,
            "min_width": null,
            "object_fit": null,
            "object_position": null,
            "order": null,
            "overflow": null,
            "overflow_x": null,
            "overflow_y": null,
            "padding": null,
            "right": null,
            "top": null,
            "visibility": null,
            "width": null
          }
        },
        "060e3baa14c54c7e819ddcc8f2957ccf": {
          "model_module": "@jupyter-widgets/controls",
          "model_name": "DescriptionStyleModel",
          "model_module_version": "1.5.0",
          "state": {
            "_model_module": "@jupyter-widgets/controls",
            "_model_module_version": "1.5.0",
            "_model_name": "DescriptionStyleModel",
            "_view_count": null,
            "_view_module": "@jupyter-widgets/base",
            "_view_module_version": "1.2.0",
            "_view_name": "StyleView",
            "description_width": ""
          }
        },
        "418156be6e80496cbc851c502f86014c": {
          "model_module": "@jupyter-widgets/controls",
          "model_name": "HBoxModel",
          "model_module_version": "1.5.0",
          "state": {
            "_dom_classes": [],
            "_model_module": "@jupyter-widgets/controls",
            "_model_module_version": "1.5.0",
            "_model_name": "HBoxModel",
            "_view_count": null,
            "_view_module": "@jupyter-widgets/controls",
            "_view_module_version": "1.5.0",
            "_view_name": "HBoxView",
            "box_style": "",
            "children": [
              "IPY_MODEL_0c0f9ee50cd44fd686ceaa3e3deef070",
              "IPY_MODEL_be64cbeae6504696b715aba61730100e",
              "IPY_MODEL_d8df57e8c9c64057801de8ac62852ca5"
            ],
            "layout": "IPY_MODEL_16ddcde6782a4ce59dee7d77e0df02ad"
          }
        },
        "0c0f9ee50cd44fd686ceaa3e3deef070": {
          "model_module": "@jupyter-widgets/controls",
          "model_name": "HTMLModel",
          "model_module_version": "1.5.0",
          "state": {
            "_dom_classes": [],
            "_model_module": "@jupyter-widgets/controls",
            "_model_module_version": "1.5.0",
            "_model_name": "HTMLModel",
            "_view_count": null,
            "_view_module": "@jupyter-widgets/controls",
            "_view_module_version": "1.5.0",
            "_view_name": "HTMLView",
            "description": "",
            "description_tooltip": null,
            "layout": "IPY_MODEL_67da0189a7e04a24b9401bfe4e766a45",
            "placeholder": "​",
            "style": "IPY_MODEL_da067ed19d6647a5a65cca6a9843a47f",
            "value": "added_tokens.json: 100%"
          }
        },
        "be64cbeae6504696b715aba61730100e": {
          "model_module": "@jupyter-widgets/controls",
          "model_name": "FloatProgressModel",
          "model_module_version": "1.5.0",
          "state": {
            "_dom_classes": [],
            "_model_module": "@jupyter-widgets/controls",
            "_model_module_version": "1.5.0",
            "_model_name": "FloatProgressModel",
            "_view_count": null,
            "_view_module": "@jupyter-widgets/controls",
            "_view_module_version": "1.5.0",
            "_view_name": "ProgressView",
            "bar_style": "success",
            "description": "",
            "description_tooltip": null,
            "layout": "IPY_MODEL_52365f3d429445c68b7969d9defb62fd",
            "max": 23,
            "min": 0,
            "orientation": "horizontal",
            "style": "IPY_MODEL_07b01561529649e8b0bdbc50dd8c21c9",
            "value": 23
          }
        },
        "d8df57e8c9c64057801de8ac62852ca5": {
          "model_module": "@jupyter-widgets/controls",
          "model_name": "HTMLModel",
          "model_module_version": "1.5.0",
          "state": {
            "_dom_classes": [],
            "_model_module": "@jupyter-widgets/controls",
            "_model_module_version": "1.5.0",
            "_model_name": "HTMLModel",
            "_view_count": null,
            "_view_module": "@jupyter-widgets/controls",
            "_view_module_version": "1.5.0",
            "_view_name": "HTMLView",
            "description": "",
            "description_tooltip": null,
            "layout": "IPY_MODEL_5bef1858bc2644d281a04b00ee734b80",
            "placeholder": "​",
            "style": "IPY_MODEL_fa3225dbfff740f8a35248dd536755cb",
            "value": " 23.0/23.0 [00:00&lt;00:00, 437B/s]"
          }
        },
        "16ddcde6782a4ce59dee7d77e0df02ad": {
          "model_module": "@jupyter-widgets/base",
          "model_name": "LayoutModel",
          "model_module_version": "1.2.0",
          "state": {
            "_model_module": "@jupyter-widgets/base",
            "_model_module_version": "1.2.0",
            "_model_name": "LayoutModel",
            "_view_count": null,
            "_view_module": "@jupyter-widgets/base",
            "_view_module_version": "1.2.0",
            "_view_name": "LayoutView",
            "align_content": null,
            "align_items": null,
            "align_self": null,
            "border": null,
            "bottom": null,
            "display": null,
            "flex": null,
            "flex_flow": null,
            "grid_area": null,
            "grid_auto_columns": null,
            "grid_auto_flow": null,
            "grid_auto_rows": null,
            "grid_column": null,
            "grid_gap": null,
            "grid_row": null,
            "grid_template_areas": null,
            "grid_template_columns": null,
            "grid_template_rows": null,
            "height": null,
            "justify_content": null,
            "justify_items": null,
            "left": null,
            "margin": null,
            "max_height": null,
            "max_width": null,
            "min_height": null,
            "min_width": null,
            "object_fit": null,
            "object_position": null,
            "order": null,
            "overflow": null,
            "overflow_x": null,
            "overflow_y": null,
            "padding": null,
            "right": null,
            "top": null,
            "visibility": null,
            "width": null
          }
        },
        "67da0189a7e04a24b9401bfe4e766a45": {
          "model_module": "@jupyter-widgets/base",
          "model_name": "LayoutModel",
          "model_module_version": "1.2.0",
          "state": {
            "_model_module": "@jupyter-widgets/base",
            "_model_module_version": "1.2.0",
            "_model_name": "LayoutModel",
            "_view_count": null,
            "_view_module": "@jupyter-widgets/base",
            "_view_module_version": "1.2.0",
            "_view_name": "LayoutView",
            "align_content": null,
            "align_items": null,
            "align_self": null,
            "border": null,
            "bottom": null,
            "display": null,
            "flex": null,
            "flex_flow": null,
            "grid_area": null,
            "grid_auto_columns": null,
            "grid_auto_flow": null,
            "grid_auto_rows": null,
            "grid_column": null,
            "grid_gap": null,
            "grid_row": null,
            "grid_template_areas": null,
            "grid_template_columns": null,
            "grid_template_rows": null,
            "height": null,
            "justify_content": null,
            "justify_items": null,
            "left": null,
            "margin": null,
            "max_height": null,
            "max_width": null,
            "min_height": null,
            "min_width": null,
            "object_fit": null,
            "object_position": null,
            "order": null,
            "overflow": null,
            "overflow_x": null,
            "overflow_y": null,
            "padding": null,
            "right": null,
            "top": null,
            "visibility": null,
            "width": null
          }
        },
        "da067ed19d6647a5a65cca6a9843a47f": {
          "model_module": "@jupyter-widgets/controls",
          "model_name": "DescriptionStyleModel",
          "model_module_version": "1.5.0",
          "state": {
            "_model_module": "@jupyter-widgets/controls",
            "_model_module_version": "1.5.0",
            "_model_name": "DescriptionStyleModel",
            "_view_count": null,
            "_view_module": "@jupyter-widgets/base",
            "_view_module_version": "1.2.0",
            "_view_name": "StyleView",
            "description_width": ""
          }
        },
        "52365f3d429445c68b7969d9defb62fd": {
          "model_module": "@jupyter-widgets/base",
          "model_name": "LayoutModel",
          "model_module_version": "1.2.0",
          "state": {
            "_model_module": "@jupyter-widgets/base",
            "_model_module_version": "1.2.0",
            "_model_name": "LayoutModel",
            "_view_count": null,
            "_view_module": "@jupyter-widgets/base",
            "_view_module_version": "1.2.0",
            "_view_name": "LayoutView",
            "align_content": null,
            "align_items": null,
            "align_self": null,
            "border": null,
            "bottom": null,
            "display": null,
            "flex": null,
            "flex_flow": null,
            "grid_area": null,
            "grid_auto_columns": null,
            "grid_auto_flow": null,
            "grid_auto_rows": null,
            "grid_column": null,
            "grid_gap": null,
            "grid_row": null,
            "grid_template_areas": null,
            "grid_template_columns": null,
            "grid_template_rows": null,
            "height": null,
            "justify_content": null,
            "justify_items": null,
            "left": null,
            "margin": null,
            "max_height": null,
            "max_width": null,
            "min_height": null,
            "min_width": null,
            "object_fit": null,
            "object_position": null,
            "order": null,
            "overflow": null,
            "overflow_x": null,
            "overflow_y": null,
            "padding": null,
            "right": null,
            "top": null,
            "visibility": null,
            "width": null
          }
        },
        "07b01561529649e8b0bdbc50dd8c21c9": {
          "model_module": "@jupyter-widgets/controls",
          "model_name": "ProgressStyleModel",
          "model_module_version": "1.5.0",
          "state": {
            "_model_module": "@jupyter-widgets/controls",
            "_model_module_version": "1.5.0",
            "_model_name": "ProgressStyleModel",
            "_view_count": null,
            "_view_module": "@jupyter-widgets/base",
            "_view_module_version": "1.2.0",
            "_view_name": "StyleView",
            "bar_color": null,
            "description_width": ""
          }
        },
        "5bef1858bc2644d281a04b00ee734b80": {
          "model_module": "@jupyter-widgets/base",
          "model_name": "LayoutModel",
          "model_module_version": "1.2.0",
          "state": {
            "_model_module": "@jupyter-widgets/base",
            "_model_module_version": "1.2.0",
            "_model_name": "LayoutModel",
            "_view_count": null,
            "_view_module": "@jupyter-widgets/base",
            "_view_module_version": "1.2.0",
            "_view_name": "LayoutView",
            "align_content": null,
            "align_items": null,
            "align_self": null,
            "border": null,
            "bottom": null,
            "display": null,
            "flex": null,
            "flex_flow": null,
            "grid_area": null,
            "grid_auto_columns": null,
            "grid_auto_flow": null,
            "grid_auto_rows": null,
            "grid_column": null,
            "grid_gap": null,
            "grid_row": null,
            "grid_template_areas": null,
            "grid_template_columns": null,
            "grid_template_rows": null,
            "height": null,
            "justify_content": null,
            "justify_items": null,
            "left": null,
            "margin": null,
            "max_height": null,
            "max_width": null,
            "min_height": null,
            "min_width": null,
            "object_fit": null,
            "object_position": null,
            "order": null,
            "overflow": null,
            "overflow_x": null,
            "overflow_y": null,
            "padding": null,
            "right": null,
            "top": null,
            "visibility": null,
            "width": null
          }
        },
        "fa3225dbfff740f8a35248dd536755cb": {
          "model_module": "@jupyter-widgets/controls",
          "model_name": "DescriptionStyleModel",
          "model_module_version": "1.5.0",
          "state": {
            "_model_module": "@jupyter-widgets/controls",
            "_model_module_version": "1.5.0",
            "_model_name": "DescriptionStyleModel",
            "_view_count": null,
            "_view_module": "@jupyter-widgets/base",
            "_view_module_version": "1.2.0",
            "_view_name": "StyleView",
            "description_width": ""
          }
        },
        "c5190cd22abe402a9b5a3cfa2d94dcc8": {
          "model_module": "@jupyter-widgets/controls",
          "model_name": "HBoxModel",
          "model_module_version": "1.5.0",
          "state": {
            "_dom_classes": [],
            "_model_module": "@jupyter-widgets/controls",
            "_model_module_version": "1.5.0",
            "_model_name": "HBoxModel",
            "_view_count": null,
            "_view_module": "@jupyter-widgets/controls",
            "_view_module_version": "1.5.0",
            "_view_name": "HBoxView",
            "box_style": "",
            "children": [
              "IPY_MODEL_2432b45682ef4d8485c385ba8a7c8e4a",
              "IPY_MODEL_7193bc4d33dc47c3ad2f5e3271fb1c5c",
              "IPY_MODEL_8d10512cc8234a8c83f909b4a4620861"
            ],
            "layout": "IPY_MODEL_bb5395b82d564e23a9646ab85c274147"
          }
        },
        "2432b45682ef4d8485c385ba8a7c8e4a": {
          "model_module": "@jupyter-widgets/controls",
          "model_name": "HTMLModel",
          "model_module_version": "1.5.0",
          "state": {
            "_dom_classes": [],
            "_model_module": "@jupyter-widgets/controls",
            "_model_module_version": "1.5.0",
            "_model_name": "HTMLModel",
            "_view_count": null,
            "_view_module": "@jupyter-widgets/controls",
            "_view_module_version": "1.5.0",
            "_view_name": "HTMLView",
            "description": "",
            "description_tooltip": null,
            "layout": "IPY_MODEL_248d1a6eb83c496a94eab3424b9bc49e",
            "placeholder": "​",
            "style": "IPY_MODEL_15c7c1f41a574f41b5c9bc9ab85661f9",
            "value": "special_tokens_map.json: 100%"
          }
        },
        "7193bc4d33dc47c3ad2f5e3271fb1c5c": {
          "model_module": "@jupyter-widgets/controls",
          "model_name": "FloatProgressModel",
          "model_module_version": "1.5.0",
          "state": {
            "_dom_classes": [],
            "_model_module": "@jupyter-widgets/controls",
            "_model_module_version": "1.5.0",
            "_model_name": "FloatProgressModel",
            "_view_count": null,
            "_view_module": "@jupyter-widgets/controls",
            "_view_module_version": "1.5.0",
            "_view_name": "ProgressView",
            "bar_style": "success",
            "description": "",
            "description_tooltip": null,
            "layout": "IPY_MODEL_b83acb54134a4d8f8bbee8f34413f90b",
            "max": 173,
            "min": 0,
            "orientation": "horizontal",
            "style": "IPY_MODEL_7583c6f069f8475dbd495ccfce629484",
            "value": 173
          }
        },
        "8d10512cc8234a8c83f909b4a4620861": {
          "model_module": "@jupyter-widgets/controls",
          "model_name": "HTMLModel",
          "model_module_version": "1.5.0",
          "state": {
            "_dom_classes": [],
            "_model_module": "@jupyter-widgets/controls",
            "_model_module_version": "1.5.0",
            "_model_name": "HTMLModel",
            "_view_count": null,
            "_view_module": "@jupyter-widgets/controls",
            "_view_module_version": "1.5.0",
            "_view_name": "HTMLView",
            "description": "",
            "description_tooltip": null,
            "layout": "IPY_MODEL_ed7476318f4b421ba5d5d780baf99bcf",
            "placeholder": "​",
            "style": "IPY_MODEL_bee2e0bcd04a41b8bc6cb8d753a2879b",
            "value": " 173/173 [00:00&lt;00:00, 7.72kB/s]"
          }
        },
        "bb5395b82d564e23a9646ab85c274147": {
          "model_module": "@jupyter-widgets/base",
          "model_name": "LayoutModel",
          "model_module_version": "1.2.0",
          "state": {
            "_model_module": "@jupyter-widgets/base",
            "_model_module_version": "1.2.0",
            "_model_name": "LayoutModel",
            "_view_count": null,
            "_view_module": "@jupyter-widgets/base",
            "_view_module_version": "1.2.0",
            "_view_name": "LayoutView",
            "align_content": null,
            "align_items": null,
            "align_self": null,
            "border": null,
            "bottom": null,
            "display": null,
            "flex": null,
            "flex_flow": null,
            "grid_area": null,
            "grid_auto_columns": null,
            "grid_auto_flow": null,
            "grid_auto_rows": null,
            "grid_column": null,
            "grid_gap": null,
            "grid_row": null,
            "grid_template_areas": null,
            "grid_template_columns": null,
            "grid_template_rows": null,
            "height": null,
            "justify_content": null,
            "justify_items": null,
            "left": null,
            "margin": null,
            "max_height": null,
            "max_width": null,
            "min_height": null,
            "min_width": null,
            "object_fit": null,
            "object_position": null,
            "order": null,
            "overflow": null,
            "overflow_x": null,
            "overflow_y": null,
            "padding": null,
            "right": null,
            "top": null,
            "visibility": null,
            "width": null
          }
        },
        "248d1a6eb83c496a94eab3424b9bc49e": {
          "model_module": "@jupyter-widgets/base",
          "model_name": "LayoutModel",
          "model_module_version": "1.2.0",
          "state": {
            "_model_module": "@jupyter-widgets/base",
            "_model_module_version": "1.2.0",
            "_model_name": "LayoutModel",
            "_view_count": null,
            "_view_module": "@jupyter-widgets/base",
            "_view_module_version": "1.2.0",
            "_view_name": "LayoutView",
            "align_content": null,
            "align_items": null,
            "align_self": null,
            "border": null,
            "bottom": null,
            "display": null,
            "flex": null,
            "flex_flow": null,
            "grid_area": null,
            "grid_auto_columns": null,
            "grid_auto_flow": null,
            "grid_auto_rows": null,
            "grid_column": null,
            "grid_gap": null,
            "grid_row": null,
            "grid_template_areas": null,
            "grid_template_columns": null,
            "grid_template_rows": null,
            "height": null,
            "justify_content": null,
            "justify_items": null,
            "left": null,
            "margin": null,
            "max_height": null,
            "max_width": null,
            "min_height": null,
            "min_width": null,
            "object_fit": null,
            "object_position": null,
            "order": null,
            "overflow": null,
            "overflow_x": null,
            "overflow_y": null,
            "padding": null,
            "right": null,
            "top": null,
            "visibility": null,
            "width": null
          }
        },
        "15c7c1f41a574f41b5c9bc9ab85661f9": {
          "model_module": "@jupyter-widgets/controls",
          "model_name": "DescriptionStyleModel",
          "model_module_version": "1.5.0",
          "state": {
            "_model_module": "@jupyter-widgets/controls",
            "_model_module_version": "1.5.0",
            "_model_name": "DescriptionStyleModel",
            "_view_count": null,
            "_view_module": "@jupyter-widgets/base",
            "_view_module_version": "1.2.0",
            "_view_name": "StyleView",
            "description_width": ""
          }
        },
        "b83acb54134a4d8f8bbee8f34413f90b": {
          "model_module": "@jupyter-widgets/base",
          "model_name": "LayoutModel",
          "model_module_version": "1.2.0",
          "state": {
            "_model_module": "@jupyter-widgets/base",
            "_model_module_version": "1.2.0",
            "_model_name": "LayoutModel",
            "_view_count": null,
            "_view_module": "@jupyter-widgets/base",
            "_view_module_version": "1.2.0",
            "_view_name": "LayoutView",
            "align_content": null,
            "align_items": null,
            "align_self": null,
            "border": null,
            "bottom": null,
            "display": null,
            "flex": null,
            "flex_flow": null,
            "grid_area": null,
            "grid_auto_columns": null,
            "grid_auto_flow": null,
            "grid_auto_rows": null,
            "grid_column": null,
            "grid_gap": null,
            "grid_row": null,
            "grid_template_areas": null,
            "grid_template_columns": null,
            "grid_template_rows": null,
            "height": null,
            "justify_content": null,
            "justify_items": null,
            "left": null,
            "margin": null,
            "max_height": null,
            "max_width": null,
            "min_height": null,
            "min_width": null,
            "object_fit": null,
            "object_position": null,
            "order": null,
            "overflow": null,
            "overflow_x": null,
            "overflow_y": null,
            "padding": null,
            "right": null,
            "top": null,
            "visibility": null,
            "width": null
          }
        },
        "7583c6f069f8475dbd495ccfce629484": {
          "model_module": "@jupyter-widgets/controls",
          "model_name": "ProgressStyleModel",
          "model_module_version": "1.5.0",
          "state": {
            "_model_module": "@jupyter-widgets/controls",
            "_model_module_version": "1.5.0",
            "_model_name": "ProgressStyleModel",
            "_view_count": null,
            "_view_module": "@jupyter-widgets/base",
            "_view_module_version": "1.2.0",
            "_view_name": "StyleView",
            "bar_color": null,
            "description_width": ""
          }
        },
        "ed7476318f4b421ba5d5d780baf99bcf": {
          "model_module": "@jupyter-widgets/base",
          "model_name": "LayoutModel",
          "model_module_version": "1.2.0",
          "state": {
            "_model_module": "@jupyter-widgets/base",
            "_model_module_version": "1.2.0",
            "_model_name": "LayoutModel",
            "_view_count": null,
            "_view_module": "@jupyter-widgets/base",
            "_view_module_version": "1.2.0",
            "_view_name": "LayoutView",
            "align_content": null,
            "align_items": null,
            "align_self": null,
            "border": null,
            "bottom": null,
            "display": null,
            "flex": null,
            "flex_flow": null,
            "grid_area": null,
            "grid_auto_columns": null,
            "grid_auto_flow": null,
            "grid_auto_rows": null,
            "grid_column": null,
            "grid_gap": null,
            "grid_row": null,
            "grid_template_areas": null,
            "grid_template_columns": null,
            "grid_template_rows": null,
            "height": null,
            "justify_content": null,
            "justify_items": null,
            "left": null,
            "margin": null,
            "max_height": null,
            "max_width": null,
            "min_height": null,
            "min_width": null,
            "object_fit": null,
            "object_position": null,
            "order": null,
            "overflow": null,
            "overflow_x": null,
            "overflow_y": null,
            "padding": null,
            "right": null,
            "top": null,
            "visibility": null,
            "width": null
          }
        },
        "bee2e0bcd04a41b8bc6cb8d753a2879b": {
          "model_module": "@jupyter-widgets/controls",
          "model_name": "DescriptionStyleModel",
          "model_module_version": "1.5.0",
          "state": {
            "_model_module": "@jupyter-widgets/controls",
            "_model_module_version": "1.5.0",
            "_model_name": "DescriptionStyleModel",
            "_view_count": null,
            "_view_module": "@jupyter-widgets/base",
            "_view_module_version": "1.2.0",
            "_view_name": "StyleView",
            "description_width": ""
          }
        },
        "10f2dee66fd94327996fc0e676d8e86f": {
          "model_module": "@jupyter-widgets/controls",
          "model_name": "HBoxModel",
          "model_module_version": "1.5.0",
          "state": {
            "_dom_classes": [],
            "_model_module": "@jupyter-widgets/controls",
            "_model_module_version": "1.5.0",
            "_model_name": "HBoxModel",
            "_view_count": null,
            "_view_module": "@jupyter-widgets/controls",
            "_view_module_version": "1.5.0",
            "_view_name": "HBoxView",
            "box_style": "",
            "children": [
              "IPY_MODEL_3a401cc4f75147e8a7666aaf3aa99c0d",
              "IPY_MODEL_56ab04e39b3d47cf9ac4386a19ab4175",
              "IPY_MODEL_2da2196c54b94da7941d481468ca9a5a"
            ],
            "layout": "IPY_MODEL_0a768daa5a444af686f2020e4815632a"
          }
        },
        "3a401cc4f75147e8a7666aaf3aa99c0d": {
          "model_module": "@jupyter-widgets/controls",
          "model_name": "HTMLModel",
          "model_module_version": "1.5.0",
          "state": {
            "_dom_classes": [],
            "_model_module": "@jupyter-widgets/controls",
            "_model_module_version": "1.5.0",
            "_model_name": "HTMLModel",
            "_view_count": null,
            "_view_module": "@jupyter-widgets/controls",
            "_view_module_version": "1.5.0",
            "_view_name": "HTMLView",
            "description": "",
            "description_tooltip": null,
            "layout": "IPY_MODEL_c8a27a0638df44f094bd6fdb08cbe3cd",
            "placeholder": "​",
            "style": "IPY_MODEL_3e26853beaa6424db502a31bd6a6b8f2",
            "value": "config.json: 100%"
          }
        },
        "56ab04e39b3d47cf9ac4386a19ab4175": {
          "model_module": "@jupyter-widgets/controls",
          "model_name": "FloatProgressModel",
          "model_module_version": "1.5.0",
          "state": {
            "_dom_classes": [],
            "_model_module": "@jupyter-widgets/controls",
            "_model_module_version": "1.5.0",
            "_model_name": "FloatProgressModel",
            "_view_count": null,
            "_view_module": "@jupyter-widgets/controls",
            "_view_module_version": "1.5.0",
            "_view_name": "ProgressView",
            "bar_style": "success",
            "description": "",
            "description_tooltip": null,
            "layout": "IPY_MODEL_1f66f6408afb4eddb49e990df5e4ae68",
            "max": 1093,
            "min": 0,
            "orientation": "horizontal",
            "style": "IPY_MODEL_6dde953c28c148c8a6d3e3b84a064976",
            "value": 1093
          }
        },
        "2da2196c54b94da7941d481468ca9a5a": {
          "model_module": "@jupyter-widgets/controls",
          "model_name": "HTMLModel",
          "model_module_version": "1.5.0",
          "state": {
            "_dom_classes": [],
            "_model_module": "@jupyter-widgets/controls",
            "_model_module_version": "1.5.0",
            "_model_name": "HTMLModel",
            "_view_count": null,
            "_view_module": "@jupyter-widgets/controls",
            "_view_module_version": "1.5.0",
            "_view_name": "HTMLView",
            "description": "",
            "description_tooltip": null,
            "layout": "IPY_MODEL_25b306dd9cf24e60b46116392f13436d",
            "placeholder": "​",
            "style": "IPY_MODEL_bc7824b8faf340d6843e72adb4468800",
            "value": " 1.09k/1.09k [00:00&lt;00:00, 19.6kB/s]"
          }
        },
        "0a768daa5a444af686f2020e4815632a": {
          "model_module": "@jupyter-widgets/base",
          "model_name": "LayoutModel",
          "model_module_version": "1.2.0",
          "state": {
            "_model_module": "@jupyter-widgets/base",
            "_model_module_version": "1.2.0",
            "_model_name": "LayoutModel",
            "_view_count": null,
            "_view_module": "@jupyter-widgets/base",
            "_view_module_version": "1.2.0",
            "_view_name": "LayoutView",
            "align_content": null,
            "align_items": null,
            "align_self": null,
            "border": null,
            "bottom": null,
            "display": null,
            "flex": null,
            "flex_flow": null,
            "grid_area": null,
            "grid_auto_columns": null,
            "grid_auto_flow": null,
            "grid_auto_rows": null,
            "grid_column": null,
            "grid_gap": null,
            "grid_row": null,
            "grid_template_areas": null,
            "grid_template_columns": null,
            "grid_template_rows": null,
            "height": null,
            "justify_content": null,
            "justify_items": null,
            "left": null,
            "margin": null,
            "max_height": null,
            "max_width": null,
            "min_height": null,
            "min_width": null,
            "object_fit": null,
            "object_position": null,
            "order": null,
            "overflow": null,
            "overflow_x": null,
            "overflow_y": null,
            "padding": null,
            "right": null,
            "top": null,
            "visibility": null,
            "width": null
          }
        },
        "c8a27a0638df44f094bd6fdb08cbe3cd": {
          "model_module": "@jupyter-widgets/base",
          "model_name": "LayoutModel",
          "model_module_version": "1.2.0",
          "state": {
            "_model_module": "@jupyter-widgets/base",
            "_model_module_version": "1.2.0",
            "_model_name": "LayoutModel",
            "_view_count": null,
            "_view_module": "@jupyter-widgets/base",
            "_view_module_version": "1.2.0",
            "_view_name": "LayoutView",
            "align_content": null,
            "align_items": null,
            "align_self": null,
            "border": null,
            "bottom": null,
            "display": null,
            "flex": null,
            "flex_flow": null,
            "grid_area": null,
            "grid_auto_columns": null,
            "grid_auto_flow": null,
            "grid_auto_rows": null,
            "grid_column": null,
            "grid_gap": null,
            "grid_row": null,
            "grid_template_areas": null,
            "grid_template_columns": null,
            "grid_template_rows": null,
            "height": null,
            "justify_content": null,
            "justify_items": null,
            "left": null,
            "margin": null,
            "max_height": null,
            "max_width": null,
            "min_height": null,
            "min_width": null,
            "object_fit": null,
            "object_position": null,
            "order": null,
            "overflow": null,
            "overflow_x": null,
            "overflow_y": null,
            "padding": null,
            "right": null,
            "top": null,
            "visibility": null,
            "width": null
          }
        },
        "3e26853beaa6424db502a31bd6a6b8f2": {
          "model_module": "@jupyter-widgets/controls",
          "model_name": "DescriptionStyleModel",
          "model_module_version": "1.5.0",
          "state": {
            "_model_module": "@jupyter-widgets/controls",
            "_model_module_version": "1.5.0",
            "_model_name": "DescriptionStyleModel",
            "_view_count": null,
            "_view_module": "@jupyter-widgets/base",
            "_view_module_version": "1.2.0",
            "_view_name": "StyleView",
            "description_width": ""
          }
        },
        "1f66f6408afb4eddb49e990df5e4ae68": {
          "model_module": "@jupyter-widgets/base",
          "model_name": "LayoutModel",
          "model_module_version": "1.2.0",
          "state": {
            "_model_module": "@jupyter-widgets/base",
            "_model_module_version": "1.2.0",
            "_model_name": "LayoutModel",
            "_view_count": null,
            "_view_module": "@jupyter-widgets/base",
            "_view_module_version": "1.2.0",
            "_view_name": "LayoutView",
            "align_content": null,
            "align_items": null,
            "align_self": null,
            "border": null,
            "bottom": null,
            "display": null,
            "flex": null,
            "flex_flow": null,
            "grid_area": null,
            "grid_auto_columns": null,
            "grid_auto_flow": null,
            "grid_auto_rows": null,
            "grid_column": null,
            "grid_gap": null,
            "grid_row": null,
            "grid_template_areas": null,
            "grid_template_columns": null,
            "grid_template_rows": null,
            "height": null,
            "justify_content": null,
            "justify_items": null,
            "left": null,
            "margin": null,
            "max_height": null,
            "max_width": null,
            "min_height": null,
            "min_width": null,
            "object_fit": null,
            "object_position": null,
            "order": null,
            "overflow": null,
            "overflow_x": null,
            "overflow_y": null,
            "padding": null,
            "right": null,
            "top": null,
            "visibility": null,
            "width": null
          }
        },
        "6dde953c28c148c8a6d3e3b84a064976": {
          "model_module": "@jupyter-widgets/controls",
          "model_name": "ProgressStyleModel",
          "model_module_version": "1.5.0",
          "state": {
            "_model_module": "@jupyter-widgets/controls",
            "_model_module_version": "1.5.0",
            "_model_name": "ProgressStyleModel",
            "_view_count": null,
            "_view_module": "@jupyter-widgets/base",
            "_view_module_version": "1.2.0",
            "_view_name": "StyleView",
            "bar_color": null,
            "description_width": ""
          }
        },
        "25b306dd9cf24e60b46116392f13436d": {
          "model_module": "@jupyter-widgets/base",
          "model_name": "LayoutModel",
          "model_module_version": "1.2.0",
          "state": {
            "_model_module": "@jupyter-widgets/base",
            "_model_module_version": "1.2.0",
            "_model_name": "LayoutModel",
            "_view_count": null,
            "_view_module": "@jupyter-widgets/base",
            "_view_module_version": "1.2.0",
            "_view_name": "LayoutView",
            "align_content": null,
            "align_items": null,
            "align_self": null,
            "border": null,
            "bottom": null,
            "display": null,
            "flex": null,
            "flex_flow": null,
            "grid_area": null,
            "grid_auto_columns": null,
            "grid_auto_flow": null,
            "grid_auto_rows": null,
            "grid_column": null,
            "grid_gap": null,
            "grid_row": null,
            "grid_template_areas": null,
            "grid_template_columns": null,
            "grid_template_rows": null,
            "height": null,
            "justify_content": null,
            "justify_items": null,
            "left": null,
            "margin": null,
            "max_height": null,
            "max_width": null,
            "min_height": null,
            "min_width": null,
            "object_fit": null,
            "object_position": null,
            "order": null,
            "overflow": null,
            "overflow_x": null,
            "overflow_y": null,
            "padding": null,
            "right": null,
            "top": null,
            "visibility": null,
            "width": null
          }
        },
        "bc7824b8faf340d6843e72adb4468800": {
          "model_module": "@jupyter-widgets/controls",
          "model_name": "DescriptionStyleModel",
          "model_module_version": "1.5.0",
          "state": {
            "_model_module": "@jupyter-widgets/controls",
            "_model_module_version": "1.5.0",
            "_model_name": "DescriptionStyleModel",
            "_view_count": null,
            "_view_module": "@jupyter-widgets/base",
            "_view_module_version": "1.2.0",
            "_view_name": "StyleView",
            "description_width": ""
          }
        },
        "692f75dc5c104507bc959da8c4291013": {
          "model_module": "@jupyter-widgets/controls",
          "model_name": "HBoxModel",
          "model_module_version": "1.5.0",
          "state": {
            "_dom_classes": [],
            "_model_module": "@jupyter-widgets/controls",
            "_model_module_version": "1.5.0",
            "_model_name": "HBoxModel",
            "_view_count": null,
            "_view_module": "@jupyter-widgets/controls",
            "_view_module_version": "1.5.0",
            "_view_name": "HBoxView",
            "box_style": "",
            "children": [
              "IPY_MODEL_b65c0a1d11d34058916071dc1dc3d8de",
              "IPY_MODEL_ea2e124b7afa471186eb5291f7df659c",
              "IPY_MODEL_c700de6d8a424d1b835c3df6b647b7e4"
            ],
            "layout": "IPY_MODEL_908a808cb2af44c5a20a82c7d5997f4a"
          }
        },
        "b65c0a1d11d34058916071dc1dc3d8de": {
          "model_module": "@jupyter-widgets/controls",
          "model_name": "HTMLModel",
          "model_module_version": "1.5.0",
          "state": {
            "_dom_classes": [],
            "_model_module": "@jupyter-widgets/controls",
            "_model_module_version": "1.5.0",
            "_model_name": "HTMLModel",
            "_view_count": null,
            "_view_module": "@jupyter-widgets/controls",
            "_view_module_version": "1.5.0",
            "_view_name": "HTMLView",
            "description": "",
            "description_tooltip": null,
            "layout": "IPY_MODEL_7a5a30714bc24600b762e0ea2903748c",
            "placeholder": "​",
            "style": "IPY_MODEL_7c19bb449f38485ca6ed7fd6a33e06c7",
            "value": "model.safetensors: 100%"
          }
        },
        "ea2e124b7afa471186eb5291f7df659c": {
          "model_module": "@jupyter-widgets/controls",
          "model_name": "FloatProgressModel",
          "model_module_version": "1.5.0",
          "state": {
            "_dom_classes": [],
            "_model_module": "@jupyter-widgets/controls",
            "_model_module_version": "1.5.0",
            "_model_name": "FloatProgressModel",
            "_view_count": null,
            "_view_module": "@jupyter-widgets/controls",
            "_view_module_version": "1.5.0",
            "_view_name": "ProgressView",
            "bar_style": "success",
            "description": "",
            "description_tooltip": null,
            "layout": "IPY_MODEL_f70ec99d5b7048e9aeb542898981afb7",
            "max": 557652046,
            "min": 0,
            "orientation": "horizontal",
            "style": "IPY_MODEL_987f85914b4c42149b133b9f2c28bdd6",
            "value": 557652046
          }
        },
        "c700de6d8a424d1b835c3df6b647b7e4": {
          "model_module": "@jupyter-widgets/controls",
          "model_name": "HTMLModel",
          "model_module_version": "1.5.0",
          "state": {
            "_dom_classes": [],
            "_model_module": "@jupyter-widgets/controls",
            "_model_module_version": "1.5.0",
            "_model_name": "HTMLModel",
            "_view_count": null,
            "_view_module": "@jupyter-widgets/controls",
            "_view_module_version": "1.5.0",
            "_view_name": "HTMLView",
            "description": "",
            "description_tooltip": null,
            "layout": "IPY_MODEL_89771f0e9fb44b0299619ba73abd6fdb",
            "placeholder": "​",
            "style": "IPY_MODEL_4d627250765c41f4b0aacaf9540a7413",
            "value": " 558M/558M [00:04&lt;00:00, 115MB/s]"
          }
        },
        "908a808cb2af44c5a20a82c7d5997f4a": {
          "model_module": "@jupyter-widgets/base",
          "model_name": "LayoutModel",
          "model_module_version": "1.2.0",
          "state": {
            "_model_module": "@jupyter-widgets/base",
            "_model_module_version": "1.2.0",
            "_model_name": "LayoutModel",
            "_view_count": null,
            "_view_module": "@jupyter-widgets/base",
            "_view_module_version": "1.2.0",
            "_view_name": "LayoutView",
            "align_content": null,
            "align_items": null,
            "align_self": null,
            "border": null,
            "bottom": null,
            "display": null,
            "flex": null,
            "flex_flow": null,
            "grid_area": null,
            "grid_auto_columns": null,
            "grid_auto_flow": null,
            "grid_auto_rows": null,
            "grid_column": null,
            "grid_gap": null,
            "grid_row": null,
            "grid_template_areas": null,
            "grid_template_columns": null,
            "grid_template_rows": null,
            "height": null,
            "justify_content": null,
            "justify_items": null,
            "left": null,
            "margin": null,
            "max_height": null,
            "max_width": null,
            "min_height": null,
            "min_width": null,
            "object_fit": null,
            "object_position": null,
            "order": null,
            "overflow": null,
            "overflow_x": null,
            "overflow_y": null,
            "padding": null,
            "right": null,
            "top": null,
            "visibility": null,
            "width": null
          }
        },
        "7a5a30714bc24600b762e0ea2903748c": {
          "model_module": "@jupyter-widgets/base",
          "model_name": "LayoutModel",
          "model_module_version": "1.2.0",
          "state": {
            "_model_module": "@jupyter-widgets/base",
            "_model_module_version": "1.2.0",
            "_model_name": "LayoutModel",
            "_view_count": null,
            "_view_module": "@jupyter-widgets/base",
            "_view_module_version": "1.2.0",
            "_view_name": "LayoutView",
            "align_content": null,
            "align_items": null,
            "align_self": null,
            "border": null,
            "bottom": null,
            "display": null,
            "flex": null,
            "flex_flow": null,
            "grid_area": null,
            "grid_auto_columns": null,
            "grid_auto_flow": null,
            "grid_auto_rows": null,
            "grid_column": null,
            "grid_gap": null,
            "grid_row": null,
            "grid_template_areas": null,
            "grid_template_columns": null,
            "grid_template_rows": null,
            "height": null,
            "justify_content": null,
            "justify_items": null,
            "left": null,
            "margin": null,
            "max_height": null,
            "max_width": null,
            "min_height": null,
            "min_width": null,
            "object_fit": null,
            "object_position": null,
            "order": null,
            "overflow": null,
            "overflow_x": null,
            "overflow_y": null,
            "padding": null,
            "right": null,
            "top": null,
            "visibility": null,
            "width": null
          }
        },
        "7c19bb449f38485ca6ed7fd6a33e06c7": {
          "model_module": "@jupyter-widgets/controls",
          "model_name": "DescriptionStyleModel",
          "model_module_version": "1.5.0",
          "state": {
            "_model_module": "@jupyter-widgets/controls",
            "_model_module_version": "1.5.0",
            "_model_name": "DescriptionStyleModel",
            "_view_count": null,
            "_view_module": "@jupyter-widgets/base",
            "_view_module_version": "1.2.0",
            "_view_name": "StyleView",
            "description_width": ""
          }
        },
        "f70ec99d5b7048e9aeb542898981afb7": {
          "model_module": "@jupyter-widgets/base",
          "model_name": "LayoutModel",
          "model_module_version": "1.2.0",
          "state": {
            "_model_module": "@jupyter-widgets/base",
            "_model_module_version": "1.2.0",
            "_model_name": "LayoutModel",
            "_view_count": null,
            "_view_module": "@jupyter-widgets/base",
            "_view_module_version": "1.2.0",
            "_view_name": "LayoutView",
            "align_content": null,
            "align_items": null,
            "align_self": null,
            "border": null,
            "bottom": null,
            "display": null,
            "flex": null,
            "flex_flow": null,
            "grid_area": null,
            "grid_auto_columns": null,
            "grid_auto_flow": null,
            "grid_auto_rows": null,
            "grid_column": null,
            "grid_gap": null,
            "grid_row": null,
            "grid_template_areas": null,
            "grid_template_columns": null,
            "grid_template_rows": null,
            "height": null,
            "justify_content": null,
            "justify_items": null,
            "left": null,
            "margin": null,
            "max_height": null,
            "max_width": null,
            "min_height": null,
            "min_width": null,
            "object_fit": null,
            "object_position": null,
            "order": null,
            "overflow": null,
            "overflow_x": null,
            "overflow_y": null,
            "padding": null,
            "right": null,
            "top": null,
            "visibility": null,
            "width": null
          }
        },
        "987f85914b4c42149b133b9f2c28bdd6": {
          "model_module": "@jupyter-widgets/controls",
          "model_name": "ProgressStyleModel",
          "model_module_version": "1.5.0",
          "state": {
            "_model_module": "@jupyter-widgets/controls",
            "_model_module_version": "1.5.0",
            "_model_name": "ProgressStyleModel",
            "_view_count": null,
            "_view_module": "@jupyter-widgets/base",
            "_view_module_version": "1.2.0",
            "_view_name": "StyleView",
            "bar_color": null,
            "description_width": ""
          }
        },
        "89771f0e9fb44b0299619ba73abd6fdb": {
          "model_module": "@jupyter-widgets/base",
          "model_name": "LayoutModel",
          "model_module_version": "1.2.0",
          "state": {
            "_model_module": "@jupyter-widgets/base",
            "_model_module_version": "1.2.0",
            "_model_name": "LayoutModel",
            "_view_count": null,
            "_view_module": "@jupyter-widgets/base",
            "_view_module_version": "1.2.0",
            "_view_name": "LayoutView",
            "align_content": null,
            "align_items": null,
            "align_self": null,
            "border": null,
            "bottom": null,
            "display": null,
            "flex": null,
            "flex_flow": null,
            "grid_area": null,
            "grid_auto_columns": null,
            "grid_auto_flow": null,
            "grid_auto_rows": null,
            "grid_column": null,
            "grid_gap": null,
            "grid_row": null,
            "grid_template_areas": null,
            "grid_template_columns": null,
            "grid_template_rows": null,
            "height": null,
            "justify_content": null,
            "justify_items": null,
            "left": null,
            "margin": null,
            "max_height": null,
            "max_width": null,
            "min_height": null,
            "min_width": null,
            "object_fit": null,
            "object_position": null,
            "order": null,
            "overflow": null,
            "overflow_x": null,
            "overflow_y": null,
            "padding": null,
            "right": null,
            "top": null,
            "visibility": null,
            "width": null
          }
        },
        "4d627250765c41f4b0aacaf9540a7413": {
          "model_module": "@jupyter-widgets/controls",
          "model_name": "DescriptionStyleModel",
          "model_module_version": "1.5.0",
          "state": {
            "_model_module": "@jupyter-widgets/controls",
            "_model_module_version": "1.5.0",
            "_model_name": "DescriptionStyleModel",
            "_view_count": null,
            "_view_module": "@jupyter-widgets/base",
            "_view_module_version": "1.2.0",
            "_view_name": "StyleView",
            "description_width": ""
          }
        }
      }
    }
  },
  "cells": [
    {
      "cell_type": "markdown",
      "source": [
        "# TASK 4: Word-in-Context (WiC) Disambiguation"
      ],
      "metadata": {
        "id": "VDG2aTc-tKLU"
      }
    },
    {
      "cell_type": "markdown",
      "source": [
        "# 1.0 Libraries"
      ],
      "metadata": {
        "id": "Y-T7VAYJtPU-"
      }
    },
    {
      "cell_type": "code",
      "source": [
        "import numpy as np\n",
        "import pandas as pd\n",
        "\n",
        "from google.colab import drive\n",
        "drive.mount('/content/gdrive')\n",
        "\n",
        "import json\n",
        "\n",
        "import torch\n",
        "from torch.distributions import Categorical\n",
        "from transformers import AutoTokenizer, AutoModelForSequenceClassification, AutoModel, AutoModelWithLMHead\n",
        "\n",
        "from transformers import BertForSequenceClassification, BertTokenizer\n",
        "\n",
        "from sklearn.metrics import accuracy_score, precision_score, recall_score, f1_score, confusion_matrix\n",
        "import seaborn as sns\n",
        "import matplotlib.pyplot as plt\n",
        "\n",
        "import warnings\n",
        "warnings.filterwarnings('ignore')\n",
        "\n",
        "import time"
      ],
      "metadata": {
        "colab": {
          "base_uri": "https://localhost:8080/"
        },
        "id": "hrv2SpXNxZws",
        "outputId": "af2e5246-d01b-43df-8e26-40a784607ab5"
      },
      "execution_count": 1,
      "outputs": [
        {
          "output_type": "stream",
          "name": "stdout",
          "text": [
            "Mounted at /content/gdrive\n"
          ]
        }
      ]
    },
    {
      "cell_type": "markdown",
      "source": [
        "# 2.0 Set up"
      ],
      "metadata": {
        "id": "vSozVrv9xvlr"
      }
    },
    {
      "cell_type": "code",
      "source": [
        "train_data_path = \"/content/gdrive/MyDrive/Colab Notebooks/MNLP - HW1 - task 4/Data/binary/train.jsonl\"\n",
        "dev_data_path = \"/content/gdrive/MyDrive/Colab Notebooks/MNLP - HW1 - task 4/Data/binary/dev.jsonl\"\n",
        "test_data_path = \"/content/gdrive/MyDrive/Colab Notebooks/MNLP - HW1 - task 4/Data/gold_truth/binary/test.jsonl\""
      ],
      "metadata": {
        "id": "HUXApY3hxeU1"
      },
      "execution_count": 2,
      "outputs": []
    },
    {
      "cell_type": "code",
      "source": [
        "def reformat_jsonl(input_path, output_path):\n",
        "  id_seq = 0\n",
        "  with open(input_path, \"r\") as input_file, open(output_path, \"w\") as output_file:\n",
        "    for line in input_file:\n",
        "      json_data = json.loads(line)\n",
        "      reformatted_json_data = {\n",
        "          \"id\" : id_seq,\n",
        "          \"lemma\" : json_data[\"lemma\"],\n",
        "          \"sentence1\" : json_data[\"sentence1\"],\n",
        "          \"sentence2\" : json_data[\"sentence2\"],\n",
        "          \"start1\" : json_data[\"start1\"],\n",
        "          \"end1\" : json_data[\"end1\"],\n",
        "          \"start2\" : json_data[\"start2\"],\n",
        "          \"end2\" : json_data[\"end2\"],\n",
        "          \"choices\" : [\"Ambiguo\", \"Non ambiguo\"],\n",
        "          \"label\" : json_data[\"label\"]\n",
        "      }\n",
        "      json.dump(reformatted_json_data, output_file)\n",
        "      output_file.write('\\n')\n",
        "      id_seq += 1\n",
        "\n",
        "def read_lines_jsonl(file_path, num_lines):\n",
        "  with open(file_path, 'r') as f:\n",
        "    json_list = list(f)\n",
        "    for line in json_list[:num_lines]:\n",
        "      data = json.loads(line)\n",
        "      print(data)"
      ],
      "metadata": {
        "id": "qcDPIrIU1KjC"
      },
      "execution_count": 3,
      "outputs": []
    },
    {
      "cell_type": "code",
      "source": [
        "# italian train data\n",
        "reformat_jsonl(train_data_path, \"WiC-ITA_train.jsonl\")\n",
        "read_lines_jsonl(\"WiC-ITA_train.jsonl\", num_lines = 10) # preview of the first 10 lines"
      ],
      "metadata": {
        "colab": {
          "base_uri": "https://localhost:8080/"
        },
        "id": "pufPi-sE3dSM",
        "outputId": "b11f824f-1740-442f-f298-7eb7d2e099ed"
      },
      "execution_count": 4,
      "outputs": [
        {
          "output_type": "stream",
          "name": "stdout",
          "text": [
            "{'id': 0, 'lemma': 'affare', 'sentence1': 'E visto che mi lascia GPS , Ecoscandaglio , TUTTE le dotazioni obbligatorie in ottimo stato ( razzi nuovi , ecc ) un sacco di cime ( due ancora nuove imballate ) , gonfiatore , pezzi vari di ricambio , ecc ecc ecc con un supplemento è affare fatto .', 'sentence2': 'La rivista nordamericana segnala come presunti sospetti il milionario e potente della stampa venezuelana , Gustavo Cisnero , che avrebbe ricevuto istruzioni da Otto Reich , massimo responsabile della Casa Bianca per gli Affari Latinoamericani .', 'start1': 235, 'end1': 241, 'start2': 220, 'end2': 226, 'choices': ['Ambiguo', 'Non ambiguo'], 'label': 0}\n",
            "{'id': 1, 'lemma': 'elemento', 'sentence1': \"In particolare , l' elemento più scandaloso del provvedimento che ci accingiamo a votare è rappresentato dagli articoli 7 e 8 su cui , questa mattina , abbiamo condotto , come opposizione , una lunga battaglia di buon senso .\", 'sentence2': 'Il Fondo mostra di apprezzare \" certi elementi di maggiore flessibilita\\' del patto di stabilita\\' , mentre si rammarica per la vaghezza di altre \" .', 'start1': 20, 'end1': 28, 'start2': 38, 'end2': 46, 'choices': ['Ambiguo', 'Non ambiguo'], 'label': 1}\n",
            "{'id': 2, 'lemma': 'maschera', 'sentence1': \"In questo caso , dal momento che l' indirizzo 192.168.1.1 appartiene alla classe C , la maschera di rete predefinita sarebbe stata la stessa di quella che è stata indicata esplicitamente .\", 'sentence2': \"Attenti ai teletrasporti , ai passaggi segreti , alle navi nelle bottiglie , ai cristalli , alla Maschera del Male , alle guardie , all' oro , alle trappole ed ai tradimenti .\", 'start1': 88, 'end1': 96, 'start2': 97, 'end2': 105, 'choices': ['Ambiguo', 'Non ambiguo'], 'label': 0}\n",
            "{'id': 3, 'lemma': 'gruppo', 'sentence1': \"All' esercitazione hanno preso parte anche le associazioni di volontariato e Coordinamento delle associazioni dei gruppi comunali ed intercomunali di protezione civile della provincia di Torino .\", 'sentence2': '20 - 21 luglio - Genova : guerriglia dei black bloc ma la polizia manganella i pacifisti · Il gruppo di affinità bolognese di Rete Lilliput racconta : \" La giornata è iniziata con tante aspettative e molta partecipazione .', 'start1': 114, 'end1': 120, 'start2': 94, 'end2': 100, 'choices': ['Ambiguo', 'Non ambiguo'], 'label': 1}\n",
            "{'id': 4, 'lemma': 'accettare', 'sentence1': \"A tal fine fa fede il timbro a data dell' Ufficio postale accettante o il timbro protocollo di arrivo apposto sulla busta consegnata a mano .\", 'sentence2': 'Questo avvenne proprio perché non si voleva accettare la pacificazione e vi era ancora chi intendeva contrapporre ai valori della Repubblica le ragioni degli sconfitti .', 'start1': 58, 'end1': 68, 'start2': 44, 'end2': 53, 'choices': ['Ambiguo', 'Non ambiguo'], 'label': 0}\n",
            "{'id': 5, 'lemma': 'sciogliere', 'sentence1': \"Data di invio 10 - 01 - 2004 18:16:32 Recensione di mariaelena CANEDERLI Rimango dell' opinione che nei Knoedel vada lo Speck possibilkmente prima passato in padella con aglio e cipolla e prezzemolo per sciogliere il grasso .\", 'sentence2': 'Per ora i sondaggi assegnano a EHAK dai 4 ai 6 seggi , mentre nel consiglio appena sciolto Batasuna ne aveva 7 .', 'start1': 203, 'end1': 213, 'start2': 83, 'end2': 90, 'choices': ['Ambiguo', 'Non ambiguo'], 'label': 0}\n",
            "{'id': 6, 'lemma': 'superare', 'sentence1': 'Non sente ancora il \" peso \" della gravidanza perché l\\' aumento dell\\' addome è contenuto e i timori dei primi mesi sono ormai superati .', 'sentence2': 'I provvedimenti di utilizzazione possono essere adottati soltanto nei riguardi di personale che abbia superato il periodo di prova .', 'start1': 126, 'end1': 134, 'start2': 102, 'end2': 110, 'choices': ['Ambiguo', 'Non ambiguo'], 'label': 1}\n",
            "{'id': 7, 'lemma': 'ufficio', 'sentence1': 'Regolamento 1996 D 33 Gran Sasso e Monti della Laga Istituzione Ufficio commerciale 1997 D 34 Gran Sasso e Monti della Laga Sistema classificazione atti 1997 D 35 Gran Sasso e Monti della Laga Servizio di economato e cassa interna .', 'sentence2': \"L' atto di accertamento del risultato del referendum evidenzia in modo distinto l' esito della consultazione negli uffici di sezione elettorali ricompresi nel territorio individuato dalla proposta di legge regionale istitutiva del nuovo comune .\", 'start1': 64, 'end1': 71, 'start2': 115, 'end2': 121, 'choices': ['Ambiguo', 'Non ambiguo'], 'label': 1}\n",
            "{'id': 8, 'lemma': 'consumare', 'sentence1': 'Se assunti per via orale , gli oli essenziali , tranne in casi particolari , non devono essere consumati puri ma con una zolletta di zucchero .', 'sentence2': 'Personalmente , di problemi di ritardi non ho mai sofferto , nemmeno con i primissimi Mouseman cordless ( uno dei quali mi ha accompagnato per diversi anni , fino a quando pallina e tasti erano completamente consumati ) .', 'start1': 95, 'end1': 104, 'start2': 208, 'end2': 217, 'choices': ['Ambiguo', 'Non ambiguo'], 'label': 0}\n",
            "{'id': 9, 'lemma': 'larghezza', 'sentence1': 'ed è lunga 17,5 km. , con una larghezza massima di 6,4 km. ; geograficamente è divisa in quattro zone collinari e la cima più alta è Punta della Scomunica alta 408 m ...', 'sentence2': 'In ogni caso , la larghezza delle dimensioni nascoste non può essere superiore a un millimetro circa , come stabilito in un punto precedente ( Prova 1 ) , anche se esistono limitazioni più stringenti .', 'start1': 30, 'end1': 39, 'start2': 18, 'end2': 27, 'choices': ['Ambiguo', 'Non ambiguo'], 'label': 1}\n"
          ]
        }
      ]
    },
    {
      "cell_type": "code",
      "source": [
        "# italian test data\n",
        "reformat_jsonl(test_data_path, \"WiC-ITA_test.jsonl\")\n",
        "read_lines_jsonl(\"WiC-ITA_test.jsonl\", num_lines = 10) # preview of the first 10 lines"
      ],
      "metadata": {
        "colab": {
          "base_uri": "https://localhost:8080/"
        },
        "id": "EI-Gi73Y3h1p",
        "outputId": "67df33b2-1c85-438e-defb-27015475507a"
      },
      "execution_count": 5,
      "outputs": [
        {
          "output_type": "stream",
          "name": "stdout",
          "text": [
            "{'id': 0, 'lemma': 'minore', 'sentence1': \"Dopo innumerevoli provini sono stati scelti 15 attori per i ruoli principali , 200 per le parti minori e quasi 4000 comparse che animeranno le 24 puntate da 50 minuti ognuna trasmesse ogni domenica con due episodi l' uno di seguito all' altro .\", 'sentence2': 'Il direttore di Micromega ha detto che , dopo questi due giorni , ci troviamo di fronte alla scelta fra un bene e un male minore .', 'start1': 96, 'end1': 102, 'start2': 122, 'end2': 128, 'choices': ['Ambiguo', 'Non ambiguo'], 'label': 1}\n",
            "{'id': 1, 'lemma': 'rigore', 'sentence1': \"44 ' st Napoli vicinissimo al gol con Floro Flores lanciato in area di rigore da un colpo di testa di Stellone : sull' incursione dell' attaccante napoletano Casazza con un' uscita disperata riesce a respingere in angolo .\", 'sentence2': \"Nell' altra semifinale i simpaticissimi e tecnicamente validissimi ragazzi di Torino avevano la meglio ai calci di rigore della sezione di Roma 2 , dopo che i tempi regolamentari si erano chiusi sullo 0 - 0 .\", 'start1': 71, 'end1': 77, 'start2': 115, 'end2': 121, 'choices': ['Ambiguo', 'Non ambiguo'], 'label': 1}\n",
            "{'id': 2, 'lemma': 'asta', 'sentence1': \"Allora , sia l' addestratore che Louis Knie persero la pazienza e ricorsero ad una asta metallica portante all' apice un uncino , il quale fu spinto e poi tirato sull' elefantessa .\", 'sentence2': \"In Italia l' asta si è appena conclusa con un ricavo da parte dello Stato di circa 20 mila miliardi sui 40 mila previsti .\", 'start1': 83, 'end1': 87, 'start2': 13, 'end2': 17, 'choices': ['Ambiguo', 'Non ambiguo'], 'label': 0}\n",
            "{'id': 3, 'lemma': 'formazione', 'sentence1': 'Lo scopo della formazione è di colmare tale differenza identificando e realizzando idonei percorsi formativi .', 'sentence2': \"L' attivita' didattica per la formazione comune dei laureati in giurisprudenza e' svolta anche da magistrati , avvocati e notai .\", 'start1': 15, 'end1': 25, 'start2': 30, 'end2': 40, 'choices': ['Ambiguo', 'Non ambiguo'], 'label': 1}\n",
            "{'id': 4, 'lemma': 'chiave', 'sentence1': \"Ho deciso di reinstallare tutto da capo , perche' RH non mi piace tantissimo e ho letto cose strabilianti su Mandrake 10.1 , ad esempio non riesco a vedere la mia chiave USB ne' la fotocamera .\", 'sentence2': 'Suggerendo le tre T : variabili chiave per creatività e successo - Talento , Tecnologia , Tolleranza ( verso artisti , gay , bohemien , diversi ) - si classifica già fra gli amanti di giaculatorie e allitterazioni .', 'start1': 163, 'end1': 169, 'start2': 32, 'end2': 38, 'choices': ['Ambiguo', 'Non ambiguo'], 'label': 0}\n",
            "{'id': 5, 'lemma': 'comprendere', 'sentence1': \"Né , peraltro , è dato comprendere a che titolo l' organo esecutivo della Regione abbia ratificato , attesa la espressa dichiarazione di conformità dell' Auditorium al PUT .\", 'sentence2': \"Non comprendono o non vogliono comprendere che dietro un grande risultato vi è un duro allenamento e molti sacrifici e che per poter conseguire risultati analoghi questa è l' unica strada percorribile .\", 'start1': 23, 'end1': 34, 'start2': 31, 'end2': 42, 'choices': ['Ambiguo', 'Non ambiguo'], 'label': 1}\n",
            "{'id': 6, 'lemma': 'minore', 'sentence1': \"Esiste un limite , però , che risiede nell' escludere la possibilità che siano tollerati comportamenti lesivi del diritto altrui ; ed , inoltre che vi sia alla base un accordo tra i coniugi , soprattutto in relazione all' educazione del minore .\", 'sentence2': 'Infatti ogni religione istituzionalizzata annette importanza maggiore o minore alla propagazione e quindi alla propaganda del suo credo e dei suoi riti .', 'start1': 237, 'end1': 243, 'start2': 72, 'end2': 78, 'choices': ['Ambiguo', 'Non ambiguo'], 'label': 0}\n",
            "{'id': 7, 'lemma': 'bomba', 'sentence1': \"È probabilmente più facile credere alla veridicità delle bombe calcistiche di Maurizio Mosca che non all' esistenza della temibilissima Bomba Moreno .\", 'sentence2': \"Presentava ferite di mitra e di schegge di bombe all' emitorace posteriore sinistro , alla regione sottomascellare destra ed alla fronte .\", 'start1': 136, 'end1': 141, 'start2': 43, 'end2': 48, 'choices': ['Ambiguo', 'Non ambiguo'], 'label': 0}\n",
            "{'id': 8, 'lemma': 'battere', 'sentence1': \"Sotto il profilo culturale , il movimento si batte per l' affermazione dei valori propri della Destra , ma anche per recuperare alla centralità del dibattito politico la nuova questione meridionale nel quadro europeo e mediterraneo .\", 'sentence2': \"« Se quella Camera è un laborato per la formazione di una cultura politica radicale per me va benissimo , ma se invece l' idea è quella di battere strade organizzative e federative , allora non ci interessa » .\", 'start1': 45, 'end1': 50, 'start2': 139, 'end2': 146, 'choices': ['Ambiguo', 'Non ambiguo'], 'label': 0}\n",
            "{'id': 9, 'lemma': 'gamma', 'sentence1': \"E ormai non si tratta solo terre o risorse naturali , ma di un' amplissima gamma di beni e servizi necessari alla sussistenza degli umani e al loro benessere collettivo .\", 'sentence2': \"Tale processo potrebbe giungere allo stadio di una comune supernova poco prima dell' esplosione che origina l' emissione dei raggi gamma .\", 'start1': 75, 'end1': 80, 'start2': 131, 'end2': 136, 'choices': ['Ambiguo', 'Non ambiguo'], 'label': 0}\n"
          ]
        }
      ]
    },
    {
      "cell_type": "code",
      "source": [
        "# italian dev data\n",
        "reformat_jsonl(dev_data_path, \"WiC-ITA_dev.jsonl\")\n",
        "read_lines_jsonl(\"WiC-ITA_dev.jsonl\", num_lines = 10) # preview of the first 10 lines"
      ],
      "metadata": {
        "colab": {
          "base_uri": "https://localhost:8080/"
        },
        "id": "MBFOhHKa6Cze",
        "outputId": "9836d9cb-b0c0-4280-8277-514448743133"
      },
      "execution_count": 6,
      "outputs": [
        {
          "output_type": "stream",
          "name": "stdout",
          "text": [
            "{'id': 0, 'lemma': 'delicatezza', 'sentence1': 'Il presidente AZZOLLINI , stante la delicatezza dei temi oggetto del provvedimento , ritiene opportuno richiedere la predisposizione di una relazione tecnica .', 'sentence2': 'Montare la panna senza zucchero in modo che diventi molto solida , quindi unirla al composto avendo cura di mescolarla con molta delicatezza .', 'start1': 36, 'end1': 47, 'start2': 129, 'end2': 140, 'choices': ['Ambiguo', 'Non ambiguo'], 'label': 0}\n",
            "{'id': 1, 'lemma': 'fede', 'sentence1': \"Per quanto riguarda gli adolescenti l' indagine rileva che la fede risulta più diffusa tra le ragazze : il 76,4 % delle adolescenti è credente , contro il 71,1 % dei coetanei di sesso maschile .\", 'sentence2': 'Quando un datore di lavoro viene perseguito in ottemperanza alle disposizioni adottate in virtù del presente articolo , egli deve avere il diritto di produrre la prova della propria buona fede .', 'start1': 62, 'end1': 66, 'start2': 188, 'end2': 192, 'choices': ['Ambiguo', 'Non ambiguo'], 'label': 0}\n",
            "{'id': 2, 'lemma': 'età', 'sentence1': \"In particolare il numero delle matricine non dovrà essere inferiore alle 180 ad ettaro , di cui 100 dell' età del turno ed 80 ripartite fra le classi di età superiore .\", 'sentence2': \"Nell' età cosiddetta industriale , lo sfruttamento economico dei più piccoli era il prodotto della povertà estrema di ampie fasce della popolazione .\", 'start1': 153, 'end1': 156, 'start2': 6, 'end2': 9, 'choices': ['Ambiguo', 'Non ambiguo'], 'label': 0}\n",
            "{'id': 3, 'lemma': 'visione', 'sentence1': \"Manca un chiaro progetto unitario , che poggi su una visione realistica della storia e dei tempi attuali e futuri , del nuovo baricentro geopolitico del mondo , che guidi e orienti coerentemente le scelte e le iniziative dell' UE .\", 'sentence2': \"I Liberi Muratori , respingendo logiche di assimilazione e visioni monoculturali , affermano l' eguaglianza nella diversità ed il rispetto reciproco fra le varie componenti della società .\", 'start1': 53, 'end1': 60, 'start2': 59, 'end2': 66, 'choices': ['Ambiguo', 'Non ambiguo'], 'label': 1}\n",
            "{'id': 4, 'lemma': 'vittima', 'sentence1': 'Ci sono ancora milioni di mine antiuomo che continuano a distruggere popolazioni in tutto il mondo : ogni anno si registrano migliaia di vittime , e un impoverimento delle comunità colpite .', 'sentence2': 'Londra , pensieri per le vittime Un \" book of condolence \" ( libro di condoglianze ) per non dimenticare .', 'start1': 137, 'end1': 144, 'start2': 25, 'end2': 32, 'choices': ['Ambiguo', 'Non ambiguo'], 'label': 1}\n",
            "{'id': 5, 'lemma': 'territorio', 'sentence1': \"Cacciato dal regno , egli chiese l' aiuto dei Lango bardi ed alla testa di numerose milizie riuscì a rioccupare il territorio Cherusco .\", 'sentence2': 'Per questo , la campagna \" Una speranza per il futuro \" sarà in due tappe : questa prima di intervento con i ragazzi attraverso il Diario e altro materiale e successivamente di intervento sul territorio con strutture e attrezzature .', 'start1': 115, 'end1': 125, 'start2': 192, 'end2': 202, 'choices': ['Ambiguo', 'Non ambiguo'], 'label': 1}\n",
            "{'id': 6, 'lemma': 'assumere', 'sentence1': \"LORENZO ALBERGHINI - dentista Ho aperto l' attività l' anno scorso , ho assunto due assistenti e un igienista .\", 'sentence2': '\" Mentre fino agli anni Ottanta si assumeva una sola sostanza , oggi il mercato è sfaccettato , indefinito .', 'start1': 72, 'end1': 79, 'start2': 35, 'end2': 43, 'choices': ['Ambiguo', 'Non ambiguo'], 'label': 0}\n",
            "{'id': 7, 'lemma': 'civile', 'sentence1': 'Vorremmo farlo praticando il metodo della CONCERTAZIONE partecipando e condividendo cioè , il più possibile , i contenuti con tutte forze rappresentate nella società civile , e non rinchiudendoci in questo Palazzo .', 'sentence2': 'Il terzo comma dell\\' articolo 66 del codice di procedura civile è sostituito dal seguente : \" Il provvedimento di sostituzione è dato , con ordinanza non impugnabile , dal giudice di cui all\\' articolo 65 , secondo comma .', 'start1': 166, 'end1': 172, 'start2': 57, 'end2': 63, 'choices': ['Ambiguo', 'Non ambiguo'], 'label': 1}\n",
            "{'id': 8, 'lemma': 'complesso', 'sentence1': 'Infine queste norme di spaziamento edilizio tendono a risolvere la città in un complesso urbano policentrico composto di quartieri staccati residenziali ( ted .', 'sentence2': 'Nel complesso il Candidato è in possesso di buoni requisiti per accedere alla valutazione conclusiva .', 'start1': 79, 'end1': 88, 'start2': 4, 'end2': 13, 'choices': ['Ambiguo', 'Non ambiguo'], 'label': 0}\n",
            "{'id': 9, 'lemma': 'tempo', 'sentence1': 'Bazin de Bezons , il giansenista Guillaume Besaucèle , sarà così popolare tra i nemici della Chiesa da essere eletto , al tempo della Rivoluzione , vescovo costituzionale di Aude .', 'sentence2': 'La visione di più oggetti celesti richiede lo spostamento e riallineamento del telescopio per ciascun oggetto : la disponibilità di una coppia strumenti in locali di osservazione diversi dimezza i relativi tempi .', 'start1': 122, 'end1': 127, 'start2': 206, 'end2': 211, 'choices': ['Ambiguo', 'Non ambiguo'], 'label': 0}\n"
          ]
        }
      ]
    },
    {
      "cell_type": "markdown",
      "source": [
        "# 3.0 Prompt formulation"
      ],
      "metadata": {
        "id": "yz9GlasH6Yhk"
      }
    },
    {
      "cell_type": "code",
      "source": [
        "prompts = [\n",
        "    \"Il significato della parola '{lemma}' risulta (Ambiguo) o (Non ambiguo) nella frase '{sentence1}' e nella frase '{sentence2}'?\",\n",
        "    \"Confronta le frasi '{sentence1}' e '{sentence2}' per determinare se il significato della parola '{lemma}' è (Ambiguo) o (Non ambiguo)\",\n",
        "    \"Valuta se il significato della parola '{lemma}' risulta essere (Ambiguo) o (Non Ambiguo) nella frase '{sentence1}' e nella frase '{sentence2}'.\"\n",
        "]"
      ],
      "metadata": {
        "id": "dWCd836P6RA2"
      },
      "execution_count": 7,
      "outputs": []
    },
    {
      "cell_type": "code",
      "source": [
        "print(''.join(prompt + '\\n\\n' for prompt in prompts), end='')"
      ],
      "metadata": {
        "colab": {
          "base_uri": "https://localhost:8080/"
        },
        "id": "oBuV4meXNJk2",
        "outputId": "c96a8e69-4841-47a3-d9c7-78ba8ca26f2e"
      },
      "execution_count": 8,
      "outputs": [
        {
          "output_type": "stream",
          "name": "stdout",
          "text": [
            "Il significato della parola '{lemma}' risulta (Ambiguo) o (Non ambiguo) nella frase '{sentence1}' e nella frase '{sentence2}'?\n",
            "\n",
            "Confronta le frasi '{sentence1}' e '{sentence2}' per determinare se il significato della parola '{lemma}' è (Ambiguo) o (Non ambiguo)\n",
            "\n",
            "Valuta se il significato della parola '{lemma}' risulta essere (Ambiguo) o (Non Ambiguo) nella frase '{sentence1}' e nella frase '{sentence2}'.\n",
            "\n"
          ]
        }
      ]
    },
    {
      "cell_type": "code",
      "source": [
        "def save_prompts_jsonl(prompts, file_path):\n",
        "  json_prompts = []\n",
        "  for prompt in prompts:\n",
        "    json_prompts.append({\"prompt\": prompt})\n",
        "\n",
        "  with open(file_path, \"w\") as output_file:\n",
        "    for json_prompt in json_prompts:\n",
        "      json.dump(json_prompt, output_file)\n",
        "      output_file.write(\"\\n\")"
      ],
      "metadata": {
        "id": "gVxFzCpI6hLe"
      },
      "execution_count": 9,
      "outputs": []
    },
    {
      "cell_type": "code",
      "source": [
        "save_prompts_jsonl(prompts, \"WiC-ITA_prompts.jsonl\")\n",
        "read_lines_jsonl(\"WiC-ITA_prompts.jsonl\", num_lines = 3)"
      ],
      "metadata": {
        "colab": {
          "base_uri": "https://localhost:8080/"
        },
        "id": "fhcoYPrT6kh7",
        "outputId": "8428cb6c-baf0-4b8d-aa25-eaa69ab7c59d"
      },
      "execution_count": 10,
      "outputs": [
        {
          "output_type": "stream",
          "name": "stdout",
          "text": [
            "{'prompt': \"Il significato della parola '{lemma}' risulta (Ambiguo) o (Non ambiguo) nella frase '{sentence1}' e nella frase '{sentence2}'?\"}\n",
            "{'prompt': \"Confronta le frasi '{sentence1}' e '{sentence2}' per determinare se il significato della parola '{lemma}' è (Ambiguo) o (Non ambiguo)\"}\n",
            "{'prompt': \"Valuta se il significato della parola '{lemma}' risulta essere (Ambiguo) o (Non Ambiguo) nella frase '{sentence1}' e nella frase '{sentence2}'.\"}\n"
          ]
        }
      ]
    },
    {
      "cell_type": "markdown",
      "source": [
        "# 4.0 Performance Evaluation"
      ],
      "metadata": {
        "id": "YYQtA9hqQQVb"
      }
    },
    {
      "cell_type": "code",
      "source": [
        "device = torch.device(\"cuda\") if torch.cuda.is_available() else torch.device(\"cpu\")\n",
        "device"
      ],
      "metadata": {
        "colab": {
          "base_uri": "https://localhost:8080/"
        },
        "id": "nMRLQpMKFm0a",
        "outputId": "e88f73b1-fb77-4508-d7b5-2470e14af1c3"
      },
      "execution_count": 11,
      "outputs": [
        {
          "output_type": "execute_result",
          "data": {
            "text/plain": [
              "device(type='cuda')"
            ]
          },
          "metadata": {},
          "execution_count": 11
        }
      ]
    },
    {
      "cell_type": "code",
      "source": [
        "def evaluate_prompt(tokenizer, model, prompt, data_file):\n",
        "  formatted_prompts, y_true, y_pred, score = [], [], [], []\n",
        "\n",
        "  with open(data_file, \"r\") as f:\n",
        "    json_data = list(f)\n",
        "    for line in json_data:\n",
        "      pair = json.loads(line)\n",
        "      id = pair['id']\n",
        "      lemma = pair['lemma']\n",
        "      sentence1 = pair['sentence1']\n",
        "      sentence2 =  pair['sentence2']\n",
        "      start1 = pair['start1']\n",
        "      end1 = pair['end1']\n",
        "      start2 = pair['start2']\n",
        "      end2 = pair['end2']\n",
        "      choices = pair['choices']\n",
        "      label = pair['label']\n",
        "\n",
        "      formatted_prompt = prompt.format(lemma = lemma, sentence1 = sentence1, sentence2 = sentence2)\n",
        "      input = tokenizer(formatted_prompt, truncation=True, return_tensors = \"pt\").to(device)\n",
        "\n",
        "      with torch.no_grad():\n",
        "        output = model(input[\"input_ids\"].to(device))\n",
        "\n",
        "      probabilities = torch.softmax(output[\"logits\"][0], -1).tolist()\n",
        "      normalized_probabilities = [prob / sum(probabilities[:2]) for prob in probabilities[:2]]\n",
        "      predicted_label = np.argmax(normalized_probabilities)\n",
        "      prediction_score = normalized_probabilities[predicted_label]\n",
        "\n",
        "      formatted_prompts.append(formatted_prompt)\n",
        "      y_true.append(label)\n",
        "      y_pred.append(predicted_label)\n",
        "      score.append(prediction_score)\n",
        "\n",
        "    return formatted_prompts, y_true, y_pred, score\n",
        "\n",
        "\n",
        "def visualize_results(results, num_results):\n",
        "  choices = [\"Ambiguo\", \"Non Ambiguo\"]\n",
        "  for prompt in range(len(results)):\n",
        "    for n in range(num_results):\n",
        "      print(\"Prompt: \", results[prompt][0][n])\n",
        "      print(\"True label: \", choices[results[prompt][1][n]])\n",
        "      print(\"Predicted label: \", choices[results[prompt][2][n]])\n",
        "      print(\"Prediction score: \", round(results[prompt][3][n], 3))\n",
        "      print(\"----------------------------------------------------------------\")\n",
        "      print(\" \")"
      ],
      "metadata": {
        "id": "SDgh4qfxDmh-"
      },
      "execution_count": 12,
      "outputs": []
    },
    {
      "cell_type": "code",
      "source": [
        "def compute_metrics(y_true, y_pred):\n",
        "  accuracy = accuracy_score(y_true, y_pred)\n",
        "  precision = precision_score(y_true, y_pred)\n",
        "  recall = recall_score(y_true, y_pred)\n",
        "  f1 = f1_score(y_true, y_pred)\n",
        "  cf_matrix = confusion_matrix(y_true, y_pred)\n",
        "\n",
        "  return accuracy, precision, recall, f1, cf_matrix\n",
        "\n",
        "\n",
        "def visualize_statistics(model_name, metrics, type):\n",
        "  for n in range(len(metrics)):\n",
        "    print(f\"{type} Statistics for the Prompt {n+1}\")\n",
        "    print(\"Prompt: \", prompts[n])\n",
        "\n",
        "    print(\"Accuracy score: \", round(metrics[n][0], 3))\n",
        "    print(\"Precision score: \", round(metrics[n][1], 3))\n",
        "    print(\"Recall score: \", round(metrics[n][2], 3))\n",
        "    print(\"F1-score: \", round(metrics[n][3], 3))\n",
        "\n",
        "    # Confusion Matrix Plot\n",
        "    cf_matrix = metrics[n][4]\n",
        "    fig, ax = plt.subplots(figsize=(5, 3))\n",
        "    sns.heatmap(cf_matrix, annot = True, fmt = '.0f')\n",
        "    ax.set_title(f'{type} Confusion Matrix for Prompt {n+1} using {model_name}')\n",
        "    ax.set_xlabel('Predicted Labels')\n",
        "    ax.set_ylabel('True Labels')\n",
        "    plt.show()\n",
        "\n",
        "    print(\"Total Predictions: \", np.sum(cf_matrix))\n",
        "    print(\"Correct Predictions: \", np.trace(cf_matrix))\n",
        "    print(\"----------------------------------------------------------------\")\n",
        "    print(\" \")\n",
        "\n",
        "def visualize_statistics_table(model_name, train_metrics, test_metrics, dev_metrics, prompts):\n",
        "  table = []\n",
        "  for id, prompt in enumerate(prompts):\n",
        "    data = {}\n",
        "    for dtype, metrics in zip(['Train', 'Test', 'Dev'], [train_metrics, test_metrics, dev_metrics]):\n",
        "      accuracy, f1 = metrics[id][0], metrics[id][3]\n",
        "      data[f'{dtype} Accuracy {model_name}'] = round(accuracy, 3)\n",
        "      data[f'{dtype} F1-score {model_name}'] = round(f1, 3)\n",
        "    table.append(data)\n",
        "\n",
        "  df_transposed = pd.DataFrame(table).transpose()\n",
        "  df_transposed.columns = [f'Prompt {i+1}' for i in range(len(prompts))]\n",
        "\n",
        "  return df_transposed"
      ],
      "metadata": {
        "id": "VPuMSO7_GSm7"
      },
      "execution_count": 13,
      "outputs": []
    },
    {
      "cell_type": "markdown",
      "source": [
        "## mDeBERTa Base Multilingual"
      ],
      "metadata": {
        "id": "YlcbOWmxQUhJ"
      }
    },
    {
      "cell_type": "code",
      "source": [
        "model_name = \"MoritzLaurer/mDeBERTa-v3-base-xnli-multilingual-nli-2mil7\"\n",
        "tokenizer_mDeBERTa = AutoTokenizer.from_pretrained(model_name)\n",
        "model_mDeBERTa = AutoModelForSequenceClassification.from_pretrained(model_name).to(device)"
      ],
      "metadata": {
        "id": "afVvHQgHQo5N",
        "colab": {
          "base_uri": "https://localhost:8080/",
          "height": 241,
          "referenced_widgets": [
            "25aa5aac7112485da8289930d5145be9",
            "034715d164bb4ac3aa7480a02ec81bdc",
            "b8df317b2db640a397f20d93f19b9fb6",
            "36499b63dbc7484a8858d6a1196f4321",
            "09970fb8908542db98973bbc02e1bdfa",
            "fb21a0d82bae407694769876a84688b4",
            "7ba2859b3d5f4902905b063baa50f0b7",
            "bd53789f6ce04728ac92fba85b893d8a",
            "46c70a5b599b479c909d437ee0fdd04d",
            "1da0045d87ed45a2a19e472d8169f966",
            "4e51a967346c4f70aab77f4f93733ae9",
            "03ed310eac3a4e53b9c753d5eceeac74",
            "bfdf8797f6984e269bfefb0c74c81738",
            "65e7d404447040c3b7ebaae0cce2b3fb",
            "11482799a3f040488a08147d6a3009b9",
            "dd74bebe72144bb8bf8ba1dd21f57229",
            "9e35d0db663c4807944d4691eb20be20",
            "7e2fbb76cde34c5ab5f367537b833eb0",
            "372673c20309414099b5d4e95547235a",
            "eaf07d60afdb4657895b791d64a44ca2",
            "a672901ab7e548599c52850128578ade",
            "0399fe6f667e49fb8df4372ea2137520",
            "514bfcc5fe13416c949f999155c84f5d",
            "ba6461ee49b34a589a7442bfb7691ba9",
            "69039c8cea8f4af7b455335eff267c48",
            "50cb63c9948a4e51b12699dd4a4486fd",
            "a5cf85bbd9254df89ac65cc75574997c",
            "f0af98366e9e4c85a5e88dcd029c4074",
            "44c7bf1c4edd4b7b9a26a4c6a169cd20",
            "013aacfbb16c4503b9b8a0b0ca0dd6e5",
            "b1b57e1078ba4237884a6fc182ba42f5",
            "f05fb2db037f4992840caf817ac54a41",
            "060e3baa14c54c7e819ddcc8f2957ccf",
            "418156be6e80496cbc851c502f86014c",
            "0c0f9ee50cd44fd686ceaa3e3deef070",
            "be64cbeae6504696b715aba61730100e",
            "d8df57e8c9c64057801de8ac62852ca5",
            "16ddcde6782a4ce59dee7d77e0df02ad",
            "67da0189a7e04a24b9401bfe4e766a45",
            "da067ed19d6647a5a65cca6a9843a47f",
            "52365f3d429445c68b7969d9defb62fd",
            "07b01561529649e8b0bdbc50dd8c21c9",
            "5bef1858bc2644d281a04b00ee734b80",
            "fa3225dbfff740f8a35248dd536755cb",
            "c5190cd22abe402a9b5a3cfa2d94dcc8",
            "2432b45682ef4d8485c385ba8a7c8e4a",
            "7193bc4d33dc47c3ad2f5e3271fb1c5c",
            "8d10512cc8234a8c83f909b4a4620861",
            "bb5395b82d564e23a9646ab85c274147",
            "248d1a6eb83c496a94eab3424b9bc49e",
            "15c7c1f41a574f41b5c9bc9ab85661f9",
            "b83acb54134a4d8f8bbee8f34413f90b",
            "7583c6f069f8475dbd495ccfce629484",
            "ed7476318f4b421ba5d5d780baf99bcf",
            "bee2e0bcd04a41b8bc6cb8d753a2879b",
            "10f2dee66fd94327996fc0e676d8e86f",
            "3a401cc4f75147e8a7666aaf3aa99c0d",
            "56ab04e39b3d47cf9ac4386a19ab4175",
            "2da2196c54b94da7941d481468ca9a5a",
            "0a768daa5a444af686f2020e4815632a",
            "c8a27a0638df44f094bd6fdb08cbe3cd",
            "3e26853beaa6424db502a31bd6a6b8f2",
            "1f66f6408afb4eddb49e990df5e4ae68",
            "6dde953c28c148c8a6d3e3b84a064976",
            "25b306dd9cf24e60b46116392f13436d",
            "bc7824b8faf340d6843e72adb4468800",
            "692f75dc5c104507bc959da8c4291013",
            "b65c0a1d11d34058916071dc1dc3d8de",
            "ea2e124b7afa471186eb5291f7df659c",
            "c700de6d8a424d1b835c3df6b647b7e4",
            "908a808cb2af44c5a20a82c7d5997f4a",
            "7a5a30714bc24600b762e0ea2903748c",
            "7c19bb449f38485ca6ed7fd6a33e06c7",
            "f70ec99d5b7048e9aeb542898981afb7",
            "987f85914b4c42149b133b9f2c28bdd6",
            "89771f0e9fb44b0299619ba73abd6fdb",
            "4d627250765c41f4b0aacaf9540a7413"
          ]
        },
        "outputId": "79702b35-1d05-4c48-d604-037630e6e70b"
      },
      "execution_count": 14,
      "outputs": [
        {
          "output_type": "display_data",
          "data": {
            "text/plain": [
              "tokenizer_config.json:   0%|          | 0.00/467 [00:00<?, ?B/s]"
            ],
            "application/vnd.jupyter.widget-view+json": {
              "version_major": 2,
              "version_minor": 0,
              "model_id": "25aa5aac7112485da8289930d5145be9"
            }
          },
          "metadata": {}
        },
        {
          "output_type": "display_data",
          "data": {
            "text/plain": [
              "spm.model:   0%|          | 0.00/4.31M [00:00<?, ?B/s]"
            ],
            "application/vnd.jupyter.widget-view+json": {
              "version_major": 2,
              "version_minor": 0,
              "model_id": "03ed310eac3a4e53b9c753d5eceeac74"
            }
          },
          "metadata": {}
        },
        {
          "output_type": "display_data",
          "data": {
            "text/plain": [
              "tokenizer.json:   0%|          | 0.00/16.3M [00:00<?, ?B/s]"
            ],
            "application/vnd.jupyter.widget-view+json": {
              "version_major": 2,
              "version_minor": 0,
              "model_id": "514bfcc5fe13416c949f999155c84f5d"
            }
          },
          "metadata": {}
        },
        {
          "output_type": "display_data",
          "data": {
            "text/plain": [
              "added_tokens.json:   0%|          | 0.00/23.0 [00:00<?, ?B/s]"
            ],
            "application/vnd.jupyter.widget-view+json": {
              "version_major": 2,
              "version_minor": 0,
              "model_id": "418156be6e80496cbc851c502f86014c"
            }
          },
          "metadata": {}
        },
        {
          "output_type": "display_data",
          "data": {
            "text/plain": [
              "special_tokens_map.json:   0%|          | 0.00/173 [00:00<?, ?B/s]"
            ],
            "application/vnd.jupyter.widget-view+json": {
              "version_major": 2,
              "version_minor": 0,
              "model_id": "c5190cd22abe402a9b5a3cfa2d94dcc8"
            }
          },
          "metadata": {}
        },
        {
          "output_type": "display_data",
          "data": {
            "text/plain": [
              "config.json:   0%|          | 0.00/1.09k [00:00<?, ?B/s]"
            ],
            "application/vnd.jupyter.widget-view+json": {
              "version_major": 2,
              "version_minor": 0,
              "model_id": "10f2dee66fd94327996fc0e676d8e86f"
            }
          },
          "metadata": {}
        },
        {
          "output_type": "display_data",
          "data": {
            "text/plain": [
              "model.safetensors:   0%|          | 0.00/558M [00:00<?, ?B/s]"
            ],
            "application/vnd.jupyter.widget-view+json": {
              "version_major": 2,
              "version_minor": 0,
              "model_id": "692f75dc5c104507bc959da8c4291013"
            }
          },
          "metadata": {}
        }
      ]
    },
    {
      "cell_type": "code",
      "source": [
        "start_time = time.time()\n",
        "mdeberta_train_results, mdeberta_test_results, mdeberta_dev_results = [], [], []\n",
        "\n",
        "for prompt in prompts:\n",
        "  formatted_prompt, y_true, y_pred, score = evaluate_prompt(tokenizer_mDeBERTa, model_mDeBERTa, prompt, \"WiC-ITA_train.jsonl\")\n",
        "  mdeberta_train_results.append([formatted_prompt, y_true, y_pred, score])\n",
        "\n",
        "  formatted_prompt, y_true, y_pred, score = evaluate_prompt(tokenizer_mDeBERTa, model_mDeBERTa,  prompt, \"WiC-ITA_test.jsonl\")\n",
        "  mdeberta_test_results.append([formatted_prompt, y_true, y_pred, score])\n",
        "\n",
        "  formatted_prompt, y_true, y_pred, score = evaluate_prompt(tokenizer_mDeBERTa, model_mDeBERTa, prompt, \"WiC-ITA_dev.jsonl\")\n",
        "  mdeberta_dev_results.append([formatted_prompt, y_true, y_pred, score])\n",
        "\n",
        "end_time = time.time()\n",
        "print(\"Execution Time: \", (end_time - start_time)/60, \"minutes\")"
      ],
      "metadata": {
        "id": "FcHYex4_SDLx",
        "colab": {
          "base_uri": "https://localhost:8080/"
        },
        "outputId": "a3df9f9e-3d33-4c3f-f633-00c783e5246a"
      },
      "execution_count": 15,
      "outputs": [
        {
          "output_type": "stream",
          "name": "stdout",
          "text": [
            "Execution Time:  4.778159880638123 minutes\n"
          ]
        }
      ]
    },
    {
      "cell_type": "code",
      "source": [
        "visualize_results(mdeberta_train_results, num_results = 2) # preview of the first 2 train results for each prompt"
      ],
      "metadata": {
        "id": "J3B63Rv3ijDA",
        "colab": {
          "base_uri": "https://localhost:8080/"
        },
        "outputId": "7da4eaae-5f1e-435d-bf3a-079095028957"
      },
      "execution_count": 16,
      "outputs": [
        {
          "output_type": "stream",
          "name": "stdout",
          "text": [
            "Prompt:  Il significato della parola 'affare' risulta (Ambiguo) o (Non ambiguo) nella frase 'E visto che mi lascia GPS , Ecoscandaglio , TUTTE le dotazioni obbligatorie in ottimo stato ( razzi nuovi , ecc ) un sacco di cime ( due ancora nuove imballate ) , gonfiatore , pezzi vari di ricambio , ecc ecc ecc con un supplemento è affare fatto .' e nella frase 'La rivista nordamericana segnala come presunti sospetti il milionario e potente della stampa venezuelana , Gustavo Cisnero , che avrebbe ricevuto istruzioni da Otto Reich , massimo responsabile della Casa Bianca per gli Affari Latinoamericani .'?\n",
            "True label:  Ambiguo\n",
            "Predicted label:  Non Ambiguo\n",
            "Prediction score:  0.904\n",
            "----------------------------------------------------------------\n",
            " \n",
            "Prompt:  Il significato della parola 'elemento' risulta (Ambiguo) o (Non ambiguo) nella frase 'In particolare , l' elemento più scandaloso del provvedimento che ci accingiamo a votare è rappresentato dagli articoli 7 e 8 su cui , questa mattina , abbiamo condotto , come opposizione , una lunga battaglia di buon senso .' e nella frase 'Il Fondo mostra di apprezzare \" certi elementi di maggiore flessibilita' del patto di stabilita' , mentre si rammarica per la vaghezza di altre \" .'?\n",
            "True label:  Non Ambiguo\n",
            "Predicted label:  Non Ambiguo\n",
            "Prediction score:  0.691\n",
            "----------------------------------------------------------------\n",
            " \n",
            "Prompt:  Confronta le frasi 'E visto che mi lascia GPS , Ecoscandaglio , TUTTE le dotazioni obbligatorie in ottimo stato ( razzi nuovi , ecc ) un sacco di cime ( due ancora nuove imballate ) , gonfiatore , pezzi vari di ricambio , ecc ecc ecc con un supplemento è affare fatto .' e 'La rivista nordamericana segnala come presunti sospetti il milionario e potente della stampa venezuelana , Gustavo Cisnero , che avrebbe ricevuto istruzioni da Otto Reich , massimo responsabile della Casa Bianca per gli Affari Latinoamericani .' per determinare se il significato della parola 'affare' è (Ambiguo) o (Non ambiguo)\n",
            "True label:  Ambiguo\n",
            "Predicted label:  Non Ambiguo\n",
            "Prediction score:  0.664\n",
            "----------------------------------------------------------------\n",
            " \n",
            "Prompt:  Confronta le frasi 'In particolare , l' elemento più scandaloso del provvedimento che ci accingiamo a votare è rappresentato dagli articoli 7 e 8 su cui , questa mattina , abbiamo condotto , come opposizione , una lunga battaglia di buon senso .' e 'Il Fondo mostra di apprezzare \" certi elementi di maggiore flessibilita' del patto di stabilita' , mentre si rammarica per la vaghezza di altre \" .' per determinare se il significato della parola 'elemento' è (Ambiguo) o (Non ambiguo)\n",
            "True label:  Non Ambiguo\n",
            "Predicted label:  Non Ambiguo\n",
            "Prediction score:  0.767\n",
            "----------------------------------------------------------------\n",
            " \n",
            "Prompt:  Valuta se il significato della parola 'affare' risulta essere (Ambiguo) o (Non Ambiguo) nella frase 'E visto che mi lascia GPS , Ecoscandaglio , TUTTE le dotazioni obbligatorie in ottimo stato ( razzi nuovi , ecc ) un sacco di cime ( due ancora nuove imballate ) , gonfiatore , pezzi vari di ricambio , ecc ecc ecc con un supplemento è affare fatto .' e nella frase 'La rivista nordamericana segnala come presunti sospetti il milionario e potente della stampa venezuelana , Gustavo Cisnero , che avrebbe ricevuto istruzioni da Otto Reich , massimo responsabile della Casa Bianca per gli Affari Latinoamericani .'.\n",
            "True label:  Ambiguo\n",
            "Predicted label:  Non Ambiguo\n",
            "Prediction score:  0.948\n",
            "----------------------------------------------------------------\n",
            " \n",
            "Prompt:  Valuta se il significato della parola 'elemento' risulta essere (Ambiguo) o (Non Ambiguo) nella frase 'In particolare , l' elemento più scandaloso del provvedimento che ci accingiamo a votare è rappresentato dagli articoli 7 e 8 su cui , questa mattina , abbiamo condotto , come opposizione , una lunga battaglia di buon senso .' e nella frase 'Il Fondo mostra di apprezzare \" certi elementi di maggiore flessibilita' del patto di stabilita' , mentre si rammarica per la vaghezza di altre \" .'.\n",
            "True label:  Non Ambiguo\n",
            "Predicted label:  Non Ambiguo\n",
            "Prediction score:  0.771\n",
            "----------------------------------------------------------------\n",
            " \n"
          ]
        }
      ]
    },
    {
      "cell_type": "code",
      "source": [
        "mdeberta_train_metrics, mdeberta_test_metrics, mdeberta_dev_metrics = [], [], []\n",
        "\n",
        "for prompt in range(len(prompts)):\n",
        "  train_y_true, train_y_pred = mdeberta_train_results[prompt][1], mdeberta_train_results[prompt][2]\n",
        "  accuracy, precision, recall, f1, cf_matrix = compute_metrics(train_y_true, train_y_pred)\n",
        "  mdeberta_train_metrics.append([accuracy, precision, recall, f1, cf_matrix])\n",
        "\n",
        "  test_y_true, test_y_pred = mdeberta_test_results[prompt][1], mdeberta_test_results[prompt][2]\n",
        "  accuracy, precision, recall, f1, cf_matrix = compute_metrics(test_y_true, test_y_pred)\n",
        "  mdeberta_test_metrics.append([accuracy, precision, recall, f1, cf_matrix])\n",
        "\n",
        "  dev_y_true, dev_y_pred = mdeberta_dev_results[prompt][1], mdeberta_dev_results[prompt][2]\n",
        "  accuracy, precision, recall, f1, cf_matrix = compute_metrics(dev_y_true, dev_y_pred)\n",
        "  mdeberta_dev_metrics.append([accuracy, precision, recall, f1, cf_matrix])"
      ],
      "metadata": {
        "id": "V5KWco9ibxIf"
      },
      "execution_count": 17,
      "outputs": []
    },
    {
      "cell_type": "markdown",
      "source": [
        "### Statistics"
      ],
      "metadata": {
        "id": "0b7cukM6Yqgf"
      }
    },
    {
      "cell_type": "code",
      "source": [
        "# Train Statistics for each prompt\n",
        "visualize_statistics(\"mDeBERTa\", mdeberta_train_metrics, \"Train\")"
      ],
      "metadata": {
        "id": "19wRk8GlG3Op",
        "colab": {
          "base_uri": "https://localhost:8080/",
          "height": 1000
        },
        "outputId": "b3790480-93fb-4008-e6ab-2bc39c9d9201"
      },
      "execution_count": 18,
      "outputs": [
        {
          "output_type": "stream",
          "name": "stdout",
          "text": [
            "Train Statistics for the Prompt 1\n",
            "Prompt:  Il significato della parola '{lemma}' risulta (Ambiguo) o (Non ambiguo) nella frase '{sentence1}' e nella frase '{sentence2}'?\n",
            "Accuracy score:  0.699\n",
            "Precision score:  0.71\n",
            "Recall score:  0.977\n",
            "F1-score:  0.822\n"
          ]
        },
        {
          "output_type": "display_data",
          "data": {
            "text/plain": [
              "<Figure size 500x300 with 2 Axes>"
            ],
            "image/png": "[encoded data removed]"
          },
          "metadata": {}
        },
        {
          "output_type": "stream",
          "name": "stdout",
          "text": [
            "Total Predictions:  2805\n",
            "Correct Predictions:  1962\n",
            "----------------------------------------------------------------\n",
            " \n",
            "Train Statistics for the Prompt 2\n",
            "Prompt:  Confronta le frasi '{sentence1}' e '{sentence2}' per determinare se il significato della parola '{lemma}' è (Ambiguo) o (Non ambiguo)\n",
            "Accuracy score:  0.505\n",
            "Precision score:  0.714\n",
            "Recall score:  0.51\n",
            "F1-score:  0.595\n"
          ]
        },
        {
          "output_type": "display_data",
          "data": {
            "text/plain": [
              "<Figure size 500x300 with 2 Axes>"
            ],
            "image/png": "[encoded data removed]"
          },
          "metadata": {}
        },
        {
          "output_type": "stream",
          "name": "stdout",
          "text": [
            "Total Predictions:  2805\n",
            "Correct Predictions:  1417\n",
            "----------------------------------------------------------------\n",
            " \n",
            "Train Statistics for the Prompt 3\n",
            "Prompt:  Valuta se il significato della parola '{lemma}' risulta essere (Ambiguo) o (Non Ambiguo) nella frase '{sentence1}' e nella frase '{sentence2}'.\n",
            "Accuracy score:  0.704\n",
            "Precision score:  0.712\n",
            "Recall score:  0.982\n",
            "F1-score:  0.826\n"
          ]
        },
        {
          "output_type": "display_data",
          "data": {
            "text/plain": [
              "<Figure size 500x300 with 2 Axes>"
            ],
            "image/png": "[encoded data removed]"
          },
          "metadata": {}
        },
        {
          "output_type": "stream",
          "name": "stdout",
          "text": [
            "Total Predictions:  2805\n",
            "Correct Predictions:  1976\n",
            "----------------------------------------------------------------\n",
            " \n"
          ]
        }
      ]
    },
    {
      "cell_type": "code",
      "source": [
        "# Test Statistics for each prompt\n",
        "visualize_statistics(\"mDeBERTa\", mdeberta_test_metrics, \"Test\")"
      ],
      "metadata": {
        "id": "Q7U-1R5fG-qn",
        "colab": {
          "base_uri": "https://localhost:8080/",
          "height": 1000
        },
        "outputId": "f5c9a89a-3e1b-4d3e-ac81-5d20e97bd648"
      },
      "execution_count": 19,
      "outputs": [
        {
          "output_type": "stream",
          "name": "stdout",
          "text": [
            "Test Statistics for the Prompt 1\n",
            "Prompt:  Il significato della parola '{lemma}' risulta (Ambiguo) o (Non ambiguo) nella frase '{sentence1}' e nella frase '{sentence2}'?\n",
            "Accuracy score:  0.486\n",
            "Precision score:  0.493\n",
            "Recall score:  0.956\n",
            "F1-score:  0.65\n"
          ]
        },
        {
          "output_type": "display_data",
          "data": {
            "text/plain": [
              "<Figure size 500x300 with 2 Axes>"
            ],
            "image/png": "[encoded data removed]"
          },
          "metadata": {}
        },
        {
          "output_type": "stream",
          "name": "stdout",
          "text": [
            "Total Predictions:  500\n",
            "Correct Predictions:  243\n",
            "----------------------------------------------------------------\n",
            " \n",
            "Test Statistics for the Prompt 2\n",
            "Prompt:  Confronta le frasi '{sentence1}' e '{sentence2}' per determinare se il significato della parola '{lemma}' è (Ambiguo) o (Non ambiguo)\n",
            "Accuracy score:  0.466\n",
            "Precision score:  0.467\n",
            "Recall score:  0.48\n",
            "F1-score:  0.473\n"
          ]
        },
        {
          "output_type": "display_data",
          "data": {
            "text/plain": [
              "<Figure size 500x300 with 2 Axes>"
            ],
            "image/png": "[encoded data removed]"
          },
          "metadata": {}
        },
        {
          "output_type": "stream",
          "name": "stdout",
          "text": [
            "Total Predictions:  500\n",
            "Correct Predictions:  233\n",
            "----------------------------------------------------------------\n",
            " \n",
            "Test Statistics for the Prompt 3\n",
            "Prompt:  Valuta se il significato della parola '{lemma}' risulta essere (Ambiguo) o (Non Ambiguo) nella frase '{sentence1}' e nella frase '{sentence2}'.\n",
            "Accuracy score:  0.49\n",
            "Precision score:  0.495\n",
            "Recall score:  0.956\n",
            "F1-score:  0.652\n"
          ]
        },
        {
          "output_type": "display_data",
          "data": {
            "text/plain": [
              "<Figure size 500x300 with 2 Axes>"
            ],
            "image/png": "[encoded data removed]"
          },
          "metadata": {}
        },
        {
          "output_type": "stream",
          "name": "stdout",
          "text": [
            "Total Predictions:  500\n",
            "Correct Predictions:  245\n",
            "----------------------------------------------------------------\n",
            " \n"
          ]
        }
      ]
    },
    {
      "cell_type": "code",
      "source": [
        "# Dev Confusion Matrix for each prompt\n",
        "visualize_statistics(\"mDeBERTa\", mdeberta_dev_metrics, \"Dev\")"
      ],
      "metadata": {
        "id": "kvlu9juiHBTp",
        "colab": {
          "base_uri": "https://localhost:8080/",
          "height": 1000
        },
        "outputId": "eaed8d2e-7a75-41bd-a9f8-4b48575fa70f"
      },
      "execution_count": 20,
      "outputs": [
        {
          "output_type": "stream",
          "name": "stdout",
          "text": [
            "Dev Statistics for the Prompt 1\n",
            "Prompt:  Il significato della parola '{lemma}' risulta (Ambiguo) o (Non ambiguo) nella frase '{sentence1}' e nella frase '{sentence2}'?\n",
            "Accuracy score:  0.486\n",
            "Precision score:  0.493\n",
            "Recall score:  0.96\n",
            "F1-score:  0.651\n"
          ]
        },
        {
          "output_type": "display_data",
          "data": {
            "text/plain": [
              "<Figure size 500x300 with 2 Axes>"
            ],
            "image/png": "[encoded data removed]"
          },
          "metadata": {}
        },
        {
          "output_type": "stream",
          "name": "stdout",
          "text": [
            "Total Predictions:  500\n",
            "Correct Predictions:  243\n",
            "----------------------------------------------------------------\n",
            " \n",
            "Dev Statistics for the Prompt 2\n",
            "Prompt:  Confronta le frasi '{sentence1}' e '{sentence2}' per determinare se il significato della parola '{lemma}' è (Ambiguo) o (Non ambiguo)\n",
            "Accuracy score:  0.55\n",
            "Precision score:  0.547\n",
            "Recall score:  0.58\n",
            "F1-score:  0.563\n"
          ]
        },
        {
          "output_type": "display_data",
          "data": {
            "text/plain": [
              "<Figure size 500x300 with 2 Axes>"
            ],
            "image/png": "[encoded data removed]"
          },
          "metadata": {}
        },
        {
          "output_type": "stream",
          "name": "stdout",
          "text": [
            "Total Predictions:  500\n",
            "Correct Predictions:  275\n",
            "----------------------------------------------------------------\n",
            " \n",
            "Dev Statistics for the Prompt 3\n",
            "Prompt:  Valuta se il significato della parola '{lemma}' risulta essere (Ambiguo) o (Non Ambiguo) nella frase '{sentence1}' e nella frase '{sentence2}'.\n",
            "Accuracy score:  0.488\n",
            "Precision score:  0.494\n",
            "Recall score:  0.976\n",
            "F1-score:  0.656\n"
          ]
        },
        {
          "output_type": "display_data",
          "data": {
            "text/plain": [
              "<Figure size 500x300 with 2 Axes>"
            ],
            "image/png": "[encoded data removed]"
          },
          "metadata": {}
        },
        {
          "output_type": "stream",
          "name": "stdout",
          "text": [
            "Total Predictions:  500\n",
            "Correct Predictions:  244\n",
            "----------------------------------------------------------------\n",
            " \n"
          ]
        }
      ]
    },
    {
      "cell_type": "code",
      "source": [
        "# Overall Statistics Table\n",
        "mdeberta_table = visualize_statistics_table(\"mDeBERTa Base Multilingual\", mdeberta_train_metrics, mdeberta_test_metrics, mdeberta_dev_metrics, prompts)\n",
        "mdeberta_table"
      ],
      "metadata": {
        "id": "AOug8di_bt0s",
        "colab": {
          "base_uri": "https://localhost:8080/",
          "height": 237
        },
        "outputId": "beac5434-3518-4239-868b-c0ff00e21f4c"
      },
      "execution_count": 21,
      "outputs": [
        {
          "output_type": "execute_result",
          "data": {
            "text/plain": [
              "                                           Prompt 1  Prompt 2  Prompt 3\n",
              "Train Accuracy mDeBERTa Base Multilingual     0.699     0.505     0.704\n",
              "Train F1-score mDeBERTa Base Multilingual     0.822     0.595     0.826\n",
              "Test Accuracy mDeBERTa Base Multilingual      0.486     0.466     0.490\n",
              "Test F1-score mDeBERTa Base Multilingual      0.650     0.473     0.652\n",
              "Dev Accuracy mDeBERTa Base Multilingual       0.486     0.550     0.488\n",
              "Dev F1-score mDeBERTa Base Multilingual       0.651     0.563     0.656"
            ],
            "text/html": [
              "\n",
              "  <div id=\"df-914ce9ae-74db-4779-8871-93c7749bfca9\" class=\"colab-df-container\">\n",
              "    <div>\n",
              "<style scoped>\n",
              "    .dataframe tbody tr th:only-of-type {\n",
              "        vertical-align: middle;\n",
              "    }\n",
              "\n",
              "    .dataframe tbody tr th {\n",
              "        vertical-align: top;\n",
              "    }\n",
              "\n",
              "    .dataframe thead th {\n",
              "        text-align: right;\n",
              "    }\n",
              "</style>\n",
              "<table border=\"1\" class=\"dataframe\">\n",
              "  <thead>\n",
              "    <tr style=\"text-align: right;\">\n",
              "      <th></th>\n",
              "      <th>Prompt 1</th>\n",
              "      <th>Prompt 2</th>\n",
              "      <th>Prompt 3</th>\n",
              "    </tr>\n",
              "  </thead>\n",
              "  <tbody>\n",
              "    <tr>\n",
              "      <th>Train Accuracy mDeBERTa Base Multilingual</th>\n",
              "      <td>0.699</td>\n",
              "      <td>0.505</td>\n",
              "      <td>0.704</td>\n",
              "    </tr>\n",
              "    <tr>\n",
              "      <th>Train F1-score mDeBERTa Base Multilingual</th>\n",
              "      <td>0.822</td>\n",
              "      <td>0.595</td>\n",
              "      <td>0.826</td>\n",
              "    </tr>\n",
              "    <tr>\n",
              "      <th>Test Accuracy mDeBERTa Base Multilingual</th>\n",
              "      <td>0.486</td>\n",
              "      <td>0.466</td>\n",
              "      <td>0.490</td>\n",
              "    </tr>\n",
              "    <tr>\n",
              "      <th>Test F1-score mDeBERTa Base Multilingual</th>\n",
              "      <td>0.650</td>\n",
              "      <td>0.473</td>\n",
              "      <td>0.652</td>\n",
              "    </tr>\n",
              "    <tr>\n",
              "      <th>Dev Accuracy mDeBERTa Base Multilingual</th>\n",
              "      <td>0.486</td>\n",
              "      <td>0.550</td>\n",
              "      <td>0.488</td>\n",
              "    </tr>\n",
              "    <tr>\n",
              "      <th>Dev F1-score mDeBERTa Base Multilingual</th>\n",
              "      <td>0.651</td>\n",
              "      <td>0.563</td>\n",
              "      <td>0.656</td>\n",
              "    </tr>\n",
              "  </tbody>\n",
              "</table>\n",
              "</div>\n",
              "    <div class=\"colab-df-buttons\">\n",
              "\n",
              "  <div class=\"colab-df-container\">\n",
              "    <button class=\"colab-df-convert\" onclick=\"convertToInteractive('df-914ce9ae-74db-4779-8871-93c7749bfca9')\"\n",
              "            title=\"Convert this dataframe to an interactive table.\"\n",
              "            style=\"display:none;\">\n",
              "\n",
              "  <svg xmlns=\"http://www.w3.org/2000/svg\" height=\"24px\" viewBox=\"0 -960 960 960\">\n",
              "    <path d=\"M120-120v-720h720v720H120Zm60-500h600v-160H180v160Zm220 220h160v-160H400v160Zm0 220h160v-160H400v160ZM180-400h160v-160H180v160Zm440 0h160v-160H620v160ZM180-180h160v-160H180v160Zm440 0h160v-160H620v160Z\"/>\n",
              "  </svg>\n",
              "    </button>\n",
              "\n",
              "  <style>\n",
              "    .colab-df-container {\n",
              "      display:flex;\n",
              "      gap: 12px;\n",
              "    }\n",
              "\n",
              "    .colab-df-convert {\n",
              "      background-color: #E8F0FE;\n",
              "      border: none;\n",
              "      border-radius: 50%;\n",
              "      cursor: pointer;\n",
              "      display: none;\n",
              "      fill: #1967D2;\n",
              "      height: 32px;\n",
              "      padding: 0 0 0 0;\n",
              "      width: 32px;\n",
              "    }\n",
              "\n",
              "    .colab-df-convert:hover {\n",
              "      background-color: #E2EBFA;\n",
              "      box-shadow: 0px 1px 2px rgba(60, 64, 67, 0.3), 0px 1px 3px 1px rgba(60, 64, 67, 0.15);\n",
              "      fill: #174EA6;\n",
              "    }\n",
              "\n",
              "    .colab-df-buttons div {\n",
              "      margin-bottom: 4px;\n",
              "    }\n",
              "\n",
              "    [theme=dark] .colab-df-convert {\n",
              "      background-color: #3B4455;\n",
              "      fill: #D2E3FC;\n",
              "    }\n",
              "\n",
              "    [theme=dark] .colab-df-convert:hover {\n",
              "      background-color: #434B5C;\n",
              "      box-shadow: 0px 1px 3px 1px rgba(0, 0, 0, 0.15);\n",
              "      filter: drop-shadow(0px 1px 2px rgba(0, 0, 0, 0.3));\n",
              "      fill: #FFFFFF;\n",
              "    }\n",
              "  </style>\n",
              "\n",
              "    <script>\n",
              "      const buttonEl =\n",
              "        document.querySelector('#df-914ce9ae-74db-4779-8871-93c7749bfca9 button.colab-df-convert');\n",
              "      buttonEl.style.display =\n",
              "        google.colab.kernel.accessAllowed ? 'block' : 'none';\n",
              "\n",
              "      async function convertToInteractive(key) {\n",
              "        const element = document.querySelector('#df-914ce9ae-74db-4779-8871-93c7749bfca9');\n",
              "        const dataTable =\n",
              "          await google.colab.kernel.invokeFunction('convertToInteractive',\n",
              "                                                    [key], {});\n",
              "        if (!dataTable) return;\n",
              "\n",
              "        const docLinkHtml = 'Like what you see? Visit the ' +\n",
              "          '<a target=\"_blank\" href=https://colab.research.google.com/notebooks/data_table.ipynb>data table notebook</a>'\n",
              "          + ' to learn more about interactive tables.';\n",
              "        element.innerHTML = '';\n",
              "        dataTable['output_type'] = 'display_data';\n",
              "        await google.colab.output.renderOutput(dataTable, element);\n",
              "        const docLink = document.createElement('div');\n",
              "        docLink.innerHTML = docLinkHtml;\n",
              "        element.appendChild(docLink);\n",
              "      }\n",
              "    </script>\n",
              "  </div>\n",
              "\n",
              "\n",
              "<div id=\"df-b37d2a8e-0bdf-4c6c-8257-c4b14a077cc4\">\n",
              "  <button class=\"colab-df-quickchart\" onclick=\"quickchart('df-b37d2a8e-0bdf-4c6c-8257-c4b14a077cc4')\"\n",
              "            title=\"Suggest charts\"\n",
              "            style=\"display:none;\">\n",
              "\n",
              "<svg xmlns=\"http://www.w3.org/2000/svg\" height=\"24px\"viewBox=\"0 0 24 24\"\n",
              "     width=\"24px\">\n",
              "    <g>\n",
              "        <path d=\"M19 3H5c-1.1 0-2 .9-2 2v14c0 1.1.9 2 2 2h14c1.1 0 2-.9 2-2V5c0-1.1-.9-2-2-2zM9 17H7v-7h2v7zm4 0h-2V7h2v10zm4 0h-2v-4h2v4z\"/>\n",
              "    </g>\n",
              "</svg>\n",
              "  </button>\n",
              "\n",
              "<style>\n",
              "  .colab-df-quickchart {\n",
              "      --bg-color: #E8F0FE;\n",
              "      --fill-color: #1967D2;\n",
              "      --hover-bg-color: #E2EBFA;\n",
              "      --hover-fill-color: #174EA6;\n",
              "      --disabled-fill-color: #AAA;\n",
              "      --disabled-bg-color: #DDD;\n",
              "  }\n",
              "\n",
              "  [theme=dark] .colab-df-quickchart {\n",
              "      --bg-color: #3B4455;\n",
              "      --fill-color: #D2E3FC;\n",
              "      --hover-bg-color: #434B5C;\n",
              "      --hover-fill-color: #FFFFFF;\n",
              "      --disabled-bg-color: #3B4455;\n",
              "      --disabled-fill-color: #666;\n",
              "  }\n",
              "\n",
              "  .colab-df-quickchart {\n",
              "    background-color: var(--bg-color);\n",
              "    border: none;\n",
              "    border-radius: 50%;\n",
              "    cursor: pointer;\n",
              "    display: none;\n",
              "    fill: var(--fill-color);\n",
              "    height: 32px;\n",
              "    padding: 0;\n",
              "    width: 32px;\n",
              "  }\n",
              "\n",
              "  .colab-df-quickchart:hover {\n",
              "    background-color: var(--hover-bg-color);\n",
              "    box-shadow: 0 1px 2px rgba(60, 64, 67, 0.3), 0 1px 3px 1px rgba(60, 64, 67, 0.15);\n",
              "    fill: var(--button-hover-fill-color);\n",
              "  }\n",
              "\n",
              "  .colab-df-quickchart-complete:disabled,\n",
              "  .colab-df-quickchart-complete:disabled:hover {\n",
              "    background-color: var(--disabled-bg-color);\n",
              "    fill: var(--disabled-fill-color);\n",
              "    box-shadow: none;\n",
              "  }\n",
              "\n",
              "  .colab-df-spinner {\n",
              "    border: 2px solid var(--fill-color);\n",
              "    border-color: transparent;\n",
              "    border-bottom-color: var(--fill-color);\n",
              "    animation:\n",
              "      spin 1s steps(1) infinite;\n",
              "  }\n",
              "\n",
              "  @keyframes spin {\n",
              "    0% {\n",
              "      border-color: transparent;\n",
              "      border-bottom-color: var(--fill-color);\n",
              "      border-left-color: var(--fill-color);\n",
              "    }\n",
              "    20% {\n",
              "      border-color: transparent;\n",
              "      border-left-color: var(--fill-color);\n",
              "      border-top-color: var(--fill-color);\n",
              "    }\n",
              "    30% {\n",
              "      border-color: transparent;\n",
              "      border-left-color: var(--fill-color);\n",
              "      border-top-color: var(--fill-color);\n",
              "      border-right-color: var(--fill-color);\n",
              "    }\n",
              "    40% {\n",
              "      border-color: transparent;\n",
              "      border-right-color: var(--fill-color);\n",
              "      border-top-color: var(--fill-color);\n",
              "    }\n",
              "    60% {\n",
              "      border-color: transparent;\n",
              "      border-right-color: var(--fill-color);\n",
              "    }\n",
              "    80% {\n",
              "      border-color: transparent;\n",
              "      border-right-color: var(--fill-color);\n",
              "      border-bottom-color: var(--fill-color);\n",
              "    }\n",
              "    90% {\n",
              "      border-color: transparent;\n",
              "      border-bottom-color: var(--fill-color);\n",
              "    }\n",
              "  }\n",
              "</style>\n",
              "\n",
              "  <script>\n",
              "    async function quickchart(key) {\n",
              "      const quickchartButtonEl =\n",
              "        document.querySelector('#' + key + ' button');\n",
              "      quickchartButtonEl.disabled = true;  // To prevent multiple clicks.\n",
              "      quickchartButtonEl.classList.add('colab-df-spinner');\n",
              "      try {\n",
              "        const charts = await google.colab.kernel.invokeFunction(\n",
              "            'suggestCharts', [key], {});\n",
              "      } catch (error) {\n",
              "        console.error('Error during call to suggestCharts:', error);\n",
              "      }\n",
              "      quickchartButtonEl.classList.remove('colab-df-spinner');\n",
              "      quickchartButtonEl.classList.add('colab-df-quickchart-complete');\n",
              "    }\n",
              "    (() => {\n",
              "      let quickchartButtonEl =\n",
              "        document.querySelector('#df-b37d2a8e-0bdf-4c6c-8257-c4b14a077cc4 button');\n",
              "      quickchartButtonEl.style.display =\n",
              "        google.colab.kernel.accessAllowed ? 'block' : 'none';\n",
              "    })();\n",
              "  </script>\n",
              "</div>\n",
              "    </div>\n",
              "  </div>\n"
            ],
            "application/vnd.google.colaboratory.intrinsic+json": {
              "type": "dataframe",
              "variable_name": "mdeberta_table",
              "summary": "{\n  \"name\": \"mdeberta_table\",\n  \"rows\": 6,\n  \"fields\": [\n    {\n      \"column\": \"Prompt 1\",\n      \"properties\": {\n        \"dtype\": \"number\",\n        \"std\": 0.12954175645970942,\n        \"min\": 0.486,\n        \"max\": 0.822,\n        \"num_unique_values\": 5,\n        \"samples\": [\n          0.822,\n          0.651,\n          0.486\n        ],\n        \"semantic_type\": \"\",\n        \"description\": \"\"\n      }\n    },\n    {\n      \"column\": \"Prompt 2\",\n      \"properties\": {\n        \"dtype\": \"number\",\n        \"std\": 0.052064063101785144,\n        \"min\": 0.466,\n        \"max\": 0.595,\n        \"num_unique_values\": 6,\n        \"samples\": [\n          0.505,\n          0.595,\n          0.563\n        ],\n        \"semantic_type\": \"\",\n        \"description\": \"\"\n      }\n    },\n    {\n      \"column\": \"Prompt 3\",\n      \"properties\": {\n        \"dtype\": \"number\",\n        \"std\": 0.13007690033207278,\n        \"min\": 0.488,\n        \"max\": 0.826,\n        \"num_unique_values\": 6,\n        \"samples\": [\n          0.704,\n          0.826,\n          0.656\n        ],\n        \"semantic_type\": \"\",\n        \"description\": \"\"\n      }\n    }\n  ]\n}"
            }
          },
          "metadata": {},
          "execution_count": 21
        }
      ]
    }
  ]
}
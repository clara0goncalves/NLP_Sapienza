{
  "cells": [
    {
      "cell_type": "markdown",
      "metadata": {
        "id": "f0sPER-ui9HA"
      },
      "source": [
        "# 1.0 Libraries"
      ]
    },
    {
      "cell_type": "code",
      "execution_count": 1,
      "metadata": {
        "colab": {
          "base_uri": "https://localhost:8080/"
        },
        "id": "83qtMqTUka4o",
        "outputId": "0d7dd377-4b60-4f73-a192-4f4b778da2dc"
      },
      "outputs": [
        {
          "name": "stdout",
          "output_type": "stream",
          "text": [
            "Requirement already satisfied: langid in c:\\users\\35193\\appdata\\local\\packages\\pythonsoftwarefoundation.python.3.10_qbz5n2kfra8p0\\localcache\\local-packages\\python310\\site-packages (1.1.6)\n",
            "Requirement already satisfied: numpy in c:\\users\\35193\\appdata\\local\\packages\\pythonsoftwarefoundation.python.3.10_qbz5n2kfra8p0\\localcache\\local-packages\\python310\\site-packages (from langid) (1.26.0)\n",
            "Requirement already satisfied: gensim in c:\\users\\35193\\appdata\\local\\packages\\pythonsoftwarefoundation.python.3.10_qbz5n2kfra8p0\\localcache\\local-packages\\python310\\site-packages (4.3.2)\n",
            "Requirement already satisfied: numpy>=1.18.5 in c:\\users\\35193\\appdata\\local\\packages\\pythonsoftwarefoundation.python.3.10_qbz5n2kfra8p0\\localcache\\local-packages\\python310\\site-packages (from gensim) (1.26.0)\n",
            "Requirement already satisfied: scipy>=1.7.0 in c:\\users\\35193\\appdata\\local\\packages\\pythonsoftwarefoundation.python.3.10_qbz5n2kfra8p0\\localcache\\local-packages\\python310\\site-packages (from gensim) (1.11.2)\n",
            "Requirement already satisfied: smart-open>=1.8.1 in c:\\users\\35193\\appdata\\local\\packages\\pythonsoftwarefoundation.python.3.10_qbz5n2kfra8p0\\localcache\\local-packages\\python310\\site-packages (from gensim) (6.4.0)\n"
          ]
        },
        {
          "name": "stderr",
          "output_type": "stream",
          "text": [
            "Traceback (most recent call last):\n",
            "  File \"c:\\Users\\35193\\miniconda3\\envs\\cuda_env\\lib\\runpy.py\", line 188, in _run_module_as_main\n",
            "    mod_name, mod_spec, code = _get_module_details(mod_name, _Error)\n",
            "  File \"c:\\Users\\35193\\miniconda3\\envs\\cuda_env\\lib\\runpy.py\", line 147, in _get_module_details\n",
            "    return _get_module_details(pkg_main_name, error)\n",
            "  File \"c:\\Users\\35193\\miniconda3\\envs\\cuda_env\\lib\\runpy.py\", line 111, in _get_module_details\n",
            "    __import__(pkg_name)\n",
            "  File \"c:\\Users\\35193\\miniconda3\\envs\\cuda_env\\lib\\site-packages\\spacy\\__init__.py\", line 13, in <module>\n",
            "    from . import pipeline  # noqa: F401\n",
            "  File \"c:\\Users\\35193\\miniconda3\\envs\\cuda_env\\lib\\site-packages\\spacy\\pipeline\\__init__.py\", line 1, in <module>\n",
            "    from .attributeruler import AttributeRuler\n",
            "  File \"c:\\Users\\35193\\miniconda3\\envs\\cuda_env\\lib\\site-packages\\spacy\\pipeline\\attributeruler.py\", line 8, in <module>\n",
            "    from ..language import Language\n",
            "  File \"c:\\Users\\35193\\miniconda3\\envs\\cuda_env\\lib\\site-packages\\spacy\\language.py\", line 43, in <module>\n",
            "    from .pipe_analysis import analyze_pipes, print_pipe_analysis, validate_attrs\n",
            "  File \"c:\\Users\\35193\\miniconda3\\envs\\cuda_env\\lib\\site-packages\\spacy\\pipe_analysis.py\", line 6, in <module>\n",
            "    from .tokens import Doc, Span, Token\n",
            "  File \"c:\\Users\\35193\\miniconda3\\envs\\cuda_env\\lib\\site-packages\\spacy\\tokens\\__init__.py\", line 1, in <module>\n",
            "    from ._serialize import DocBin\n",
            "  File \"c:\\Users\\35193\\miniconda3\\envs\\cuda_env\\lib\\site-packages\\spacy\\tokens\\_serialize.py\", line 14, in <module>\n",
            "    from ..vocab import Vocab\n",
            "  File \"spacy\\vocab.pyx\", line 1, in init spacy.vocab\n",
            "  File \"spacy\\tokens\\doc.pyx\", line 49, in init spacy.tokens.doc\n",
            "  File \"c:\\Users\\35193\\miniconda3\\envs\\cuda_env\\lib\\site-packages\\spacy\\schemas.py\", line 287, in <module>\n",
            "    class TokenPattern(BaseModel):\n",
            "  File \"pydantic\\main.py\", line 299, in pydantic.main.ModelMetaclass.__new__\n",
            "  File \"pydantic\\fields.py\", line 411, in pydantic.fields.ModelField.infer\n",
            "  File \"pydantic\\fields.py\", line 342, in pydantic.fields.ModelField.__init__\n",
            "  File \"pydantic\\fields.py\", line 451, in pydantic.fields.ModelField.prepare\n",
            "  File \"pydantic\\fields.py\", line 545, in pydantic.fields.ModelField._type_analysis\n",
            "  File \"pydantic\\fields.py\", line 550, in pydantic.fields.ModelField._type_analysis\n",
            "  File \"c:\\Users\\35193\\miniconda3\\envs\\cuda_env\\lib\\typing.py\", line 852, in __subclasscheck__\n",
            "    return issubclass(cls, self.__origin__)\n",
            "TypeError: issubclass() arg 1 must be a class\n"
          ]
        },
        {
          "name": "stdout",
          "output_type": "stream",
          "text": [
            "Requirement already satisfied: langdetect in c:\\users\\35193\\appdata\\local\\packages\\pythonsoftwarefoundation.python.3.10_qbz5n2kfra8p0\\localcache\\local-packages\\python310\\site-packages (1.0.9)\n",
            "Requirement already satisfied: six in c:\\users\\35193\\appdata\\local\\packages\\pythonsoftwarefoundation.python.3.10_qbz5n2kfra8p0\\localcache\\local-packages\\python310\\site-packages (from langdetect) (1.16.0)\n"
          ]
        }
      ],
      "source": [
        "!pip install langid\n",
        "!pip install gensim\n",
        "#!pip install -U spacy\n",
        "!python -m spacy download it_core_news_sm\n",
        "!pip install langdetect\n"
      ]
    },
    {
      "cell_type": "markdown",
      "metadata": {
        "id": "njTlJZWDaLSL"
      },
      "source": [
        "#Imports"
      ]
    },
    {
      "cell_type": "code",
      "execution_count": 2,
      "metadata": {
        "colab": {
          "base_uri": "https://localhost:8080/"
        },
        "id": "q-3BMXNIjGo0",
        "outputId": "4cf31533-38f8-483b-b95c-45e4840ca785"
      },
      "outputs": [],
      "source": [
        "import numpy as np\n",
        "import pandas as pd\n",
        "\n",
        "# from google.colab import drive\n",
        "# drive.mount('/content/gdrive')\n",
        "\n",
        "import re\n",
        "import json\n",
        "import gensim.downloader as api\n",
        "\n",
        "import langid\n",
        "from gensim.models import Word2Vec\n",
        "\n",
        "# from sense2vec import Sense2Vec\n",
        "import random\n",
        "\n",
        "import torch\n",
        "\"\"\"from transformers import RobertaTokenizer\n",
        "from transformers import RobertaForMultipleChoice\n",
        "from torch.distributions import Categorical\n",
        "from transformers import AutoTokenizer, AutoModelForSequenceClassification\n",
        "from transformers import pipeline\"\"\"\n",
        "\n",
        "from sklearn.metrics import accuracy_score, precision_score, recall_score, f1_score, confusion_matrix\n",
        "# import seaborn as sns\n",
        "import matplotlib.pyplot as plt\n",
        "\n",
        "# import nltk\n",
        "# nltk.download('omw-1.4')\n",
        "# nltk.download('wordnet')\n",
        "# from nltk.corpus import wordnet as wn\n",
        "\n",
        "import time\n",
        "import warnings\n",
        "warnings.filterwarnings('ignore')"
      ]
    },
    {
      "cell_type": "markdown",
      "metadata": {
        "id": "KWomv2Y0g-l_"
      },
      "source": [
        "# 2.0 Set up"
      ]
    },
    {
      "cell_type": "code",
      "execution_count": 3,
      "metadata": {
        "id": "8djnrRqluH-7"
      },
      "outputs": [],
      "source": [
        "import random"
      ]
    },
    {
      "cell_type": "code",
      "execution_count": 4,
      "metadata": {
        "id": "M9yPG6KyH1dx"
      },
      "outputs": [],
      "source": [
        "def load_data(data_path, gold_path):\n",
        "  count = 0\n",
        "  hypernyms_dict = {}\n",
        "  with open(data_path, \"r\", encoding = 'utf-8') as data_file, open(gold_path, \"r\", encoding = 'utf-8') as gold_file:\n",
        "    for data_line, gold_line in zip(data_file, gold_file):\n",
        "      term_list = [term for term in data_line.split()[:-1]]\n",
        "      term = \" \".join(term_list)\n",
        "      hypernyms = [hypernym.replace(\"\\n\", \"\") for hypernym in gold_line.split(\"\\t\")]\n",
        "      hypernyms_dict[term] = hypernyms\n",
        "      count += 1\n",
        "\n",
        "      if count == 20:\n",
        "        break\n",
        "\n",
        "  return hypernyms_dict"
      ]
    },
    {
      "cell_type": "code",
      "execution_count": 5,
      "metadata": {
        "id": "oWNvGVp9XdIx"
      },
      "outputs": [],
      "source": [
        "#  PARTIAL italian training data\n",
        "train_hypernyms = load_data(\"1B.italian.training.data.txt\", \"1B.italian.training.gold.txt\")\n",
        "\n",
        "# PARTIAL italian test data\n",
        "test_hypernyms = load_data(\"1B.italian.test.data.txt\", \"1B.italian.test.gold.txt\")"
      ]
    },
    {
      "cell_type": "code",
      "execution_count": 6,
      "metadata": {
        "colab": {
          "base_uri": "https://localhost:8080/"
        },
        "id": "yzNMIkBleI8O",
        "outputId": "67ffca0a-da3b-4693-ba1a-f876f3c968bb"
      },
      "outputs": [
        {
          "name": "stdout",
          "output_type": "stream",
          "text": [
            "{'sesto': ['grado', 'numero ordinale', 'frazione', 'carica'], 'Sigillo': ['comune', 'municipalità', 'comune italiano', 'frazione', 'paese', 'quartiere', 'comunità', 'borgo'], 'toga': ['comune', 'mantella', 'indumento', 'vestito', 'mantello', 'veste', 'abito', 'costume'], 'Eduard Buchner': ['accademico', 'persona', 'professore', 'biochimico', 'scienziato', 'chimico', 'scopritore', 'docente'], 'montagna': ['panorama', 'grande quantità', 'rilievo'], 'Renato Guttuso': ['pittore', 'persona', 'artista', 'politico'], 'cardamomo': ['pianta', 'aroma', 'tracheobionta', 'vegetale', 'pianta da fiore', 'magnoliophyta'], 'musical': ['rappresentazione', 'spettacolo', 'spettacolo teatrale', 'show'], 'vicino': ['persona'], 'rinnovo': ['sostituzione', 'prosieguo', 'proroga', 'proseguimento', 'replica', 'continuamento', 'prosecuzione'], 'rampollo': ['parente', 'congiunto', 'persona', 'famigliare'], 'piccione': ['uccello', 'animale', 'volatile', 'vertebrato'], 'cernita': ['comune'], 'gettone': ['dischetto', 'moneta', 'compenso', 'disco', 'cerchio'], 'Riunione': ['isola'], 'fondo': ['zona', 'barriera', 'estremità', 'gara', 'limite', 'competizione', 'località', 'sport olimpico', 'sportivo'], 'nomignolo': ['nome in codice', 'denominazione', 'antroponimo', 'nominativo', 'nome di battesimo'], 'straniero': ['viaggiatore', 'equus'], 'bando': ['concorso', 'documento'], 'ottobre': ['periodo', 'mese civile', 'tempo', 'mese', 'periodo di tempo']}\n"
          ]
        }
      ],
      "source": [
        "print(train_hypernyms)"
      ]
    },
    {
      "cell_type": "markdown",
      "metadata": {
        "id": "hSwdInpWaDlC"
      },
      "source": [
        "#Generate Distractors from italian dataset\n"
      ]
    },
    {
      "cell_type": "code",
      "execution_count": 7,
      "metadata": {
        "colab": {
          "base_uri": "https://localhost:8080/"
        },
        "id": "5xSi-aDxvgvG",
        "outputId": "0e259b1e-431f-4d57-ebd8-5e08394de8e8"
      },
      "outputs": [
        {
          "name": "stdout",
          "output_type": "stream",
          "text": [
            "[WinError 3] O sistema não conseguiu localizar o caminho especificado: '/content/Parole_Italiane'\n",
            "c:\\Users\\35193\\Desktop\\Sapienza\\1 year\\Second Semester\\Multilingual Natural Language Processing\\Homework 1\\GitHub\\NLP_Sapienza\\Task_26\n"
          ]
        },
        {
          "name": "stderr",
          "output_type": "stream",
          "text": [
            "Cloning into 'paroleitaliane'...\n"
          ]
        }
      ],
      "source": [
        "!git clone https://github.com/napolux/paroleitaliane.git\n",
        "%cd /content/Parole_Italiane"
      ]
    },
    {
      "cell_type": "code",
      "execution_count": 8,
      "metadata": {
        "colab": {
          "base_uri": "https://localhost:8080/"
        },
        "id": "iy-yrypF3ZhV",
        "outputId": "1967cd15-cdf9-4a5f-cef6-7552394d460a"
      },
      "outputs": [
        {
          "name": "stderr",
          "output_type": "stream",
          "text": [
            "'wget' is not recognized as an internal or external command,\n",
            "operable program or batch file.\n"
          ]
        },
        {
          "name": "stderr",
          "output_type": "stream",
          "text": [
            "'gunzip' is not recognized as an internal or external command,\n",
            "operable program or batch file.\n"
          ]
        },
        {
          "name": "stdout",
          "output_type": "stream",
          "text": [
            "Collecting fasttext\n",
            "  Using cached fasttext-0.9.2.tar.gz (68 kB)\n",
            "  Preparing metadata (setup.py): started\n",
            "  Preparing metadata (setup.py): finished with status 'done'\n",
            "Requirement already satisfied: pybind11>=2.2 in c:\\users\\35193\\appdata\\local\\packages\\pythonsoftwarefoundation.python.3.10_qbz5n2kfra8p0\\localcache\\local-packages\\python310\\site-packages (from fasttext) (2.12.0)\n",
            "Requirement already satisfied: setuptools>=0.7.0 in c:\\program files\\windowsapps\\pythonsoftwarefoundation.python.3.10_3.10.3056.0_x64__qbz5n2kfra8p0\\lib\\site-packages (from fasttext) (65.5.0)\n",
            "Requirement already satisfied: numpy in c:\\users\\35193\\appdata\\local\\packages\\pythonsoftwarefoundation.python.3.10_qbz5n2kfra8p0\\localcache\\local-packages\\python310\\site-packages (from fasttext) (1.26.0)\n",
            "Building wheels for collected packages: fasttext\n",
            "  Building wheel for fasttext (setup.py): started\n",
            "  Building wheel for fasttext (setup.py): finished with status 'error'\n",
            "  Running setup.py clean for fasttext\n",
            "Failed to build fasttext\n"
          ]
        },
        {
          "name": "stderr",
          "output_type": "stream",
          "text": [
            "  error: subprocess-exited-with-error\n",
            "  \n",
            "  × python setup.py bdist_wheel did not run successfully.\n",
            "  │ exit code: 1\n",
            "  ╰─> [62 lines of output]\n",
            "      C:\\Program Files\\WindowsApps\\PythonSoftwareFoundation.Python.3.10_3.10.3056.0_x64__qbz5n2kfra8p0\\lib\\site-packages\\setuptools\\dist.py:771: UserWarning: Usage of dash-separated 'description-file' will not be supported in future versions. Please use the underscore name 'description_file' instead\n",
            "        warnings.warn(\n",
            "      running bdist_wheel\n",
            "      running build\n",
            "      running build_py\n",
            "      creating build\n",
            "      creating build\\lib.win-amd64-cpython-310\n",
            "      creating build\\lib.win-amd64-cpython-310\\fasttext\n",
            "      copying python\\fasttext_module\\fasttext\\FastText.py -> build\\lib.win-amd64-cpython-310\\fasttext\n",
            "      copying python\\fasttext_module\\fasttext\\__init__.py -> build\\lib.win-amd64-cpython-310\\fasttext\n",
            "      creating build\\lib.win-amd64-cpython-310\\fasttext\\util\n",
            "      copying python\\fasttext_module\\fasttext\\util\\util.py -> build\\lib.win-amd64-cpython-310\\fasttext\\util\n",
            "      copying python\\fasttext_module\\fasttext\\util\\__init__.py -> build\\lib.win-amd64-cpython-310\\fasttext\\util\n",
            "      creating build\\lib.win-amd64-cpython-310\\fasttext\\tests\n",
            "      copying python\\fasttext_module\\fasttext\\tests\\test_configurations.py -> build\\lib.win-amd64-cpython-310\\fasttext\\tests\n",
            "      copying python\\fasttext_module\\fasttext\\tests\\test_script.py -> build\\lib.win-amd64-cpython-310\\fasttext\\tests\n",
            "      copying python\\fasttext_module\\fasttext\\tests\\__init__.py -> build\\lib.win-amd64-cpython-310\\fasttext\\tests\n",
            "      running build_ext\n",
            "      building 'fasttext_pybind' extension\n",
            "      creating build\\temp.win-amd64-cpython-310\n",
            "      creating build\\temp.win-amd64-cpython-310\\Release\n",
            "      creating build\\temp.win-amd64-cpython-310\\Release\\python\n",
            "      creating build\\temp.win-amd64-cpython-310\\Release\\python\\fasttext_module\n",
            "      creating build\\temp.win-amd64-cpython-310\\Release\\python\\fasttext_module\\fasttext\n",
            "      creating build\\temp.win-amd64-cpython-310\\Release\\python\\fasttext_module\\fasttext\\pybind\n",
            "      creating build\\temp.win-amd64-cpython-310\\Release\\src\n",
            "      \"C:\\Program Files (x86)\\Microsoft Visual Studio\\2022\\BuildTools\\VC\\Tools\\MSVC\\14.39.33519\\bin\\HostX86\\x64\\cl.exe\" /c /nologo /O2 /W3 /GL /DNDEBUG /MD -IC:\\Users\\35193\\AppData\\Local\\Packages\\PythonSoftwareFoundation.Python.3.10_qbz5n2kfra8p0\\LocalCache\\local-packages\\Python310\\site-packages\\pybind11\\include -IC:\\Users\\35193\\AppData\\Local\\Packages\\PythonSoftwareFoundation.Python.3.10_qbz5n2kfra8p0\\LocalCache\\local-packages\\Python310\\site-packages\\pybind11\\include -Isrc \"-IC:\\Program Files\\WindowsApps\\PythonSoftwareFoundation.Python.3.10_3.10.3056.0_x64__qbz5n2kfra8p0\\include\" \"-IC:\\Program Files\\WindowsApps\\PythonSoftwareFoundation.Python.3.10_3.10.3056.0_x64__qbz5n2kfra8p0\\Include\" \"-IC:\\Program Files (x86)\\Microsoft Visual Studio\\2022\\BuildTools\\VC\\Tools\\MSVC\\14.39.33519\\include\" \"-IC:\\Program Files (x86)\\Microsoft Visual Studio\\2022\\BuildTools\\VC\\Auxiliary\\VS\\include\" \"-IC:\\Program Files (x86)\\Windows Kits\\10\\include\\10.0.22621.0\\ucrt\" \"-IC:\\Program Files (x86)\\Windows Kits\\10\\\\include\\10.0.22621.0\\\\um\" \"-IC:\\Program Files (x86)\\Windows Kits\\10\\\\include\\10.0.22621.0\\\\shared\" \"-IC:\\Program Files (x86)\\Windows Kits\\10\\\\include\\10.0.22621.0\\\\winrt\" \"-IC:\\Program Files (x86)\\Windows Kits\\10\\\\include\\10.0.22621.0\\\\cppwinrt\" \"-IC:\\Program Files (x86)\\Windows Kits\\NETFXSDK\\4.8\\include\\um\" /EHsc /Tppython/fasttext_module/fasttext/pybind/fasttext_pybind.cc /Fobuild\\temp.win-amd64-cpython-310\\Release\\python/fasttext_module/fasttext/pybind/fasttext_pybind.obj /EHsc /DVERSION_INFO=\\\\\\\"0.9.2\\\\\\\"\n",
            "      fasttext_pybind.cc\n",
            "      python/fasttext_module/fasttext/pybind/fasttext_pybind.cc(171): error C2065: 'ssize_t': identificador nÆo declarado\n",
            "      python/fasttext_module/fasttext/pybind/fasttext_pybind.cc(171): error C2672: 'pybind11::init': nenhuma fun‡Æo sobrecarregada correspondente encontrada\n",
            "      C:\\Users\\35193\\AppData\\Local\\Packages\\PythonSoftwareFoundation.Python.3.10_qbz5n2kfra8p0\\LocalCache\\local-packages\\Python310\\site-packages\\pybind11\\include\\pybind11\\pybind11.h(1991): note: poderia ser 'Ret pybind11::init(CFunc &&,AFunc &&)'\n",
            "      python/fasttext_module/fasttext/pybind/fasttext_pybind.cc(171): note: 'pybind11::init': argumento de modelo inv lido para 'CFunc', tipo esperado\n",
            "      C:\\Users\\35193\\AppData\\Local\\Packages\\PythonSoftwareFoundation.Python.3.10_qbz5n2kfra8p0\\LocalCache\\local-packages\\Python310\\site-packages\\pybind11\\include\\pybind11\\pybind11.h(1983): note: ou       'Ret pybind11::init(Func &&)'\n",
            "      python/fasttext_module/fasttext/pybind/fasttext_pybind.cc(171): note: 'pybind11::init': argumento de modelo inv lido para 'Func', tipo esperado\n",
            "      C:\\Users\\35193\\AppData\\Local\\Packages\\PythonSoftwareFoundation.Python.3.10_qbz5n2kfra8p0\\LocalCache\\local-packages\\Python310\\site-packages\\pybind11\\include\\pybind11\\pybind11.h(1971): note: ou       'pybind11::detail::initimpl::constructor<Args...> pybind11::init(void)'\n",
            "      python/fasttext_module/fasttext/pybind/fasttext_pybind.cc(171): note: 'pybind11::init': argumento de modelo inv lido para 'Args', tipo esperado\n",
            "      python/fasttext_module/fasttext/pybind/fasttext_pybind.cc(171): error C2672: 'pybind11::class_<fasttext::Vector>::def': nenhuma fun‡Æo sobrecarregada correspondente encontrada\n",
            "      C:\\Users\\35193\\AppData\\Local\\Packages\\PythonSoftwareFoundation.Python.3.10_qbz5n2kfra8p0\\LocalCache\\local-packages\\Python310\\site-packages\\pybind11\\include\\pybind11\\pybind11.h(1690): note: poderia ser 'pybind11::class_<fasttext::Vector> &pybind11::class_<fasttext::Vector>::def(pybind11::detail::initimpl::pickle_factory<Args...> &&,const Extra &...)'\n",
            "      C:\\Users\\35193\\AppData\\Local\\Packages\\PythonSoftwareFoundation.Python.3.10_qbz5n2kfra8p0\\LocalCache\\local-packages\\Python310\\site-packages\\pybind11\\include\\pybind11\\pybind11.h(1684): note: ou       'pybind11::class_<fasttext::Vector> &pybind11::class_<fasttext::Vector>::def(pybind11::detail::initimpl::factory<Args...> &&,const Extra &...)'\n",
            "      C:\\Users\\35193\\AppData\\Local\\Packages\\PythonSoftwareFoundation.Python.3.10_qbz5n2kfra8p0\\LocalCache\\local-packages\\Python310\\site-packages\\pybind11\\include\\pybind11\\pybind11.h(1677): note: ou       'pybind11::class_<fasttext::Vector> &pybind11::class_<fasttext::Vector>::def(const pybind11::detail::initimpl::alias_constructor<Args...> &,const Extra &...)'\n",
            "      C:\\Users\\35193\\AppData\\Local\\Packages\\PythonSoftwareFoundation.Python.3.10_qbz5n2kfra8p0\\LocalCache\\local-packages\\Python310\\site-packages\\pybind11\\include\\pybind11\\pybind11.h(1670): note: ou       'pybind11::class_<fasttext::Vector> &pybind11::class_<fasttext::Vector>::def(const pybind11::detail::initimpl::constructor<Args...> &,const Extra &...)'\n",
            "      C:\\Users\\35193\\AppData\\Local\\Packages\\PythonSoftwareFoundation.Python.3.10_qbz5n2kfra8p0\\LocalCache\\local-packages\\Python310\\site-packages\\pybind11\\include\\pybind11\\pybind11.h(1658): note: ou       'pybind11::class_<fasttext::Vector> &pybind11::class_<fasttext::Vector>::def(const T &,const Extra &...)'\n",
            "      C:\\Users\\35193\\AppData\\Local\\Packages\\PythonSoftwareFoundation.Python.3.10_qbz5n2kfra8p0\\LocalCache\\local-packages\\Python310\\site-packages\\pybind11\\include\\pybind11\\pybind11.h(1633): note: ou       'pybind11::class_<fasttext::Vector> &pybind11::class_<fasttext::Vector>::def(const char *,Func &&,const Extra &...)'\n",
            "      python/fasttext_module/fasttext/pybind/fasttext_pybind.cc(171): note: 'pybind11::class_<fasttext::Vector> &pybind11::class_<fasttext::Vector>::def(const char *,Func &&,const Extra &...)': espera argumentos 3 - 1 fornecido\n",
            "      python/fasttext_module/fasttext/pybind/fasttext_pybind.cc(185): error C2065: 'ssize_t': identificador nÆo declarado\n",
            "      python/fasttext_module/fasttext/pybind/fasttext_pybind.cc(185): error C2065: 'ssize_t': identificador nÆo declarado\n",
            "      python/fasttext_module/fasttext/pybind/fasttext_pybind.cc(185): error C2672: 'pybind11::init': nenhuma fun‡Æo sobrecarregada correspondente encontrada\n",
            "      C:\\Users\\35193\\AppData\\Local\\Packages\\PythonSoftwareFoundation.Python.3.10_qbz5n2kfra8p0\\LocalCache\\local-packages\\Python310\\site-packages\\pybind11\\include\\pybind11\\pybind11.h(1991): note: poderia ser 'Ret pybind11::init(CFunc &&,AFunc &&)'\n",
            "      python/fasttext_module/fasttext/pybind/fasttext_pybind.cc(185): note: 'pybind11::init': argumento de modelo inv lido para 'CFunc', tipo esperado\n",
            "      C:\\Users\\35193\\AppData\\Local\\Packages\\PythonSoftwareFoundation.Python.3.10_qbz5n2kfra8p0\\LocalCache\\local-packages\\Python310\\site-packages\\pybind11\\include\\pybind11\\pybind11.h(1983): note: ou       'Ret pybind11::init(Func &&)'\n",
            "      python/fasttext_module/fasttext/pybind/fasttext_pybind.cc(185): note: 'pybind11::init': argumento de modelo inv lido para 'Func', tipo esperado\n",
            "      C:\\Users\\35193\\AppData\\Local\\Packages\\PythonSoftwareFoundation.Python.3.10_qbz5n2kfra8p0\\LocalCache\\local-packages\\Python310\\site-packages\\pybind11\\include\\pybind11\\pybind11.h(1971): note: ou       'pybind11::detail::initimpl::constructor<Args...> pybind11::init(void)'\n",
            "      python/fasttext_module/fasttext/pybind/fasttext_pybind.cc(185): note: 'pybind11::init': argumento de modelo inv lido para 'Args', tipo esperado\n",
            "      python/fasttext_module/fasttext/pybind/fasttext_pybind.cc(185): error C2672: 'pybind11::class_<fasttext::DenseMatrix>::def': nenhuma fun‡Æo sobrecarregada correspondente encontrada\n",
            "      C:\\Users\\35193\\AppData\\Local\\Packages\\PythonSoftwareFoundation.Python.3.10_qbz5n2kfra8p0\\LocalCache\\local-packages\\Python310\\site-packages\\pybind11\\include\\pybind11\\pybind11.h(1690): note: poderia ser 'pybind11::class_<fasttext::DenseMatrix> &pybind11::class_<fasttext::DenseMatrix>::def(pybind11::detail::initimpl::pickle_factory<Args...> &&,const Extra &...)'\n",
            "      C:\\Users\\35193\\AppData\\Local\\Packages\\PythonSoftwareFoundation.Python.3.10_qbz5n2kfra8p0\\LocalCache\\local-packages\\Python310\\site-packages\\pybind11\\include\\pybind11\\pybind11.h(1684): note: ou       'pybind11::class_<fasttext::DenseMatrix> &pybind11::class_<fasttext::DenseMatrix>::def(pybind11::detail::initimpl::factory<Args...> &&,const Extra &...)'\n",
            "      C:\\Users\\35193\\AppData\\Local\\Packages\\PythonSoftwareFoundation.Python.3.10_qbz5n2kfra8p0\\LocalCache\\local-packages\\Python310\\site-packages\\pybind11\\include\\pybind11\\pybind11.h(1677): note: ou       'pybind11::class_<fasttext::DenseMatrix> &pybind11::class_<fasttext::DenseMatrix>::def(const pybind11::detail::initimpl::alias_constructor<Args...> &,const Extra &...)'\n",
            "      C:\\Users\\35193\\AppData\\Local\\Packages\\PythonSoftwareFoundation.Python.3.10_qbz5n2kfra8p0\\LocalCache\\local-packages\\Python310\\site-packages\\pybind11\\include\\pybind11\\pybind11.h(1670): note: ou       'pybind11::class_<fasttext::DenseMatrix> &pybind11::class_<fasttext::DenseMatrix>::def(const pybind11::detail::initimpl::constructor<Args...> &,const Extra &...)'\n",
            "      C:\\Users\\35193\\AppData\\Local\\Packages\\PythonSoftwareFoundation.Python.3.10_qbz5n2kfra8p0\\LocalCache\\local-packages\\Python310\\site-packages\\pybind11\\include\\pybind11\\pybind11.h(1658): note: ou       'pybind11::class_<fasttext::DenseMatrix> &pybind11::class_<fasttext::DenseMatrix>::def(const T &,const Extra &...)'\n",
            "      C:\\Users\\35193\\AppData\\Local\\Packages\\PythonSoftwareFoundation.Python.3.10_qbz5n2kfra8p0\\LocalCache\\local-packages\\Python310\\site-packages\\pybind11\\include\\pybind11\\pybind11.h(1633): note: ou       'pybind11::class_<fasttext::DenseMatrix> &pybind11::class_<fasttext::DenseMatrix>::def(const char *,Func &&,const Extra &...)'\n",
            "      python/fasttext_module/fasttext/pybind/fasttext_pybind.cc(185): note: 'pybind11::class_<fasttext::DenseMatrix> &pybind11::class_<fasttext::DenseMatrix>::def(const char *,Func &&,const Extra &...)': espera argumentos 3 - 1 fornecido\n",
            "      error: command 'C:\\\\Program Files (x86)\\\\Microsoft Visual Studio\\\\2022\\\\BuildTools\\\\VC\\\\Tools\\\\MSVC\\\\14.39.33519\\\\bin\\\\HostX86\\\\x64\\\\cl.exe' failed with exit code 2\n",
            "      [end of output]\n",
            "  \n",
            "  note: This error originates from a subprocess, and is likely not a problem with pip.\n",
            "  ERROR: Failed building wheel for fasttext\n",
            "ERROR: Could not build wheels for fasttext, which is required to install pyproject.toml-based projects\n"
          ]
        }
      ],
      "source": [
        "#!wget https://dl.fbaipublicfiles.com/fasttext/vectors-crawl/cc.it.300.bin.gz\n",
        "!gunzip cc.it.300.bin.gz\n",
        "!pip install fasttext"
      ]
    },
    {
      "cell_type": "code",
      "execution_count": 11,
      "metadata": {
        "id": "Un1DCEFSv91T"
      },
      "outputs": [],
      "source": [
        "with open('280000_parole_italiane.txt', 'r') as file:\n",
        "  italian_word_list=[]\n",
        "  for line in file:\n",
        "    italian_word_list.append(line)\n"
      ]
    },
    {
      "cell_type": "code",
      "execution_count": 12,
      "metadata": {
        "id": "oQnZBa8aIYp8"
      },
      "outputs": [],
      "source": [
        "import fasttext\n",
        "import numpy as np\n",
        "import fasttext.util\n",
        "\n",
        "def cosine_similarity(v1, v2):\n",
        "    dot_product = np.dot(v1, v2)\n",
        "    norm_v1 = np.linalg.norm(v1)\n",
        "    norm_v2 = np.linalg.norm(v2)\n",
        "    similarity = dot_product / (norm_v1 * norm_v2)\n",
        "    return similarity\n",
        "\n",
        "def check_letter(word1, word2):\n",
        "\n",
        "    common_letters = set(word1).intersection(set(word2))\n",
        "\n",
        "    threshold = len(word1) * 0.4\n",
        "\n",
        "    if len(common_letters) >= threshold:\n",
        "        return False\n",
        "    else:\n",
        "        return True"
      ]
    },
    {
      "cell_type": "code",
      "execution_count": 15,
      "metadata": {
        "colab": {
          "base_uri": "https://localhost:8080/"
        },
        "id": "-h7NKDqnwe7r",
        "outputId": "e4b0139e-654e-43be-959c-5edac8d10145"
      },
      "outputs": [
        {
          "name": "stderr",
          "output_type": "stream",
          "text": [
            "Warning : `load_model` does not return WordVectorModel or SupervisedModel any more, but a `FastText` object which is very similar.\n"
          ]
        },
        {
          "ename": "ValueError",
          "evalue": "cc.it.300.bin has wrong file format!",
          "output_type": "error",
          "traceback": [
            "\u001b[1;31m---------------------------------------------------------------------------\u001b[0m",
            "\u001b[1;31mValueError\u001b[0m                                Traceback (most recent call last)",
            "Cell \u001b[1;32mIn[15], line 27\u001b[0m\n\u001b[0;32m     22\u001b[0m       results\u001b[38;5;241m.\u001b[39mappend(similar_words[index])\n\u001b[0;32m     24\u001b[0m   \u001b[38;5;28;01mreturn\u001b[39;00m results\n\u001b[1;32m---> 27\u001b[0m ft \u001b[38;5;241m=\u001b[39m \u001b[43mfasttext\u001b[49m\u001b[38;5;241;43m.\u001b[39;49m\u001b[43mload_model\u001b[49m\u001b[43m(\u001b[49m\u001b[38;5;124;43m'\u001b[39;49m\u001b[38;5;124;43mcc.it.300.bin\u001b[39;49m\u001b[38;5;124;43m'\u001b[39;49m\u001b[43m)\u001b[49m\n\u001b[0;32m     29\u001b[0m \u001b[38;5;28mprint\u001b[39m(find_distractors(italian_word_list, \u001b[38;5;124m\"\u001b[39m\u001b[38;5;124muccello\u001b[39m\u001b[38;5;124m\"\u001b[39m, \u001b[38;5;241m3\u001b[39m ,ft))\n",
            "File \u001b[1;32mc:\\Users\\35193\\miniconda3\\envs\\cuda_env\\lib\\site-packages\\fasttext\\FastText.py:441\u001b[0m, in \u001b[0;36mload_model\u001b[1;34m(path)\u001b[0m\n\u001b[0;32m    439\u001b[0m \u001b[38;5;250m\u001b[39m\u001b[38;5;124;03m\"\"\"Load a model given a filepath and return a model object.\"\"\"\u001b[39;00m\n\u001b[0;32m    440\u001b[0m eprint(\u001b[38;5;124m\"\u001b[39m\u001b[38;5;124mWarning : `load_model` does not return WordVectorModel or SupervisedModel any more, but a `FastText` object which is very similar.\u001b[39m\u001b[38;5;124m\"\u001b[39m)\n\u001b[1;32m--> 441\u001b[0m \u001b[38;5;28;01mreturn\u001b[39;00m \u001b[43m_FastText\u001b[49m\u001b[43m(\u001b[49m\u001b[43mmodel_path\u001b[49m\u001b[38;5;241;43m=\u001b[39;49m\u001b[43mpath\u001b[49m\u001b[43m)\u001b[49m\n",
            "File \u001b[1;32mc:\\Users\\35193\\miniconda3\\envs\\cuda_env\\lib\\site-packages\\fasttext\\FastText.py:98\u001b[0m, in \u001b[0;36m_FastText.__init__\u001b[1;34m(self, model_path, args)\u001b[0m\n\u001b[0;32m     96\u001b[0m \u001b[38;5;28mself\u001b[39m\u001b[38;5;241m.\u001b[39mf \u001b[38;5;241m=\u001b[39m fasttext\u001b[38;5;241m.\u001b[39mfasttext()\n\u001b[0;32m     97\u001b[0m \u001b[38;5;28;01mif\u001b[39;00m model_path \u001b[38;5;129;01mis\u001b[39;00m \u001b[38;5;129;01mnot\u001b[39;00m \u001b[38;5;28;01mNone\u001b[39;00m:\n\u001b[1;32m---> 98\u001b[0m     \u001b[38;5;28;43mself\u001b[39;49m\u001b[38;5;241;43m.\u001b[39;49m\u001b[43mf\u001b[49m\u001b[38;5;241;43m.\u001b[39;49m\u001b[43mloadModel\u001b[49m\u001b[43m(\u001b[49m\u001b[43mmodel_path\u001b[49m\u001b[43m)\u001b[49m\n\u001b[0;32m     99\u001b[0m \u001b[38;5;28mself\u001b[39m\u001b[38;5;241m.\u001b[39m_words \u001b[38;5;241m=\u001b[39m \u001b[38;5;28;01mNone\u001b[39;00m\n\u001b[0;32m    100\u001b[0m \u001b[38;5;28mself\u001b[39m\u001b[38;5;241m.\u001b[39m_labels \u001b[38;5;241m=\u001b[39m \u001b[38;5;28;01mNone\u001b[39;00m\n",
            "\u001b[1;31mValueError\u001b[0m: cc.it.300.bin has wrong file format!"
          ]
        }
      ],
      "source": [
        "def find_distractors(italian_word_list ,target_word, number, model):\n",
        "  target_vector = model.get_word_vector(target_word)\n",
        "\n",
        "  word_list = italian_word_list\n",
        "  similar_words = []\n",
        "  th = 0.5\n",
        "\n",
        "  while(len(similar_words)< number):\n",
        "    similar_words = []\n",
        "    for word in word_list:\n",
        "        word_vector = model.get_word_vector(word)\n",
        "        similarity = cosine_similarity(target_vector, word_vector)\n",
        "\n",
        "\n",
        "        if similarity > th and check_letter(target_word, word):\n",
        "            similar_words.append(word.replace('\\n', ''))\n",
        "    th = th - 0.025\n",
        "  results = []\n",
        "  while(len(results)<3):\n",
        "    index = random.randint(0, len(similar_words)-1)\n",
        "    if similar_words[index] not in(results):\n",
        "      results.append(similar_words[index])\n",
        "\n",
        "  return results\n",
        "\n",
        "\n",
        "ft = fasttext.load_model('cc.it.300.bin')\n",
        "\n",
        "print(find_distractors(italian_word_list, \"uccello\", 3 ,ft))\n"
      ]
    },
    {
      "cell_type": "markdown",
      "metadata": {
        "id": "HrVfLz1PfhW0"
      },
      "source": [
        "# 4.0 Create entries"
      ]
    },
    {
      "cell_type": "code",
      "execution_count": null,
      "metadata": {
        "id": "gTqI8KUffhXC"
      },
      "outputs": [],
      "source": [
        "def save_jsonl(file_path, data, model, italian_word_list):\n",
        "  id_seq = 0\n",
        "  with open(file_path, \"w\") as output_file:\n",
        "    for term, hypernyms in data.items():\n",
        "      for hypernym in hypernyms:\n",
        "        distractors = find_distractors(italian_word_list, hypernym, 3, model)\n",
        "        entries = (hypernym, *distractors)\n",
        "        choices = list(entries)\n",
        "        random.shuffle(choices) # to create randomness\n",
        "        reformatted_json_data = {\n",
        "              'id' : id_seq,\n",
        "              'text': term,\n",
        "              'choices': choices,\n",
        "              'label' : choices.index(hypernym)\n",
        "        }\n",
        "        json.dump(reformatted_json_data, output_file)\n",
        "        output_file.write(\"\\n\")\n",
        "        id_seq +=1"
      ]
    },
    {
      "cell_type": "code",
      "execution_count": null,
      "metadata": {
        "id": "Z6Shi9fpfhXD"
      },
      "outputs": [],
      "source": [
        "def read_lines_jsonl(file_path, num_lines):\n",
        "  with open(file_path, 'r') as f:\n",
        "    json_list = list(f)\n",
        "    for line in json_list[:num_lines]:\n",
        "      data = json.loads(line)\n",
        "      print(data)"
      ]
    },
    {
      "cell_type": "code",
      "execution_count": null,
      "metadata": {
        "colab": {
          "base_uri": "https://localhost:8080/",
          "height": 356
        },
        "id": "BNV_KnfpfhXD",
        "outputId": "d9ec3067-5154-4c85-bf7c-6d4c1caab958"
      },
      "outputs": [
        {
          "ename": "KeyboardInterrupt",
          "evalue": "",
          "output_type": "error",
          "traceback": [
            "\u001b[0;31m---------------------------------------------------------------------------\u001b[0m",
            "\u001b[0;31mKeyboardInterrupt\u001b[0m                         Traceback (most recent call last)",
            "\u001b[0;32m<ipython-input-23-1819903fe97c>\u001b[0m in \u001b[0;36m<cell line: 1>\u001b[0;34m()\u001b[0m\n\u001b[0;32m----> 1\u001b[0;31m \u001b[0msave_jsonl\u001b[0m\u001b[0;34m(\u001b[0m\u001b[0;34m\"hypernym_discovery-task26-train-data.jsonl\"\u001b[0m\u001b[0;34m,\u001b[0m \u001b[0mtrain_hypernyms\u001b[0m\u001b[0;34m,\u001b[0m \u001b[0mft\u001b[0m\u001b[0;34m,\u001b[0m \u001b[0mitalian_word_list\u001b[0m\u001b[0;34m)\u001b[0m\u001b[0;34m\u001b[0m\u001b[0;34m\u001b[0m\u001b[0m\n\u001b[0m\u001b[1;32m      2\u001b[0m \u001b[0mread_lines_jsonl\u001b[0m\u001b[0;34m(\u001b[0m\u001b[0;34m\"hypernym_discovery-task26-train-data.jsonl\"\u001b[0m\u001b[0;34m,\u001b[0m \u001b[0mnum_lines\u001b[0m \u001b[0;34m=\u001b[0m \u001b[0;36m10\u001b[0m\u001b[0;34m)\u001b[0m \u001b[0;31m# preview of the first 10 lines\u001b[0m\u001b[0;34m\u001b[0m\u001b[0;34m\u001b[0m\u001b[0m\n",
            "\u001b[0;32m<ipython-input-13-f1c00d818cf1>\u001b[0m in \u001b[0;36msave_jsonl\u001b[0;34m(file_path, data, model, italian_word_list)\u001b[0m\n\u001b[1;32m      4\u001b[0m     \u001b[0;32mfor\u001b[0m \u001b[0mterm\u001b[0m\u001b[0;34m,\u001b[0m \u001b[0mhypernyms\u001b[0m \u001b[0;32min\u001b[0m \u001b[0mdata\u001b[0m\u001b[0;34m.\u001b[0m\u001b[0mitems\u001b[0m\u001b[0;34m(\u001b[0m\u001b[0;34m)\u001b[0m\u001b[0;34m:\u001b[0m\u001b[0;34m\u001b[0m\u001b[0;34m\u001b[0m\u001b[0m\n\u001b[1;32m      5\u001b[0m       \u001b[0;32mfor\u001b[0m \u001b[0mhypernym\u001b[0m \u001b[0;32min\u001b[0m \u001b[0mhypernyms\u001b[0m\u001b[0;34m:\u001b[0m\u001b[0;34m\u001b[0m\u001b[0;34m\u001b[0m\u001b[0m\n\u001b[0;32m----> 6\u001b[0;31m         \u001b[0mdistractors\u001b[0m \u001b[0;34m=\u001b[0m \u001b[0mfind_distractors\u001b[0m\u001b[0;34m(\u001b[0m\u001b[0mitalian_word_list\u001b[0m\u001b[0;34m,\u001b[0m \u001b[0mhypernym\u001b[0m\u001b[0;34m,\u001b[0m \u001b[0;36m3\u001b[0m\u001b[0;34m,\u001b[0m \u001b[0mmodel\u001b[0m\u001b[0;34m)\u001b[0m\u001b[0;34m\u001b[0m\u001b[0;34m\u001b[0m\u001b[0m\n\u001b[0m\u001b[1;32m      7\u001b[0m         \u001b[0mentries\u001b[0m \u001b[0;34m=\u001b[0m \u001b[0;34m(\u001b[0m\u001b[0mhypernym\u001b[0m\u001b[0;34m,\u001b[0m \u001b[0;34m*\u001b[0m\u001b[0mdistractors\u001b[0m\u001b[0;34m)\u001b[0m\u001b[0;34m\u001b[0m\u001b[0;34m\u001b[0m\u001b[0m\n\u001b[1;32m      8\u001b[0m         \u001b[0mchoices\u001b[0m \u001b[0;34m=\u001b[0m \u001b[0mlist\u001b[0m\u001b[0;34m(\u001b[0m\u001b[0mentries\u001b[0m\u001b[0;34m)\u001b[0m\u001b[0;34m\u001b[0m\u001b[0;34m\u001b[0m\u001b[0m\n",
            "\u001b[0;32m<ipython-input-19-ffe26da99e1a>\u001b[0m in \u001b[0;36mfind_distractors\u001b[0;34m(italian_word_list, target_word, number, model)\u001b[0m\n\u001b[1;32m      9\u001b[0m     \u001b[0msimilar_words\u001b[0m \u001b[0;34m=\u001b[0m \u001b[0;34m[\u001b[0m\u001b[0;34m]\u001b[0m\u001b[0;34m\u001b[0m\u001b[0;34m\u001b[0m\u001b[0m\n\u001b[1;32m     10\u001b[0m     \u001b[0;32mfor\u001b[0m \u001b[0mword\u001b[0m \u001b[0;32min\u001b[0m \u001b[0mword_list\u001b[0m\u001b[0;34m:\u001b[0m\u001b[0;34m\u001b[0m\u001b[0;34m\u001b[0m\u001b[0m\n\u001b[0;32m---> 11\u001b[0;31m         \u001b[0mword_vector\u001b[0m \u001b[0;34m=\u001b[0m \u001b[0mmodel\u001b[0m\u001b[0;34m.\u001b[0m\u001b[0mget_word_vector\u001b[0m\u001b[0;34m(\u001b[0m\u001b[0mword\u001b[0m\u001b[0;34m)\u001b[0m\u001b[0;34m\u001b[0m\u001b[0;34m\u001b[0m\u001b[0m\n\u001b[0m\u001b[1;32m     12\u001b[0m         \u001b[0msimilarity\u001b[0m \u001b[0;34m=\u001b[0m \u001b[0mcosine_similarity\u001b[0m\u001b[0;34m(\u001b[0m\u001b[0mtarget_vector\u001b[0m\u001b[0;34m,\u001b[0m \u001b[0mword_vector\u001b[0m\u001b[0;34m)\u001b[0m\u001b[0;34m\u001b[0m\u001b[0;34m\u001b[0m\u001b[0m\n\u001b[1;32m     13\u001b[0m \u001b[0;34m\u001b[0m\u001b[0m\n",
            "\u001b[0;32m/usr/local/lib/python3.10/dist-packages/fasttext/FastText.py\u001b[0m in \u001b[0;36mget_word_vector\u001b[0;34m(self, word)\u001b[0m\n\u001b[1;32m    123\u001b[0m         \u001b[0mb\u001b[0m \u001b[0;34m=\u001b[0m \u001b[0mfasttext\u001b[0m\u001b[0;34m.\u001b[0m\u001b[0mVector\u001b[0m\u001b[0;34m(\u001b[0m\u001b[0mdim\u001b[0m\u001b[0;34m)\u001b[0m\u001b[0;34m\u001b[0m\u001b[0;34m\u001b[0m\u001b[0m\n\u001b[1;32m    124\u001b[0m         \u001b[0mself\u001b[0m\u001b[0;34m.\u001b[0m\u001b[0mf\u001b[0m\u001b[0;34m.\u001b[0m\u001b[0mgetWordVector\u001b[0m\u001b[0;34m(\u001b[0m\u001b[0mb\u001b[0m\u001b[0;34m,\u001b[0m \u001b[0mword\u001b[0m\u001b[0;34m)\u001b[0m\u001b[0;34m\u001b[0m\u001b[0;34m\u001b[0m\u001b[0m\n\u001b[0;32m--> 125\u001b[0;31m         \u001b[0;32mreturn\u001b[0m \u001b[0mnp\u001b[0m\u001b[0;34m.\u001b[0m\u001b[0marray\u001b[0m\u001b[0;34m(\u001b[0m\u001b[0mb\u001b[0m\u001b[0;34m)\u001b[0m\u001b[0;34m\u001b[0m\u001b[0;34m\u001b[0m\u001b[0m\n\u001b[0m\u001b[1;32m    126\u001b[0m \u001b[0;34m\u001b[0m\u001b[0m\n\u001b[1;32m    127\u001b[0m     \u001b[0;32mdef\u001b[0m \u001b[0mget_sentence_vector\u001b[0m\u001b[0;34m(\u001b[0m\u001b[0mself\u001b[0m\u001b[0;34m,\u001b[0m \u001b[0mtext\u001b[0m\u001b[0;34m)\u001b[0m\u001b[0;34m:\u001b[0m\u001b[0;34m\u001b[0m\u001b[0;34m\u001b[0m\u001b[0m\n",
            "\u001b[0;31mKeyboardInterrupt\u001b[0m: "
          ]
        }
      ],
      "source": [
        "save_jsonl(\"hypernym_discovery-task26-train-data.jsonl\", train_hypernyms, ft, italian_word_list)\n",
        "read_lines_jsonl(\"hypernym_discovery-task26-train-data.jsonl\", num_lines = 10) "
      ]
    },
    {
      "cell_type": "code",
      "execution_count": null,
      "metadata": {
        "colab": {
          "base_uri": "https://localhost:8080/",
          "height": 373
        },
        "id": "xijL3kpEfhXE",
        "outputId": "d6e1b637-4bc8-4e2b-d102-8a2667fe56df"
      },
      "outputs": [
        {
          "ename": "KeyboardInterrupt",
          "evalue": "",
          "output_type": "error",
          "traceback": [
            "\u001b[0;31m---------------------------------------------------------------------------\u001b[0m",
            "\u001b[0;31mKeyboardInterrupt\u001b[0m                         Traceback (most recent call last)",
            "\u001b[0;32m<ipython-input-22-2bc469ab28b3>\u001b[0m in \u001b[0;36m<cell line: 2>\u001b[0;34m()\u001b[0m\n\u001b[1;32m      1\u001b[0m \u001b[0;31m# test jsonl file\u001b[0m\u001b[0;34m\u001b[0m\u001b[0;34m\u001b[0m\u001b[0m\n\u001b[0;32m----> 2\u001b[0;31m \u001b[0msave_jsonl\u001b[0m\u001b[0;34m(\u001b[0m\u001b[0;34m\"hypernym_discovery-task26-test-data.jsonl\"\u001b[0m\u001b[0;34m,\u001b[0m \u001b[0mtrain_hypernyms\u001b[0m\u001b[0;34m,\u001b[0m \u001b[0mft\u001b[0m\u001b[0;34m,\u001b[0m \u001b[0mitalian_word_list\u001b[0m\u001b[0;34m)\u001b[0m\u001b[0;34m\u001b[0m\u001b[0;34m\u001b[0m\u001b[0m\n\u001b[0m\u001b[1;32m      3\u001b[0m \u001b[0mread_lines_jsonl\u001b[0m\u001b[0;34m(\u001b[0m\u001b[0;34m\"hypernym_discovery-task26-test-data.jsonl\"\u001b[0m\u001b[0;34m,\u001b[0m \u001b[0mnum_lines\u001b[0m \u001b[0;34m=\u001b[0m \u001b[0;36m10\u001b[0m\u001b[0;34m)\u001b[0m \u001b[0;31m# preview of the first 10 lines\u001b[0m\u001b[0;34m\u001b[0m\u001b[0;34m\u001b[0m\u001b[0m\n",
            "\u001b[0;32m<ipython-input-13-f1c00d818cf1>\u001b[0m in \u001b[0;36msave_jsonl\u001b[0;34m(file_path, data, model, italian_word_list)\u001b[0m\n\u001b[1;32m      4\u001b[0m     \u001b[0;32mfor\u001b[0m \u001b[0mterm\u001b[0m\u001b[0;34m,\u001b[0m \u001b[0mhypernyms\u001b[0m \u001b[0;32min\u001b[0m \u001b[0mdata\u001b[0m\u001b[0;34m.\u001b[0m\u001b[0mitems\u001b[0m\u001b[0;34m(\u001b[0m\u001b[0;34m)\u001b[0m\u001b[0;34m:\u001b[0m\u001b[0;34m\u001b[0m\u001b[0;34m\u001b[0m\u001b[0m\n\u001b[1;32m      5\u001b[0m       \u001b[0;32mfor\u001b[0m \u001b[0mhypernym\u001b[0m \u001b[0;32min\u001b[0m \u001b[0mhypernyms\u001b[0m\u001b[0;34m:\u001b[0m\u001b[0;34m\u001b[0m\u001b[0;34m\u001b[0m\u001b[0m\n\u001b[0;32m----> 6\u001b[0;31m         \u001b[0mdistractors\u001b[0m \u001b[0;34m=\u001b[0m \u001b[0mfind_distractors\u001b[0m\u001b[0;34m(\u001b[0m\u001b[0mitalian_word_list\u001b[0m\u001b[0;34m,\u001b[0m \u001b[0mhypernym\u001b[0m\u001b[0;34m,\u001b[0m \u001b[0;36m3\u001b[0m\u001b[0;34m,\u001b[0m \u001b[0mmodel\u001b[0m\u001b[0;34m)\u001b[0m\u001b[0;34m\u001b[0m\u001b[0;34m\u001b[0m\u001b[0m\n\u001b[0m\u001b[1;32m      7\u001b[0m         \u001b[0mentries\u001b[0m \u001b[0;34m=\u001b[0m \u001b[0;34m(\u001b[0m\u001b[0mhypernym\u001b[0m\u001b[0;34m,\u001b[0m \u001b[0;34m*\u001b[0m\u001b[0mdistractors\u001b[0m\u001b[0;34m)\u001b[0m\u001b[0;34m\u001b[0m\u001b[0;34m\u001b[0m\u001b[0m\n\u001b[1;32m      8\u001b[0m         \u001b[0mchoices\u001b[0m \u001b[0;34m=\u001b[0m \u001b[0mlist\u001b[0m\u001b[0;34m(\u001b[0m\u001b[0mentries\u001b[0m\u001b[0;34m)\u001b[0m\u001b[0;34m\u001b[0m\u001b[0;34m\u001b[0m\u001b[0m\n",
            "\u001b[0;32m<ipython-input-19-ffe26da99e1a>\u001b[0m in \u001b[0;36mfind_distractors\u001b[0;34m(italian_word_list, target_word, number, model)\u001b[0m\n\u001b[1;32m     13\u001b[0m \u001b[0;34m\u001b[0m\u001b[0m\n\u001b[1;32m     14\u001b[0m \u001b[0;34m\u001b[0m\u001b[0m\n\u001b[0;32m---> 15\u001b[0;31m         \u001b[0;32mif\u001b[0m \u001b[0msimilarity\u001b[0m \u001b[0;34m>\u001b[0m \u001b[0mth\u001b[0m \u001b[0;32mand\u001b[0m \u001b[0mcheck_letter\u001b[0m\u001b[0;34m(\u001b[0m\u001b[0mtarget_word\u001b[0m\u001b[0;34m,\u001b[0m \u001b[0mword\u001b[0m\u001b[0;34m)\u001b[0m\u001b[0;34m:\u001b[0m\u001b[0;34m\u001b[0m\u001b[0;34m\u001b[0m\u001b[0m\n\u001b[0m\u001b[1;32m     16\u001b[0m             \u001b[0msimilar_words\u001b[0m\u001b[0;34m.\u001b[0m\u001b[0mappend\u001b[0m\u001b[0;34m(\u001b[0m\u001b[0mword\u001b[0m\u001b[0;34m.\u001b[0m\u001b[0mreplace\u001b[0m\u001b[0;34m(\u001b[0m\u001b[0;34m'\\n'\u001b[0m\u001b[0;34m,\u001b[0m \u001b[0;34m''\u001b[0m\u001b[0;34m)\u001b[0m\u001b[0;34m)\u001b[0m\u001b[0;34m\u001b[0m\u001b[0;34m\u001b[0m\u001b[0m\n\u001b[1;32m     17\u001b[0m     \u001b[0mth\u001b[0m \u001b[0;34m=\u001b[0m \u001b[0mth\u001b[0m \u001b[0;34m-\u001b[0m \u001b[0;36m0.025\u001b[0m\u001b[0;34m\u001b[0m\u001b[0;34m\u001b[0m\u001b[0m\n",
            "\u001b[0;31mKeyboardInterrupt\u001b[0m: "
          ]
        }
      ],
      "source": [
        "# test jsonl file\n",
        "save_jsonl(\"hypernym_discovery-task26-test-data.jsonl\", train_hypernyms, ft, italian_word_list)\n",
        "read_lines_jsonl(\"hypernym_discovery-task26-test-data.jsonl\", num_lines = 10) "
      ]
    }
  ],
  "metadata": {
    "accelerator": "GPU",
    "colab": {
      "gpuType": "T4",
      "provenance": []
    },
    "kernelspec": {
      "display_name": "Python 3",
      "name": "python3"
    },
    "language_info": {
      "codemirror_mode": {
        "name": "ipython",
        "version": 3
      },
      "file_extension": ".py",
      "mimetype": "text/x-python",
      "name": "python",
      "nbconvert_exporter": "python",
      "pygments_lexer": "ipython3",
      "version": "3.9.19"
    }
  },
  "nbformat": 4,
  "nbformat_minor": 0
}

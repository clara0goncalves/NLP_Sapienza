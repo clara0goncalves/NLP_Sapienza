{
  "cells": [
    {
      "cell_type": "markdown",
      "metadata": {
        "id": "f0sPER-ui9HA"
      },
      "source": [
        "# 1.0 Libraries"
      ]
    },
    {
      "cell_type": "code",
      "execution_count": 1,
      "metadata": {
        "colab": {
          "base_uri": "https://localhost:8080/"
        },
        "id": "83qtMqTUka4o",
        "outputId": "a7f9eb6c-a8c7-45f7-f874-463329d80341"
      },
      "outputs": [
        {
          "name": "stdout",
          "output_type": "stream",
          "text": [
            "Collecting langid\n",
            "  Using cached langid-1.1.6.tar.gz (1.9 MB)\n",
            "  Preparing metadata (setup.py): started\n",
            "  Preparing metadata (setup.py): finished with status 'done'\n",
            "Requirement already satisfied: numpy in c:\\users\\35193\\appdata\\local\\packages\\pythonsoftwarefoundation.python.3.10_qbz5n2kfra8p0\\localcache\\local-packages\\python310\\site-packages (from langid) (1.26.0)\n",
            "Building wheels for collected packages: langid\n",
            "  Building wheel for langid (setup.py): started\n",
            "  Building wheel for langid (setup.py): finished with status 'done'\n",
            "  Created wheel for langid: filename=langid-1.1.6-py3-none-any.whl size=1941179 sha256=86ea990337cd840812a136ed2df8f6c5ea851fdbee48692337705b0548f032ff\n",
            "  Stored in directory: c:\\users\\35193\\appdata\\local\\pip\\cache\\wheels\\23\\c8\\c6\\eed80894918490a175677414d40bd7c851413bbe03d4856c3c\n",
            "Successfully built langid\n",
            "Installing collected packages: langid\n",
            "Successfully installed langid-1.1.6\n"
          ]
        },
        {
          "name": "stderr",
          "output_type": "stream",
          "text": [
            "  WARNING: The script langid.exe is installed in 'C:\\Users\\35193\\AppData\\Local\\Packages\\PythonSoftwareFoundation.Python.3.10_qbz5n2kfra8p0\\LocalCache\\local-packages\\Python310\\Scripts' which is not on PATH.\n",
            "  Consider adding this directory to PATH or, if you prefer to suppress this warning, use --no-warn-script-location.\n"
          ]
        },
        {
          "name": "stdout",
          "output_type": "stream",
          "text": [
            "Collecting gensim\n",
            "  Downloading gensim-4.3.2-cp310-cp310-win_amd64.whl.metadata (8.5 kB)\n",
            "Requirement already satisfied: numpy>=1.18.5 in c:\\users\\35193\\appdata\\local\\packages\\pythonsoftwarefoundation.python.3.10_qbz5n2kfra8p0\\localcache\\local-packages\\python310\\site-packages (from gensim) (1.26.0)\n",
            "Requirement already satisfied: scipy>=1.7.0 in c:\\users\\35193\\appdata\\local\\packages\\pythonsoftwarefoundation.python.3.10_qbz5n2kfra8p0\\localcache\\local-packages\\python310\\site-packages (from gensim) (1.11.2)\n",
            "Collecting smart-open>=1.8.1 (from gensim)\n",
            "  Using cached smart_open-7.0.4-py3-none-any.whl.metadata (23 kB)\n",
            "Requirement already satisfied: wrapt in c:\\users\\35193\\appdata\\local\\packages\\pythonsoftwarefoundation.python.3.10_qbz5n2kfra8p0\\localcache\\local-packages\\python310\\site-packages (from smart-open>=1.8.1->gensim) (1.15.0)\n",
            "Downloading gensim-4.3.2-cp310-cp310-win_amd64.whl (24.0 MB)\n",
            "   ---------------------------------------- 0.0/24.0 MB ? eta -:--:--\n",
            "   ---------------------------------------- 0.1/24.0 MB 4.3 MB/s eta 0:00:06\n",
            "   - -------------------------------------- 0.6/24.0 MB 7.7 MB/s eta 0:00:04\n",
            "   - -------------------------------------- 0.9/24.0 MB 8.5 MB/s eta 0:00:03\n",
            "   -- ------------------------------------- 1.4/24.0 MB 8.7 MB/s eta 0:00:03\n",
            "   -- ------------------------------------- 1.6/24.0 MB 7.6 MB/s eta 0:00:03\n",
            "   -- ------------------------------------- 1.7/24.0 MB 7.1 MB/s eta 0:00:04\n",
            "   --- ------------------------------------ 2.0/24.0 MB 6.8 MB/s eta 0:00:04\n",
            "   ---- ----------------------------------- 2.5/24.0 MB 7.5 MB/s eta 0:00:03\n",
            "   ---- ----------------------------------- 2.8/24.0 MB 7.7 MB/s eta 0:00:03\n",
            "   ----- ---------------------------------- 3.5/24.0 MB 8.0 MB/s eta 0:00:03\n",
            "   ------ --------------------------------- 4.0/24.0 MB 8.5 MB/s eta 0:00:03\n",
            "   ------- -------------------------------- 4.3/24.0 MB 8.1 MB/s eta 0:00:03\n",
            "   ------- -------------------------------- 4.6/24.0 MB 8.0 MB/s eta 0:00:03\n",
            "   -------- ------------------------------- 5.1/24.0 MB 8.1 MB/s eta 0:00:03\n",
            "   -------- ------------------------------- 5.4/24.0 MB 8.2 MB/s eta 0:00:03\n",
            "   --------- ------------------------------ 5.5/24.0 MB 7.9 MB/s eta 0:00:03\n",
            "   --------- ------------------------------ 5.8/24.0 MB 7.7 MB/s eta 0:00:03\n",
            "   --------- ------------------------------ 5.9/24.0 MB 7.4 MB/s eta 0:00:03\n",
            "   --------- ------------------------------ 5.9/24.0 MB 7.0 MB/s eta 0:00:03\n",
            "   ---------- ----------------------------- 6.2/24.0 MB 6.9 MB/s eta 0:00:03\n",
            "   ---------- ----------------------------- 6.4/24.0 MB 6.8 MB/s eta 0:00:03\n",
            "   ---------- ----------------------------- 6.6/24.0 MB 6.8 MB/s eta 0:00:03\n",
            "   ----------- ---------------------------- 6.8/24.0 MB 6.7 MB/s eta 0:00:03\n",
            "   ----------- ---------------------------- 7.0/24.0 MB 6.6 MB/s eta 0:00:03\n",
            "   ----------- ---------------------------- 7.1/24.0 MB 6.5 MB/s eta 0:00:03\n",
            "   ------------ --------------------------- 7.4/24.0 MB 6.4 MB/s eta 0:00:03\n",
            "   ------------ --------------------------- 7.5/24.0 MB 6.3 MB/s eta 0:00:03\n",
            "   ------------ --------------------------- 7.5/24.0 MB 6.3 MB/s eta 0:00:03\n",
            "   ------------ --------------------------- 7.6/24.0 MB 5.8 MB/s eta 0:00:03\n",
            "   ------------ --------------------------- 7.8/24.0 MB 5.8 MB/s eta 0:00:03\n",
            "   ------------- -------------------------- 7.9/24.0 MB 5.6 MB/s eta 0:00:03\n",
            "   ------------- -------------------------- 8.0/24.0 MB 5.6 MB/s eta 0:00:03\n",
            "   ------------- -------------------------- 8.1/24.0 MB 5.5 MB/s eta 0:00:03\n",
            "   ------------- -------------------------- 8.2/24.0 MB 5.4 MB/s eta 0:00:03\n",
            "   ------------- -------------------------- 8.3/24.0 MB 5.3 MB/s eta 0:00:03\n",
            "   -------------- ------------------------- 8.5/24.0 MB 5.3 MB/s eta 0:00:03\n",
            "   -------------- ------------------------- 8.7/24.0 MB 5.2 MB/s eta 0:00:03\n",
            "   -------------- ------------------------- 8.9/24.0 MB 5.2 MB/s eta 0:00:03\n",
            "   --------------- ------------------------ 9.0/24.0 MB 5.2 MB/s eta 0:00:03\n",
            "   --------------- ------------------------ 9.2/24.0 MB 5.1 MB/s eta 0:00:03\n",
            "   --------------- ------------------------ 9.4/24.0 MB 5.1 MB/s eta 0:00:03\n",
            "   --------------- ------------------------ 9.6/24.0 MB 5.0 MB/s eta 0:00:03\n",
            "   ---------------- ----------------------- 9.8/24.0 MB 5.1 MB/s eta 0:00:03\n",
            "   ---------------- ----------------------- 10.0/24.0 MB 5.0 MB/s eta 0:00:03\n",
            "   ---------------- ----------------------- 10.1/24.0 MB 5.0 MB/s eta 0:00:03\n",
            "   ---------------- ----------------------- 10.2/24.0 MB 4.9 MB/s eta 0:00:03\n",
            "   ----------------- ---------------------- 10.3/24.0 MB 4.8 MB/s eta 0:00:03\n",
            "   ----------------- ---------------------- 10.5/24.0 MB 4.8 MB/s eta 0:00:03\n",
            "   ----------------- ---------------------- 10.7/24.0 MB 4.7 MB/s eta 0:00:03\n",
            "   ------------------ --------------------- 11.0/24.0 MB 4.7 MB/s eta 0:00:03\n",
            "   ------------------ --------------------- 11.2/24.0 MB 4.7 MB/s eta 0:00:03\n",
            "   ------------------- -------------------- 11.4/24.0 MB 4.6 MB/s eta 0:00:03\n",
            "   ------------------- -------------------- 11.6/24.0 MB 4.5 MB/s eta 0:00:03\n",
            "   ------------------- -------------------- 11.7/24.0 MB 4.5 MB/s eta 0:00:03\n",
            "   ------------------- -------------------- 11.8/24.0 MB 4.5 MB/s eta 0:00:03\n",
            "   ------------------- -------------------- 11.9/24.0 MB 4.5 MB/s eta 0:00:03\n",
            "   -------------------- ------------------- 12.1/24.0 MB 4.4 MB/s eta 0:00:03\n",
            "   -------------------- ------------------- 12.2/24.0 MB 4.3 MB/s eta 0:00:03\n",
            "   -------------------- ------------------- 12.2/24.0 MB 4.3 MB/s eta 0:00:03\n",
            "   -------------------- ------------------- 12.3/24.0 MB 4.2 MB/s eta 0:00:03\n",
            "   -------------------- ------------------- 12.5/24.0 MB 4.1 MB/s eta 0:00:03\n",
            "   -------------------- ------------------- 12.6/24.0 MB 4.0 MB/s eta 0:00:03\n",
            "   --------------------- ------------------ 12.8/24.0 MB 4.0 MB/s eta 0:00:03\n",
            "   --------------------- ------------------ 13.0/24.0 MB 3.9 MB/s eta 0:00:03\n",
            "   --------------------- ------------------ 13.1/24.0 MB 3.9 MB/s eta 0:00:03\n",
            "   ---------------------- ----------------- 13.3/24.0 MB 3.9 MB/s eta 0:00:03\n",
            "   ---------------------- ----------------- 13.4/24.0 MB 3.8 MB/s eta 0:00:03\n",
            "   ---------------------- ----------------- 13.6/24.0 MB 3.8 MB/s eta 0:00:03\n",
            "   ----------------------- ---------------- 13.8/24.0 MB 3.7 MB/s eta 0:00:03\n",
            "   ----------------------- ---------------- 14.0/24.0 MB 3.7 MB/s eta 0:00:03\n",
            "   ----------------------- ---------------- 14.1/24.0 MB 3.7 MB/s eta 0:00:03\n",
            "   ----------------------- ---------------- 14.3/24.0 MB 3.6 MB/s eta 0:00:03\n",
            "   ------------------------ --------------- 14.4/24.0 MB 3.6 MB/s eta 0:00:03\n",
            "   ------------------------ --------------- 14.6/24.0 MB 3.5 MB/s eta 0:00:03\n",
            "   ------------------------ --------------- 14.8/24.0 MB 3.5 MB/s eta 0:00:03\n",
            "   ------------------------ --------------- 14.9/24.0 MB 3.5 MB/s eta 0:00:03\n",
            "   ------------------------- -------------- 15.1/24.0 MB 3.4 MB/s eta 0:00:03\n",
            "   ------------------------- -------------- 15.2/24.0 MB 3.4 MB/s eta 0:00:03\n",
            "   ------------------------- -------------- 15.4/24.0 MB 3.4 MB/s eta 0:00:03\n",
            "   ------------------------- -------------- 15.5/24.0 MB 3.4 MB/s eta 0:00:03\n",
            "   -------------------------- ------------- 15.7/24.0 MB 3.4 MB/s eta 0:00:03\n",
            "   -------------------------- ------------- 15.8/24.0 MB 3.3 MB/s eta 0:00:03\n",
            "   -------------------------- ------------- 15.9/24.0 MB 3.3 MB/s eta 0:00:03\n",
            "   -------------------------- ------------- 16.0/24.0 MB 3.3 MB/s eta 0:00:03\n",
            "   -------------------------- ------------- 16.0/24.0 MB 3.3 MB/s eta 0:00:03\n",
            "   -------------------------- ------------- 16.1/24.0 MB 3.3 MB/s eta 0:00:03\n",
            "   --------------------------- ------------ 16.3/24.0 MB 3.2 MB/s eta 0:00:03\n",
            "   --------------------------- ------------ 16.4/24.0 MB 3.2 MB/s eta 0:00:03\n",
            "   --------------------------- ------------ 16.6/24.0 MB 3.2 MB/s eta 0:00:03\n",
            "   --------------------------- ------------ 16.7/24.0 MB 3.2 MB/s eta 0:00:03\n",
            "   ---------------------------- ----------- 16.9/24.0 MB 3.2 MB/s eta 0:00:03\n",
            "   ---------------------------- ----------- 17.0/24.0 MB 3.2 MB/s eta 0:00:03\n",
            "   ---------------------------- ----------- 17.2/24.0 MB 3.2 MB/s eta 0:00:03\n",
            "   ---------------------------- ----------- 17.3/24.0 MB 3.2 MB/s eta 0:00:03\n",
            "   ----------------------------- ---------- 17.5/24.0 MB 3.2 MB/s eta 0:00:03\n",
            "   ----------------------------- ---------- 17.7/24.0 MB 3.1 MB/s eta 0:00:03\n",
            "   ----------------------------- ---------- 17.8/24.0 MB 3.2 MB/s eta 0:00:02\n",
            "   ----------------------------- ---------- 18.0/24.0 MB 3.2 MB/s eta 0:00:02\n",
            "   ------------------------------ --------- 18.0/24.0 MB 3.2 MB/s eta 0:00:02\n",
            "   ------------------------------ --------- 18.1/24.0 MB 3.2 MB/s eta 0:00:02\n",
            "   ------------------------------ --------- 18.2/24.0 MB 3.2 MB/s eta 0:00:02\n",
            "   ------------------------------ --------- 18.4/24.0 MB 3.2 MB/s eta 0:00:02\n",
            "   ------------------------------ --------- 18.5/24.0 MB 3.2 MB/s eta 0:00:02\n",
            "   ------------------------------ --------- 18.5/24.0 MB 3.2 MB/s eta 0:00:02\n",
            "   ------------------------------- -------- 18.7/24.0 MB 3.2 MB/s eta 0:00:02\n",
            "   ------------------------------- -------- 18.8/24.0 MB 3.2 MB/s eta 0:00:02\n",
            "   ------------------------------- -------- 18.9/24.0 MB 3.2 MB/s eta 0:00:02\n",
            "   ------------------------------- -------- 18.9/24.0 MB 3.2 MB/s eta 0:00:02\n",
            "   ------------------------------- -------- 19.0/24.0 MB 3.1 MB/s eta 0:00:02\n",
            "   ------------------------------- -------- 19.2/24.0 MB 3.1 MB/s eta 0:00:02\n",
            "   -------------------------------- ------- 19.4/24.0 MB 3.1 MB/s eta 0:00:02\n",
            "   -------------------------------- ------- 19.5/24.0 MB 3.1 MB/s eta 0:00:02\n",
            "   -------------------------------- ------- 19.6/24.0 MB 3.0 MB/s eta 0:00:02\n",
            "   -------------------------------- ------- 19.7/24.0 MB 3.0 MB/s eta 0:00:02\n",
            "   --------------------------------- ------ 19.9/24.0 MB 3.0 MB/s eta 0:00:02\n",
            "   --------------------------------- ------ 20.0/24.0 MB 3.0 MB/s eta 0:00:02\n",
            "   --------------------------------- ------ 20.3/24.0 MB 3.0 MB/s eta 0:00:02\n",
            "   --------------------------------- ------ 20.4/24.0 MB 3.1 MB/s eta 0:00:02\n",
            "   ---------------------------------- ----- 20.6/24.0 MB 3.1 MB/s eta 0:00:02\n",
            "   ---------------------------------- ----- 20.8/24.0 MB 3.1 MB/s eta 0:00:02\n",
            "   ---------------------------------- ----- 21.0/24.0 MB 3.1 MB/s eta 0:00:01\n",
            "   ----------------------------------- ---- 21.2/24.0 MB 3.1 MB/s eta 0:00:01\n",
            "   ----------------------------------- ---- 21.4/24.0 MB 3.1 MB/s eta 0:00:01\n",
            "   ------------------------------------ --- 21.6/24.0 MB 3.1 MB/s eta 0:00:01\n",
            "   ------------------------------------ --- 21.8/24.0 MB 3.1 MB/s eta 0:00:01\n",
            "   ------------------------------------ --- 22.1/24.0 MB 3.2 MB/s eta 0:00:01\n",
            "   ------------------------------------ --- 22.2/24.0 MB 3.2 MB/s eta 0:00:01\n",
            "   ------------------------------------ --- 22.2/24.0 MB 3.2 MB/s eta 0:00:01\n",
            "   ------------------------------------ --- 22.2/24.0 MB 3.2 MB/s eta 0:00:01\n",
            "   ------------------------------------- -- 22.2/24.0 MB 3.1 MB/s eta 0:00:01\n",
            "   ------------------------------------- -- 22.4/24.0 MB 3.0 MB/s eta 0:00:01\n",
            "   ------------------------------------- -- 22.5/24.0 MB 3.1 MB/s eta 0:00:01\n",
            "   ------------------------------------- -- 22.7/24.0 MB 3.1 MB/s eta 0:00:01\n",
            "   -------------------------------------- - 22.9/24.0 MB 3.1 MB/s eta 0:00:01\n",
            "   -------------------------------------- - 23.0/24.0 MB 3.1 MB/s eta 0:00:01\n",
            "   -------------------------------------- - 23.2/24.0 MB 3.1 MB/s eta 0:00:01\n",
            "   -------------------------------------- - 23.4/24.0 MB 3.1 MB/s eta 0:00:01\n",
            "   ---------------------------------------  23.5/24.0 MB 3.1 MB/s eta 0:00:01\n",
            "   ---------------------------------------  23.7/24.0 MB 3.1 MB/s eta 0:00:01\n",
            "   ---------------------------------------  23.9/24.0 MB 3.1 MB/s eta 0:00:01\n",
            "   ---------------------------------------  24.0/24.0 MB 3.1 MB/s eta 0:00:01\n",
            "   ---------------------------------------  24.0/24.0 MB 3.1 MB/s eta 0:00:01\n",
            "   ---------------------------------------- 24.0/24.0 MB 3.1 MB/s eta 0:00:00\n",
            "Using cached smart_open-7.0.4-py3-none-any.whl (61 kB)\n",
            "Installing collected packages: smart-open, gensim\n",
            "Successfully installed gensim-4.3.2 smart-open-7.0.4\n",
            "Collecting spacy\n",
            "  Downloading spacy-3.7.4-cp310-cp310-win_amd64.whl.metadata (27 kB)\n",
            "Collecting spacy-legacy<3.1.0,>=3.0.11 (from spacy)\n",
            "  Using cached spacy_legacy-3.0.12-py2.py3-none-any.whl.metadata (2.8 kB)\n",
            "Collecting spacy-loggers<2.0.0,>=1.0.0 (from spacy)\n",
            "  Using cached spacy_loggers-1.0.5-py3-none-any.whl.metadata (23 kB)\n",
            "Collecting murmurhash<1.1.0,>=0.28.0 (from spacy)\n",
            "  Downloading murmurhash-1.0.10-cp310-cp310-win_amd64.whl.metadata (2.0 kB)\n",
            "Collecting cymem<2.1.0,>=2.0.2 (from spacy)\n",
            "  Downloading cymem-2.0.8-cp310-cp310-win_amd64.whl.metadata (8.6 kB)\n",
            "Collecting preshed<3.1.0,>=3.0.2 (from spacy)\n",
            "  Downloading preshed-3.0.9-cp310-cp310-win_amd64.whl.metadata (2.2 kB)\n",
            "Collecting thinc<8.3.0,>=8.2.2 (from spacy)\n",
            "  Downloading thinc-8.2.3-cp310-cp310-win_amd64.whl.metadata (15 kB)\n",
            "Collecting wasabi<1.2.0,>=0.9.1 (from spacy)\n",
            "  Using cached wasabi-1.1.2-py3-none-any.whl.metadata (28 kB)\n",
            "Collecting srsly<3.0.0,>=2.4.3 (from spacy)\n",
            "  Downloading srsly-2.4.8-cp310-cp310-win_amd64.whl.metadata (20 kB)\n",
            "Collecting catalogue<2.1.0,>=2.0.6 (from spacy)\n",
            "  Using cached catalogue-2.0.10-py3-none-any.whl.metadata (14 kB)\n",
            "Collecting weasel<0.4.0,>=0.1.0 (from spacy)\n",
            "  Using cached weasel-0.3.4-py3-none-any.whl.metadata (4.7 kB)\n",
            "Collecting typer<0.10.0,>=0.3.0 (from spacy)\n",
            "  Using cached typer-0.9.4-py3-none-any.whl.metadata (14 kB)\n",
            "Collecting smart-open<7.0.0,>=5.2.1 (from spacy)\n",
            "  Using cached smart_open-6.4.0-py3-none-any.whl.metadata (21 kB)\n",
            "Requirement already satisfied: tqdm<5.0.0,>=4.38.0 in c:\\users\\35193\\appdata\\local\\packages\\pythonsoftwarefoundation.python.3.10_qbz5n2kfra8p0\\localcache\\local-packages\\python310\\site-packages (from spacy) (4.64.1)\n",
            "Requirement already satisfied: requests<3.0.0,>=2.13.0 in c:\\users\\35193\\appdata\\local\\packages\\pythonsoftwarefoundation.python.3.10_qbz5n2kfra8p0\\localcache\\local-packages\\python310\\site-packages (from spacy) (2.28.1)\n",
            "Collecting pydantic!=1.8,!=1.8.1,<3.0.0,>=1.7.4 (from spacy)\n",
            "  Using cached pydantic-2.6.4-py3-none-any.whl.metadata (85 kB)\n",
            "Requirement already satisfied: jinja2 in c:\\users\\35193\\appdata\\local\\packages\\pythonsoftwarefoundation.python.3.10_qbz5n2kfra8p0\\localcache\\local-packages\\python310\\site-packages (from spacy) (3.1.2)\n",
            "Requirement already satisfied: setuptools in c:\\program files\\windowsapps\\pythonsoftwarefoundation.python.3.10_3.10.3056.0_x64__qbz5n2kfra8p0\\lib\\site-packages (from spacy) (65.5.0)\n",
            "Requirement already satisfied: packaging>=20.0 in c:\\users\\35193\\appdata\\local\\packages\\pythonsoftwarefoundation.python.3.10_qbz5n2kfra8p0\\localcache\\local-packages\\python310\\site-packages (from spacy) (21.3)\n",
            "Collecting langcodes<4.0.0,>=3.2.0 (from spacy)\n",
            "  Using cached langcodes-3.3.0-py3-none-any.whl.metadata (29 kB)\n",
            "Requirement already satisfied: numpy>=1.19.0 in c:\\users\\35193\\appdata\\local\\packages\\pythonsoftwarefoundation.python.3.10_qbz5n2kfra8p0\\localcache\\local-packages\\python310\\site-packages (from spacy) (1.26.0)\n",
            "Requirement already satisfied: pyparsing!=3.0.5,>=2.0.2 in c:\\users\\35193\\appdata\\local\\packages\\pythonsoftwarefoundation.python.3.10_qbz5n2kfra8p0\\localcache\\local-packages\\python310\\site-packages (from packaging>=20.0->spacy) (3.0.9)\n",
            "Collecting annotated-types>=0.4.0 (from pydantic!=1.8,!=1.8.1,<3.0.0,>=1.7.4->spacy)\n",
            "  Using cached annotated_types-0.6.0-py3-none-any.whl.metadata (12 kB)\n",
            "Collecting pydantic-core==2.16.3 (from pydantic!=1.8,!=1.8.1,<3.0.0,>=1.7.4->spacy)\n",
            "  Downloading pydantic_core-2.16.3-cp310-none-win_amd64.whl.metadata (6.6 kB)\n",
            "Requirement already satisfied: typing-extensions>=4.6.1 in c:\\users\\35193\\appdata\\local\\packages\\pythonsoftwarefoundation.python.3.10_qbz5n2kfra8p0\\localcache\\local-packages\\python310\\site-packages (from pydantic!=1.8,!=1.8.1,<3.0.0,>=1.7.4->spacy) (4.8.0)\n",
            "Requirement already satisfied: charset-normalizer<3,>=2 in c:\\users\\35193\\appdata\\local\\packages\\pythonsoftwarefoundation.python.3.10_qbz5n2kfra8p0\\localcache\\local-packages\\python310\\site-packages (from requests<3.0.0,>=2.13.0->spacy) (2.1.1)\n",
            "Requirement already satisfied: idna<4,>=2.5 in c:\\users\\35193\\appdata\\local\\packages\\pythonsoftwarefoundation.python.3.10_qbz5n2kfra8p0\\localcache\\local-packages\\python310\\site-packages (from requests<3.0.0,>=2.13.0->spacy) (3.4)\n",
            "Requirement already satisfied: urllib3<1.27,>=1.21.1 in c:\\users\\35193\\appdata\\local\\packages\\pythonsoftwarefoundation.python.3.10_qbz5n2kfra8p0\\localcache\\local-packages\\python310\\site-packages (from requests<3.0.0,>=2.13.0->spacy) (1.26.12)\n",
            "Requirement already satisfied: certifi>=2017.4.17 in c:\\users\\35193\\appdata\\local\\packages\\pythonsoftwarefoundation.python.3.10_qbz5n2kfra8p0\\localcache\\local-packages\\python310\\site-packages (from requests<3.0.0,>=2.13.0->spacy) (2022.9.24)\n",
            "Collecting blis<0.8.0,>=0.7.8 (from thinc<8.3.0,>=8.2.2->spacy)\n",
            "  Downloading blis-0.7.11-cp310-cp310-win_amd64.whl.metadata (7.6 kB)\n",
            "Collecting confection<1.0.0,>=0.0.1 (from thinc<8.3.0,>=8.2.2->spacy)\n",
            "  Using cached confection-0.1.4-py3-none-any.whl.metadata (19 kB)\n",
            "Requirement already satisfied: colorama in c:\\users\\35193\\appdata\\local\\packages\\pythonsoftwarefoundation.python.3.10_qbz5n2kfra8p0\\localcache\\local-packages\\python310\\site-packages (from tqdm<5.0.0,>=4.38.0->spacy) (0.4.4)\n",
            "Requirement already satisfied: click<9.0.0,>=7.1.1 in c:\\users\\35193\\appdata\\local\\packages\\pythonsoftwarefoundation.python.3.10_qbz5n2kfra8p0\\localcache\\local-packages\\python310\\site-packages (from typer<0.10.0,>=0.3.0->spacy) (8.1.3)\n",
            "Collecting colorama (from tqdm<5.0.0,>=4.38.0->spacy)\n",
            "  Using cached colorama-0.4.6-py2.py3-none-any.whl.metadata (17 kB)\n",
            "Collecting cloudpathlib<0.17.0,>=0.7.0 (from weasel<0.4.0,>=0.1.0->spacy)\n",
            "  Using cached cloudpathlib-0.16.0-py3-none-any.whl.metadata (14 kB)\n",
            "Requirement already satisfied: MarkupSafe>=2.0 in c:\\users\\35193\\appdata\\local\\packages\\pythonsoftwarefoundation.python.3.10_qbz5n2kfra8p0\\localcache\\local-packages\\python310\\site-packages (from jinja2->spacy) (2.1.1)\n",
            "Downloading spacy-3.7.4-cp310-cp310-win_amd64.whl (12.1 MB)\n",
            "   ---------------------------------------- 0.0/12.1 MB ? eta -:--:--\n",
            "    --------------------------------------- 0.3/12.1 MB 7.7 MB/s eta 0:00:02\n",
            "   - -------------------------------------- 0.6/12.1 MB 7.4 MB/s eta 0:00:02\n",
            "   --- ------------------------------------ 1.2/12.1 MB 9.5 MB/s eta 0:00:02\n",
            "   ---- ----------------------------------- 1.4/12.1 MB 9.5 MB/s eta 0:00:02\n",
            "   ------ --------------------------------- 1.9/12.1 MB 10.0 MB/s eta 0:00:02\n",
            "   ------ --------------------------------- 1.9/12.1 MB 7.7 MB/s eta 0:00:02\n",
            "   ------ --------------------------------- 2.1/12.1 MB 6.5 MB/s eta 0:00:02\n",
            "   -------- ------------------------------- 2.5/12.1 MB 7.0 MB/s eta 0:00:02\n",
            "   ---------- ----------------------------- 3.1/12.1 MB 7.6 MB/s eta 0:00:02\n",
            "   ------------ --------------------------- 3.6/12.1 MB 8.3 MB/s eta 0:00:02\n",
            "   ------------- -------------------------- 4.1/12.1 MB 8.4 MB/s eta 0:00:01\n",
            "   -------------- ------------------------- 4.5/12.1 MB 8.3 MB/s eta 0:00:01\n",
            "   ---------------- ----------------------- 5.0/12.1 MB 8.6 MB/s eta 0:00:01\n",
            "   ------------------ --------------------- 5.6/12.1 MB 8.9 MB/s eta 0:00:01\n",
            "   -------------------- ------------------- 6.1/12.1 MB 8.9 MB/s eta 0:00:01\n",
            "   --------------------- ------------------ 6.6/12.1 MB 9.1 MB/s eta 0:00:01\n",
            "   ----------------------- ---------------- 7.1/12.1 MB 9.3 MB/s eta 0:00:01\n",
            "   ----------------------- ---------------- 7.2/12.1 MB 9.1 MB/s eta 0:00:01\n",
            "   ------------------------ --------------- 7.2/12.1 MB 8.6 MB/s eta 0:00:01\n",
            "   ------------------------- -------------- 7.6/12.1 MB 8.6 MB/s eta 0:00:01\n",
            "   -------------------------- ------------- 8.1/12.1 MB 8.5 MB/s eta 0:00:01\n",
            "   --------------------------- ------------ 8.4/12.1 MB 8.5 MB/s eta 0:00:01\n",
            "   ----------------------------- ---------- 8.8/12.1 MB 8.5 MB/s eta 0:00:01\n",
            "   ------------------------------ --------- 9.1/12.1 MB 8.4 MB/s eta 0:00:01\n",
            "   ------------------------------- -------- 9.5/12.1 MB 8.4 MB/s eta 0:00:01\n",
            "   -------------------------------- ------- 9.8/12.1 MB 8.4 MB/s eta 0:00:01\n",
            "   --------------------------------- ------ 10.1/12.1 MB 8.3 MB/s eta 0:00:01\n",
            "   ---------------------------------- ----- 10.4/12.1 MB 8.2 MB/s eta 0:00:01\n",
            "   ---------------------------------- ----- 10.5/12.1 MB 8.2 MB/s eta 0:00:01\n",
            "   ----------------------------------- ---- 10.7/12.1 MB 8.0 MB/s eta 0:00:01\n",
            "   ----------------------------------- ---- 10.8/12.1 MB 7.8 MB/s eta 0:00:01\n",
            "   ----------------------------------- ---- 10.8/12.1 MB 7.8 MB/s eta 0:00:01\n",
            "   ----------------------------------- ---- 10.8/12.1 MB 7.8 MB/s eta 0:00:01\n",
            "   ----------------------------------- ---- 10.8/12.1 MB 7.0 MB/s eta 0:00:01\n",
            "   ------------------------------------ --- 11.0/12.1 MB 6.9 MB/s eta 0:00:01\n",
            "   ------------------------------------ --- 11.1/12.1 MB 6.7 MB/s eta 0:00:01\n",
            "   ------------------------------------- -- 11.3/12.1 MB 6.5 MB/s eta 0:00:01\n",
            "   -------------------------------------- - 11.5/12.1 MB 6.4 MB/s eta 0:00:01\n",
            "   -------------------------------------- - 11.6/12.1 MB 6.3 MB/s eta 0:00:01\n",
            "   -------------------------------------- - 11.8/12.1 MB 6.2 MB/s eta 0:00:01\n",
            "   ---------------------------------------  11.9/12.1 MB 6.0 MB/s eta 0:00:01\n",
            "   ---------------------------------------  12.0/12.1 MB 5.8 MB/s eta 0:00:01\n",
            "   ---------------------------------------  12.1/12.1 MB 5.8 MB/s eta 0:00:01\n",
            "   ---------------------------------------- 12.1/12.1 MB 5.6 MB/s eta 0:00:00\n",
            "Using cached catalogue-2.0.10-py3-none-any.whl (17 kB)\n",
            "Downloading cymem-2.0.8-cp310-cp310-win_amd64.whl (39 kB)\n",
            "Using cached langcodes-3.3.0-py3-none-any.whl (181 kB)\n",
            "Downloading murmurhash-1.0.10-cp310-cp310-win_amd64.whl (25 kB)\n",
            "Downloading preshed-3.0.9-cp310-cp310-win_amd64.whl (122 kB)\n",
            "   ---------------------------------------- 0.0/122.2 kB ? eta -:--:--\n",
            "   ------------------------------------ --- 112.6/122.2 kB 3.3 MB/s eta 0:00:01\n",
            "   ---------------------------------------- 122.2/122.2 kB 2.4 MB/s eta 0:00:00\n",
            "Using cached pydantic-2.6.4-py3-none-any.whl (394 kB)\n",
            "Downloading pydantic_core-2.16.3-cp310-none-win_amd64.whl (1.9 MB)\n",
            "   ---------------------------------------- 0.0/1.9 MB ? eta -:--:--\n",
            "   ---- ----------------------------------- 0.2/1.9 MB 6.1 MB/s eta 0:00:01\n",
            "   --------- ------------------------------ 0.5/1.9 MB 5.6 MB/s eta 0:00:01\n",
            "   ------------- -------------------------- 0.6/1.9 MB 4.9 MB/s eta 0:00:01\n",
            "   ------------------ --------------------- 0.9/1.9 MB 5.1 MB/s eta 0:00:01\n",
            "   -------------------- ------------------- 1.0/1.9 MB 4.7 MB/s eta 0:00:01\n",
            "   -------------------- ------------------- 1.0/1.9 MB 4.7 MB/s eta 0:00:01\n",
            "   ---------------------- ----------------- 1.0/1.9 MB 3.3 MB/s eta 0:00:01\n",
            "   ---------------------- ----------------- 1.1/1.9 MB 2.9 MB/s eta 0:00:01\n",
            "   ------------------------- -------------- 1.2/1.9 MB 2.9 MB/s eta 0:00:01\n",
            "   --------------------------- ------------ 1.3/1.9 MB 2.9 MB/s eta 0:00:01\n",
            "   ------------------------------ --------- 1.4/1.9 MB 2.9 MB/s eta 0:00:01\n",
            "   ------------------------------- -------- 1.5/1.9 MB 2.8 MB/s eta 0:00:01\n",
            "   ---------------------------------- ----- 1.6/1.9 MB 2.8 MB/s eta 0:00:01\n",
            "   ------------------------------------ --- 1.7/1.9 MB 2.8 MB/s eta 0:00:01\n",
            "   ---------------------------------------  1.9/1.9 MB 2.8 MB/s eta 0:00:01\n",
            "   ---------------------------------------- 1.9/1.9 MB 2.8 MB/s eta 0:00:00\n",
            "Using cached smart_open-6.4.0-py3-none-any.whl (57 kB)\n",
            "Using cached spacy_legacy-3.0.12-py2.py3-none-any.whl (29 kB)\n",
            "Using cached spacy_loggers-1.0.5-py3-none-any.whl (22 kB)\n",
            "Downloading srsly-2.4.8-cp310-cp310-win_amd64.whl (481 kB)\n",
            "   ---------------------------------------- 0.0/481.9 kB ? eta -:--:--\n",
            "   ------- -------------------------------- 92.2/481.9 kB 2.6 MB/s eta 0:00:01\n",
            "   -------------- ------------------------- 174.1/481.9 kB 2.1 MB/s eta 0:00:01\n",
            "   --------------------------- ------------ 327.7/481.9 kB 2.5 MB/s eta 0:00:01\n",
            "   ------------------------------------- -- 450.6/481.9 kB 2.6 MB/s eta 0:00:01\n",
            "   ---------------------------------------  481.3/481.9 kB 2.2 MB/s eta 0:00:01\n",
            "   ---------------------------------------- 481.9/481.9 kB 1.9 MB/s eta 0:00:00\n",
            "Downloading thinc-8.2.3-cp310-cp310-win_amd64.whl (1.5 MB)\n",
            "   ---------------------------------------- 0.0/1.5 MB ? eta -:--:--\n",
            "   --- ------------------------------------ 0.1/1.5 MB 3.6 MB/s eta 0:00:01\n",
            "   ------- -------------------------------- 0.3/1.5 MB 3.5 MB/s eta 0:00:01\n",
            "   ------------ --------------------------- 0.5/1.5 MB 3.5 MB/s eta 0:00:01\n",
            "   --------------- ------------------------ 0.6/1.5 MB 3.3 MB/s eta 0:00:01\n",
            "   -------------------- ------------------- 0.8/1.5 MB 3.2 MB/s eta 0:00:01\n",
            "   ---------------------- ----------------- 0.8/1.5 MB 3.3 MB/s eta 0:00:01\n",
            "   ------------------------ --------------- 0.9/1.5 MB 2.7 MB/s eta 0:00:01\n",
            "   ------------------------- -------------- 1.0/1.5 MB 2.5 MB/s eta 0:00:01\n",
            "   ----------------------------- ---------- 1.1/1.5 MB 2.6 MB/s eta 0:00:01\n",
            "   ---------------------------------- ----- 1.3/1.5 MB 2.7 MB/s eta 0:00:01\n",
            "   ---------------------------------------  1.5/1.5 MB 2.8 MB/s eta 0:00:01\n",
            "   ---------------------------------------- 1.5/1.5 MB 2.8 MB/s eta 0:00:00\n",
            "Using cached typer-0.9.4-py3-none-any.whl (45 kB)\n",
            "Using cached wasabi-1.1.2-py3-none-any.whl (27 kB)\n",
            "Using cached weasel-0.3.4-py3-none-any.whl (50 kB)\n",
            "Using cached annotated_types-0.6.0-py3-none-any.whl (12 kB)\n",
            "Downloading blis-0.7.11-cp310-cp310-win_amd64.whl (6.6 MB)\n",
            "   ---------------------------------------- 0.0/6.6 MB ? eta -:--:--\n",
            "    --------------------------------------- 0.1/6.6 MB 3.3 MB/s eta 0:00:02\n",
            "   - -------------------------------------- 0.3/6.6 MB 3.2 MB/s eta 0:00:03\n",
            "   -- ------------------------------------- 0.4/6.6 MB 3.4 MB/s eta 0:00:02\n",
            "   --- ------------------------------------ 0.5/6.6 MB 3.5 MB/s eta 0:00:02\n",
            "   --- ------------------------------------ 0.6/6.6 MB 2.7 MB/s eta 0:00:03\n",
            "   ---- ----------------------------------- 0.7/6.6 MB 2.5 MB/s eta 0:00:03\n",
            "   ---- ----------------------------------- 0.8/6.6 MB 2.4 MB/s eta 0:00:03\n",
            "   ----- ---------------------------------- 0.9/6.6 MB 2.5 MB/s eta 0:00:03\n",
            "   ------ --------------------------------- 1.0/6.6 MB 2.4 MB/s eta 0:00:03\n",
            "   ------ --------------------------------- 1.1/6.6 MB 2.5 MB/s eta 0:00:03\n",
            "   ------- -------------------------------- 1.2/6.6 MB 2.5 MB/s eta 0:00:03\n",
            "   ------- -------------------------------- 1.3/6.6 MB 2.5 MB/s eta 0:00:03\n",
            "   -------- ------------------------------- 1.4/6.6 MB 2.3 MB/s eta 0:00:03\n",
            "   --------- ------------------------------ 1.5/6.6 MB 2.3 MB/s eta 0:00:03\n",
            "   --------- ------------------------------ 1.6/6.6 MB 2.4 MB/s eta 0:00:03\n",
            "   ----------- ---------------------------- 1.8/6.6 MB 2.5 MB/s eta 0:00:02\n",
            "   ------------ --------------------------- 2.0/6.6 MB 2.6 MB/s eta 0:00:02\n",
            "   ------------- -------------------------- 2.2/6.6 MB 2.6 MB/s eta 0:00:02\n",
            "   ------------- -------------------------- 2.3/6.6 MB 2.7 MB/s eta 0:00:02\n",
            "   -------------- ------------------------- 2.5/6.6 MB 2.7 MB/s eta 0:00:02\n",
            "   ---------------- ----------------------- 2.7/6.6 MB 2.8 MB/s eta 0:00:02\n",
            "   ---------------- ----------------------- 2.7/6.6 MB 2.8 MB/s eta 0:00:02\n",
            "   ----------------- ---------------------- 2.8/6.6 MB 2.7 MB/s eta 0:00:02\n",
            "   ----------------- ---------------------- 2.9/6.6 MB 2.7 MB/s eta 0:00:02\n",
            "   ----------------- ---------------------- 3.0/6.6 MB 2.6 MB/s eta 0:00:02\n",
            "   ------------------ --------------------- 3.1/6.6 MB 2.6 MB/s eta 0:00:02\n",
            "   ------------------- -------------------- 3.2/6.6 MB 2.6 MB/s eta 0:00:02\n",
            "   ------------------- -------------------- 3.2/6.6 MB 2.6 MB/s eta 0:00:02\n",
            "   -------------------- ------------------- 3.3/6.6 MB 2.5 MB/s eta 0:00:02\n",
            "   -------------------- ------------------- 3.5/6.6 MB 2.5 MB/s eta 0:00:02\n",
            "   --------------------- ------------------ 3.6/6.6 MB 2.5 MB/s eta 0:00:02\n",
            "   ---------------------- ----------------- 3.8/6.6 MB 2.6 MB/s eta 0:00:02\n",
            "   ----------------------- ---------------- 3.9/6.6 MB 2.5 MB/s eta 0:00:02\n",
            "   ------------------------ --------------- 4.1/6.6 MB 2.6 MB/s eta 0:00:01\n",
            "   ------------------------- -------------- 4.2/6.6 MB 2.6 MB/s eta 0:00:01\n",
            "   ------------------------- -------------- 4.3/6.6 MB 2.6 MB/s eta 0:00:01\n",
            "   -------------------------- ------------- 4.4/6.6 MB 2.6 MB/s eta 0:00:01\n",
            "   --------------------------- ------------ 4.6/6.6 MB 2.6 MB/s eta 0:00:01\n",
            "   ---------------------------- ----------- 4.8/6.6 MB 2.6 MB/s eta 0:00:01\n",
            "   ----------------------------- ---------- 4.9/6.6 MB 2.6 MB/s eta 0:00:01\n",
            "   ------------------------------ --------- 5.0/6.6 MB 2.7 MB/s eta 0:00:01\n",
            "   ------------------------------- -------- 5.2/6.6 MB 2.7 MB/s eta 0:00:01\n",
            "   -------------------------------- ------- 5.3/6.6 MB 2.7 MB/s eta 0:00:01\n",
            "   -------------------------------- ------- 5.5/6.6 MB 2.7 MB/s eta 0:00:01\n",
            "   --------------------------------- ------ 5.6/6.6 MB 2.7 MB/s eta 0:00:01\n",
            "   ---------------------------------- ----- 5.7/6.6 MB 2.7 MB/s eta 0:00:01\n",
            "   ----------------------------------- ---- 5.9/6.6 MB 2.7 MB/s eta 0:00:01\n",
            "   ------------------------------------ --- 6.0/6.6 MB 2.7 MB/s eta 0:00:01\n",
            "   ------------------------------------- -- 6.2/6.6 MB 2.7 MB/s eta 0:00:01\n",
            "   -------------------------------------- - 6.4/6.6 MB 2.8 MB/s eta 0:00:01\n",
            "   -------------------------------------- - 6.4/6.6 MB 2.8 MB/s eta 0:00:01\n",
            "   ---------------------------------------  6.6/6.6 MB 2.7 MB/s eta 0:00:01\n",
            "   ---------------------------------------- 6.6/6.6 MB 2.7 MB/s eta 0:00:00\n",
            "Using cached cloudpathlib-0.16.0-py3-none-any.whl (45 kB)\n",
            "Using cached colorama-0.4.6-py2.py3-none-any.whl (25 kB)\n",
            "Using cached confection-0.1.4-py3-none-any.whl (35 kB)\n",
            "Installing collected packages: cymem, spacy-loggers, spacy-legacy, smart-open, pydantic-core, murmurhash, langcodes, colorama, cloudpathlib, catalogue, blis, annotated-types, wasabi, srsly, pydantic, preshed, typer, confection, weasel, thinc, spacy\n",
            "  Attempting uninstall: smart-open\n",
            "    Found existing installation: smart-open 7.0.4\n",
            "    Uninstalling smart-open-7.0.4:\n",
            "      Successfully uninstalled smart-open-7.0.4\n",
            "  Attempting uninstall: colorama\n",
            "    Found existing installation: colorama 0.4.4\n",
            "    Uninstalling colorama-0.4.4:\n",
            "      Successfully uninstalled colorama-0.4.4\n",
            "Successfully installed annotated-types-0.6.0 blis-0.7.11 catalogue-2.0.10 cloudpathlib-0.16.0 colorama-0.4.6 confection-0.1.4 cymem-2.0.8 langcodes-3.3.0 murmurhash-1.0.10 preshed-3.0.9 pydantic-2.6.4 pydantic-core-2.16.3 smart-open-6.4.0 spacy-3.7.4 spacy-legacy-3.0.12 spacy-loggers-1.0.5 srsly-2.4.8 thinc-8.2.3 typer-0.9.4 wasabi-1.1.2 weasel-0.3.4\n"
          ]
        },
        {
          "name": "stderr",
          "output_type": "stream",
          "text": [
            "  WARNING: The script weasel.exe is installed in 'C:\\Users\\35193\\AppData\\Local\\Packages\\PythonSoftwareFoundation.Python.3.10_qbz5n2kfra8p0\\LocalCache\\local-packages\\Python310\\Scripts' which is not on PATH.\n",
            "  Consider adding this directory to PATH or, if you prefer to suppress this warning, use --no-warn-script-location.\n",
            "  WARNING: The script spacy.exe is installed in 'C:\\Users\\35193\\AppData\\Local\\Packages\\PythonSoftwareFoundation.Python.3.10_qbz5n2kfra8p0\\LocalCache\\local-packages\\Python310\\Scripts' which is not on PATH.\n",
            "  Consider adding this directory to PATH or, if you prefer to suppress this warning, use --no-warn-script-location.\n",
            "ERROR: pip's dependency resolver does not currently take into account all the packages that are installed. This behaviour is the source of the following dependency conflicts.\n",
            "awscli 1.27.29 requires botocore==1.29.29, but you have botocore 1.29.30 which is incompatible.\n",
            "awscli 1.27.29 requires colorama<0.4.5,>=0.2.5, but you have colorama 0.4.6 which is incompatible.\n",
            "awscli 1.27.29 requires PyYAML<5.5,>=3.10, but you have pyyaml 6.0.1 which is incompatible.\n",
            "Traceback (most recent call last):\n",
            "  File \"c:\\Users\\35193\\miniconda3\\envs\\cuda_env\\lib\\runpy.py\", line 188, in _run_module_as_main\n",
            "    mod_name, mod_spec, code = _get_module_details(mod_name, _Error)\n",
            "  File \"c:\\Users\\35193\\miniconda3\\envs\\cuda_env\\lib\\runpy.py\", line 147, in _get_module_details\n",
            "    return _get_module_details(pkg_main_name, error)\n",
            "  File \"c:\\Users\\35193\\miniconda3\\envs\\cuda_env\\lib\\runpy.py\", line 111, in _get_module_details\n",
            "    __import__(pkg_name)\n",
            "  File \"c:\\Users\\35193\\miniconda3\\envs\\cuda_env\\lib\\site-packages\\spacy\\__init__.py\", line 13, in <module>\n",
            "    from . import pipeline  # noqa: F401\n",
            "  File \"c:\\Users\\35193\\miniconda3\\envs\\cuda_env\\lib\\site-packages\\spacy\\pipeline\\__init__.py\", line 1, in <module>\n",
            "    from .attributeruler import AttributeRuler\n",
            "  File \"c:\\Users\\35193\\miniconda3\\envs\\cuda_env\\lib\\site-packages\\spacy\\pipeline\\attributeruler.py\", line 8, in <module>\n",
            "    from ..language import Language\n",
            "  File \"c:\\Users\\35193\\miniconda3\\envs\\cuda_env\\lib\\site-packages\\spacy\\language.py\", line 43, in <module>\n",
            "    from .pipe_analysis import analyze_pipes, print_pipe_analysis, validate_attrs\n",
            "  File \"c:\\Users\\35193\\miniconda3\\envs\\cuda_env\\lib\\site-packages\\spacy\\pipe_analysis.py\", line 6, in <module>\n",
            "    from .tokens import Doc, Span, Token\n",
            "  File \"c:\\Users\\35193\\miniconda3\\envs\\cuda_env\\lib\\site-packages\\spacy\\tokens\\__init__.py\", line 1, in <module>\n",
            "    from ._serialize import DocBin\n",
            "  File \"c:\\Users\\35193\\miniconda3\\envs\\cuda_env\\lib\\site-packages\\spacy\\tokens\\_serialize.py\", line 14, in <module>\n",
            "    from ..vocab import Vocab\n",
            "  File \"spacy\\vocab.pyx\", line 1, in init spacy.vocab\n",
            "  File \"spacy\\tokens\\doc.pyx\", line 49, in init spacy.tokens.doc\n",
            "  File \"c:\\Users\\35193\\miniconda3\\envs\\cuda_env\\lib\\site-packages\\spacy\\schemas.py\", line 287, in <module>\n",
            "    class TokenPattern(BaseModel):\n",
            "  File \"pydantic\\main.py\", line 299, in pydantic.main.ModelMetaclass.__new__\n",
            "  File \"pydantic\\fields.py\", line 411, in pydantic.fields.ModelField.infer\n",
            "  File \"pydantic\\fields.py\", line 342, in pydantic.fields.ModelField.__init__\n",
            "  File \"pydantic\\fields.py\", line 451, in pydantic.fields.ModelField.prepare\n",
            "  File \"pydantic\\fields.py\", line 545, in pydantic.fields.ModelField._type_analysis\n",
            "  File \"pydantic\\fields.py\", line 550, in pydantic.fields.ModelField._type_analysis\n",
            "  File \"c:\\Users\\35193\\miniconda3\\envs\\cuda_env\\lib\\typing.py\", line 852, in __subclasscheck__\n",
            "    return issubclass(cls, self.__origin__)\n",
            "TypeError: issubclass() arg 1 must be a class\n",
            "'wget' is not recognized as an internal or external command,\n",
            "operable program or batch file.\n",
            "x ./._s2v_old\n",
            "x ./s2v_old/\n",
            "x ./s2v_old/._freqs.json\n",
            "x ./s2v_old/freqs.json\n",
            "x ./s2v_old/._vectors\n",
            "x ./s2v_old/vectors\n",
            "x ./s2v_old/._cfg\n",
            "x ./s2v_old/cfg\n",
            "x ./s2v_old/._strings.json\n",
            "x ./s2v_old/strings.json\n",
            "x ./s2v_old/._key2row\n",
            "x ./s2v_old/key2row\n"
          ]
        },
        {
          "name": "stdout",
          "output_type": "stream",
          "text": [
            "Collecting sense2vec\n",
            "  Using cached sense2vec-2.0.2-py2.py3-none-any.whl.metadata (54 kB)\n",
            "Requirement already satisfied: spacy<4.0.0,>=3.0.0 in c:\\users\\35193\\appdata\\local\\packages\\pythonsoftwarefoundation.python.3.10_qbz5n2kfra8p0\\localcache\\local-packages\\python310\\site-packages (from sense2vec) (3.7.4)\n",
            "Requirement already satisfied: wasabi<1.2.0,>=0.8.1 in c:\\users\\35193\\appdata\\local\\packages\\pythonsoftwarefoundation.python.3.10_qbz5n2kfra8p0\\localcache\\local-packages\\python310\\site-packages (from sense2vec) (1.1.2)\n",
            "Requirement already satisfied: srsly<3.0.0,>=2.4.0 in c:\\users\\35193\\appdata\\local\\packages\\pythonsoftwarefoundation.python.3.10_qbz5n2kfra8p0\\localcache\\local-packages\\python310\\site-packages (from sense2vec) (2.4.8)\n",
            "Requirement already satisfied: catalogue<2.1.0,>=2.0.1 in c:\\users\\35193\\appdata\\local\\packages\\pythonsoftwarefoundation.python.3.10_qbz5n2kfra8p0\\localcache\\local-packages\\python310\\site-packages (from sense2vec) (2.0.10)\n",
            "Requirement already satisfied: numpy>=1.15.0 in c:\\users\\35193\\appdata\\local\\packages\\pythonsoftwarefoundation.python.3.10_qbz5n2kfra8p0\\localcache\\local-packages\\python310\\site-packages (from sense2vec) (1.26.0)\n",
            "Requirement already satisfied: spacy-legacy<3.1.0,>=3.0.11 in c:\\users\\35193\\appdata\\local\\packages\\pythonsoftwarefoundation.python.3.10_qbz5n2kfra8p0\\localcache\\local-packages\\python310\\site-packages (from spacy<4.0.0,>=3.0.0->sense2vec) (3.0.12)\n",
            "Requirement already satisfied: spacy-loggers<2.0.0,>=1.0.0 in c:\\users\\35193\\appdata\\local\\packages\\pythonsoftwarefoundation.python.3.10_qbz5n2kfra8p0\\localcache\\local-packages\\python310\\site-packages (from spacy<4.0.0,>=3.0.0->sense2vec) (1.0.5)\n",
            "Requirement already satisfied: murmurhash<1.1.0,>=0.28.0 in c:\\users\\35193\\appdata\\local\\packages\\pythonsoftwarefoundation.python.3.10_qbz5n2kfra8p0\\localcache\\local-packages\\python310\\site-packages (from spacy<4.0.0,>=3.0.0->sense2vec) (1.0.10)\n",
            "Requirement already satisfied: cymem<2.1.0,>=2.0.2 in c:\\users\\35193\\appdata\\local\\packages\\pythonsoftwarefoundation.python.3.10_qbz5n2kfra8p0\\localcache\\local-packages\\python310\\site-packages (from spacy<4.0.0,>=3.0.0->sense2vec) (2.0.8)\n",
            "Requirement already satisfied: preshed<3.1.0,>=3.0.2 in c:\\users\\35193\\appdata\\local\\packages\\pythonsoftwarefoundation.python.3.10_qbz5n2kfra8p0\\localcache\\local-packages\\python310\\site-packages (from spacy<4.0.0,>=3.0.0->sense2vec) (3.0.9)\n",
            "Requirement already satisfied: thinc<8.3.0,>=8.2.2 in c:\\users\\35193\\appdata\\local\\packages\\pythonsoftwarefoundation.python.3.10_qbz5n2kfra8p0\\localcache\\local-packages\\python310\\site-packages (from spacy<4.0.0,>=3.0.0->sense2vec) (8.2.3)\n",
            "Requirement already satisfied: weasel<0.4.0,>=0.1.0 in c:\\users\\35193\\appdata\\local\\packages\\pythonsoftwarefoundation.python.3.10_qbz5n2kfra8p0\\localcache\\local-packages\\python310\\site-packages (from spacy<4.0.0,>=3.0.0->sense2vec) (0.3.4)\n",
            "Requirement already satisfied: typer<0.10.0,>=0.3.0 in c:\\users\\35193\\appdata\\local\\packages\\pythonsoftwarefoundation.python.3.10_qbz5n2kfra8p0\\localcache\\local-packages\\python310\\site-packages (from spacy<4.0.0,>=3.0.0->sense2vec) (0.9.4)\n",
            "Requirement already satisfied: smart-open<7.0.0,>=5.2.1 in c:\\users\\35193\\appdata\\local\\packages\\pythonsoftwarefoundation.python.3.10_qbz5n2kfra8p0\\localcache\\local-packages\\python310\\site-packages (from spacy<4.0.0,>=3.0.0->sense2vec) (6.4.0)\n",
            "Requirement already satisfied: tqdm<5.0.0,>=4.38.0 in c:\\users\\35193\\appdata\\local\\packages\\pythonsoftwarefoundation.python.3.10_qbz5n2kfra8p0\\localcache\\local-packages\\python310\\site-packages (from spacy<4.0.0,>=3.0.0->sense2vec) (4.64.1)\n",
            "Requirement already satisfied: requests<3.0.0,>=2.13.0 in c:\\users\\35193\\appdata\\local\\packages\\pythonsoftwarefoundation.python.3.10_qbz5n2kfra8p0\\localcache\\local-packages\\python310\\site-packages (from spacy<4.0.0,>=3.0.0->sense2vec) (2.28.1)\n",
            "Requirement already satisfied: pydantic!=1.8,!=1.8.1,<3.0.0,>=1.7.4 in c:\\users\\35193\\appdata\\local\\packages\\pythonsoftwarefoundation.python.3.10_qbz5n2kfra8p0\\localcache\\local-packages\\python310\\site-packages (from spacy<4.0.0,>=3.0.0->sense2vec) (2.6.4)\n",
            "Requirement already satisfied: jinja2 in c:\\users\\35193\\appdata\\local\\packages\\pythonsoftwarefoundation.python.3.10_qbz5n2kfra8p0\\localcache\\local-packages\\python310\\site-packages (from spacy<4.0.0,>=3.0.0->sense2vec) (3.1.2)\n",
            "Requirement already satisfied: setuptools in c:\\program files\\windowsapps\\pythonsoftwarefoundation.python.3.10_3.10.3056.0_x64__qbz5n2kfra8p0\\lib\\site-packages (from spacy<4.0.0,>=3.0.0->sense2vec) (65.5.0)\n",
            "Requirement already satisfied: packaging>=20.0 in c:\\users\\35193\\appdata\\local\\packages\\pythonsoftwarefoundation.python.3.10_qbz5n2kfra8p0\\localcache\\local-packages\\python310\\site-packages (from spacy<4.0.0,>=3.0.0->sense2vec) (21.3)\n",
            "Requirement already satisfied: langcodes<4.0.0,>=3.2.0 in c:\\users\\35193\\appdata\\local\\packages\\pythonsoftwarefoundation.python.3.10_qbz5n2kfra8p0\\localcache\\local-packages\\python310\\site-packages (from spacy<4.0.0,>=3.0.0->sense2vec) (3.3.0)\n",
            "Requirement already satisfied: colorama>=0.4.6 in c:\\users\\35193\\appdata\\local\\packages\\pythonsoftwarefoundation.python.3.10_qbz5n2kfra8p0\\localcache\\local-packages\\python310\\site-packages (from wasabi<1.2.0,>=0.8.1->sense2vec) (0.4.6)\n",
            "Requirement already satisfied: pyparsing!=3.0.5,>=2.0.2 in c:\\users\\35193\\appdata\\local\\packages\\pythonsoftwarefoundation.python.3.10_qbz5n2kfra8p0\\localcache\\local-packages\\python310\\site-packages (from packaging>=20.0->spacy<4.0.0,>=3.0.0->sense2vec) (3.0.9)\n",
            "Requirement already satisfied: annotated-types>=0.4.0 in c:\\users\\35193\\appdata\\local\\packages\\pythonsoftwarefoundation.python.3.10_qbz5n2kfra8p0\\localcache\\local-packages\\python310\\site-packages (from pydantic!=1.8,!=1.8.1,<3.0.0,>=1.7.4->spacy<4.0.0,>=3.0.0->sense2vec) (0.6.0)\n",
            "Requirement already satisfied: pydantic-core==2.16.3 in c:\\users\\35193\\appdata\\local\\packages\\pythonsoftwarefoundation.python.3.10_qbz5n2kfra8p0\\localcache\\local-packages\\python310\\site-packages (from pydantic!=1.8,!=1.8.1,<3.0.0,>=1.7.4->spacy<4.0.0,>=3.0.0->sense2vec) (2.16.3)\n",
            "Requirement already satisfied: typing-extensions>=4.6.1 in c:\\users\\35193\\appdata\\local\\packages\\pythonsoftwarefoundation.python.3.10_qbz5n2kfra8p0\\localcache\\local-packages\\python310\\site-packages (from pydantic!=1.8,!=1.8.1,<3.0.0,>=1.7.4->spacy<4.0.0,>=3.0.0->sense2vec) (4.8.0)\n",
            "Requirement already satisfied: charset-normalizer<3,>=2 in c:\\users\\35193\\appdata\\local\\packages\\pythonsoftwarefoundation.python.3.10_qbz5n2kfra8p0\\localcache\\local-packages\\python310\\site-packages (from requests<3.0.0,>=2.13.0->spacy<4.0.0,>=3.0.0->sense2vec) (2.1.1)\n",
            "Requirement already satisfied: idna<4,>=2.5 in c:\\users\\35193\\appdata\\local\\packages\\pythonsoftwarefoundation.python.3.10_qbz5n2kfra8p0\\localcache\\local-packages\\python310\\site-packages (from requests<3.0.0,>=2.13.0->spacy<4.0.0,>=3.0.0->sense2vec) (3.4)\n",
            "Requirement already satisfied: urllib3<1.27,>=1.21.1 in c:\\users\\35193\\appdata\\local\\packages\\pythonsoftwarefoundation.python.3.10_qbz5n2kfra8p0\\localcache\\local-packages\\python310\\site-packages (from requests<3.0.0,>=2.13.0->spacy<4.0.0,>=3.0.0->sense2vec) (1.26.12)\n",
            "Requirement already satisfied: certifi>=2017.4.17 in c:\\users\\35193\\appdata\\local\\packages\\pythonsoftwarefoundation.python.3.10_qbz5n2kfra8p0\\localcache\\local-packages\\python310\\site-packages (from requests<3.0.0,>=2.13.0->spacy<4.0.0,>=3.0.0->sense2vec) (2022.9.24)\n",
            "Requirement already satisfied: blis<0.8.0,>=0.7.8 in c:\\users\\35193\\appdata\\local\\packages\\pythonsoftwarefoundation.python.3.10_qbz5n2kfra8p0\\localcache\\local-packages\\python310\\site-packages (from thinc<8.3.0,>=8.2.2->spacy<4.0.0,>=3.0.0->sense2vec) (0.7.11)\n",
            "Requirement already satisfied: confection<1.0.0,>=0.0.1 in c:\\users\\35193\\appdata\\local\\packages\\pythonsoftwarefoundation.python.3.10_qbz5n2kfra8p0\\localcache\\local-packages\\python310\\site-packages (from thinc<8.3.0,>=8.2.2->spacy<4.0.0,>=3.0.0->sense2vec) (0.1.4)\n",
            "Requirement already satisfied: click<9.0.0,>=7.1.1 in c:\\users\\35193\\appdata\\local\\packages\\pythonsoftwarefoundation.python.3.10_qbz5n2kfra8p0\\localcache\\local-packages\\python310\\site-packages (from typer<0.10.0,>=0.3.0->spacy<4.0.0,>=3.0.0->sense2vec) (8.1.3)\n",
            "Requirement already satisfied: cloudpathlib<0.17.0,>=0.7.0 in c:\\users\\35193\\appdata\\local\\packages\\pythonsoftwarefoundation.python.3.10_qbz5n2kfra8p0\\localcache\\local-packages\\python310\\site-packages (from weasel<0.4.0,>=0.1.0->spacy<4.0.0,>=3.0.0->sense2vec) (0.16.0)\n",
            "Requirement already satisfied: MarkupSafe>=2.0 in c:\\users\\35193\\appdata\\local\\packages\\pythonsoftwarefoundation.python.3.10_qbz5n2kfra8p0\\localcache\\local-packages\\python310\\site-packages (from jinja2->spacy<4.0.0,>=3.0.0->sense2vec) (2.1.1)\n",
            "Using cached sense2vec-2.0.2-py2.py3-none-any.whl (40 kB)\n",
            "Installing collected packages: sense2vec\n",
            "Successfully installed sense2vec-2.0.2\n",
            "Collecting spacy_fastlang\n",
            "  Downloading spacy_fastlang-2.1.0-py3-none-any.whl.metadata (2.2 kB)\n",
            "Collecting fasttext-wheel<0.10.0,>=0.9.2 (from spacy_fastlang)\n",
            "  Downloading fasttext_wheel-0.9.2-cp310-cp310-win_amd64.whl.metadata (16 kB)\n",
            "Requirement already satisfied: spacy<4.0.0,>=3.0.0 in c:\\users\\35193\\appdata\\local\\packages\\pythonsoftwarefoundation.python.3.10_qbz5n2kfra8p0\\localcache\\local-packages\\python310\\site-packages (from spacy_fastlang) (3.7.4)\n",
            "Collecting pybind11>=2.2 (from fasttext-wheel<0.10.0,>=0.9.2->spacy_fastlang)\n",
            "  Using cached pybind11-2.12.0-py3-none-any.whl.metadata (9.5 kB)\n",
            "Requirement already satisfied: setuptools>=0.7.0 in c:\\program files\\windowsapps\\pythonsoftwarefoundation.python.3.10_3.10.3056.0_x64__qbz5n2kfra8p0\\lib\\site-packages (from fasttext-wheel<0.10.0,>=0.9.2->spacy_fastlang) (65.5.0)\n",
            "Requirement already satisfied: numpy in c:\\users\\35193\\appdata\\local\\packages\\pythonsoftwarefoundation.python.3.10_qbz5n2kfra8p0\\localcache\\local-packages\\python310\\site-packages (from fasttext-wheel<0.10.0,>=0.9.2->spacy_fastlang) (1.26.0)\n",
            "Requirement already satisfied: spacy-legacy<3.1.0,>=3.0.11 in c:\\users\\35193\\appdata\\local\\packages\\pythonsoftwarefoundation.python.3.10_qbz5n2kfra8p0\\localcache\\local-packages\\python310\\site-packages (from spacy<4.0.0,>=3.0.0->spacy_fastlang) (3.0.12)\n",
            "Requirement already satisfied: spacy-loggers<2.0.0,>=1.0.0 in c:\\users\\35193\\appdata\\local\\packages\\pythonsoftwarefoundation.python.3.10_qbz5n2kfra8p0\\localcache\\local-packages\\python310\\site-packages (from spacy<4.0.0,>=3.0.0->spacy_fastlang) (1.0.5)\n",
            "Requirement already satisfied: murmurhash<1.1.0,>=0.28.0 in c:\\users\\35193\\appdata\\local\\packages\\pythonsoftwarefoundation.python.3.10_qbz5n2kfra8p0\\localcache\\local-packages\\python310\\site-packages (from spacy<4.0.0,>=3.0.0->spacy_fastlang) (1.0.10)\n",
            "Requirement already satisfied: cymem<2.1.0,>=2.0.2 in c:\\users\\35193\\appdata\\local\\packages\\pythonsoftwarefoundation.python.3.10_qbz5n2kfra8p0\\localcache\\local-packages\\python310\\site-packages (from spacy<4.0.0,>=3.0.0->spacy_fastlang) (2.0.8)\n",
            "Requirement already satisfied: preshed<3.1.0,>=3.0.2 in c:\\users\\35193\\appdata\\local\\packages\\pythonsoftwarefoundation.python.3.10_qbz5n2kfra8p0\\localcache\\local-packages\\python310\\site-packages (from spacy<4.0.0,>=3.0.0->spacy_fastlang) (3.0.9)\n",
            "Requirement already satisfied: thinc<8.3.0,>=8.2.2 in c:\\users\\35193\\appdata\\local\\packages\\pythonsoftwarefoundation.python.3.10_qbz5n2kfra8p0\\localcache\\local-packages\\python310\\site-packages (from spacy<4.0.0,>=3.0.0->spacy_fastlang) (8.2.3)\n",
            "Requirement already satisfied: wasabi<1.2.0,>=0.9.1 in c:\\users\\35193\\appdata\\local\\packages\\pythonsoftwarefoundation.python.3.10_qbz5n2kfra8p0\\localcache\\local-packages\\python310\\site-packages (from spacy<4.0.0,>=3.0.0->spacy_fastlang) (1.1.2)\n",
            "Requirement already satisfied: srsly<3.0.0,>=2.4.3 in c:\\users\\35193\\appdata\\local\\packages\\pythonsoftwarefoundation.python.3.10_qbz5n2kfra8p0\\localcache\\local-packages\\python310\\site-packages (from spacy<4.0.0,>=3.0.0->spacy_fastlang) (2.4.8)\n",
            "Requirement already satisfied: catalogue<2.1.0,>=2.0.6 in c:\\users\\35193\\appdata\\local\\packages\\pythonsoftwarefoundation.python.3.10_qbz5n2kfra8p0\\localcache\\local-packages\\python310\\site-packages (from spacy<4.0.0,>=3.0.0->spacy_fastlang) (2.0.10)\n",
            "Requirement already satisfied: weasel<0.4.0,>=0.1.0 in c:\\users\\35193\\appdata\\local\\packages\\pythonsoftwarefoundation.python.3.10_qbz5n2kfra8p0\\localcache\\local-packages\\python310\\site-packages (from spacy<4.0.0,>=3.0.0->spacy_fastlang) (0.3.4)\n",
            "Requirement already satisfied: typer<0.10.0,>=0.3.0 in c:\\users\\35193\\appdata\\local\\packages\\pythonsoftwarefoundation.python.3.10_qbz5n2kfra8p0\\localcache\\local-packages\\python310\\site-packages (from spacy<4.0.0,>=3.0.0->spacy_fastlang) (0.9.4)\n",
            "Requirement already satisfied: smart-open<7.0.0,>=5.2.1 in c:\\users\\35193\\appdata\\local\\packages\\pythonsoftwarefoundation.python.3.10_qbz5n2kfra8p0\\localcache\\local-packages\\python310\\site-packages (from spacy<4.0.0,>=3.0.0->spacy_fastlang) (6.4.0)\n",
            "Requirement already satisfied: tqdm<5.0.0,>=4.38.0 in c:\\users\\35193\\appdata\\local\\packages\\pythonsoftwarefoundation.python.3.10_qbz5n2kfra8p0\\localcache\\local-packages\\python310\\site-packages (from spacy<4.0.0,>=3.0.0->spacy_fastlang) (4.64.1)\n",
            "Requirement already satisfied: requests<3.0.0,>=2.13.0 in c:\\users\\35193\\appdata\\local\\packages\\pythonsoftwarefoundation.python.3.10_qbz5n2kfra8p0\\localcache\\local-packages\\python310\\site-packages (from spacy<4.0.0,>=3.0.0->spacy_fastlang) (2.28.1)\n",
            "Requirement already satisfied: pydantic!=1.8,!=1.8.1,<3.0.0,>=1.7.4 in c:\\users\\35193\\appdata\\local\\packages\\pythonsoftwarefoundation.python.3.10_qbz5n2kfra8p0\\localcache\\local-packages\\python310\\site-packages (from spacy<4.0.0,>=3.0.0->spacy_fastlang) (2.6.4)\n",
            "Requirement already satisfied: jinja2 in c:\\users\\35193\\appdata\\local\\packages\\pythonsoftwarefoundation.python.3.10_qbz5n2kfra8p0\\localcache\\local-packages\\python310\\site-packages (from spacy<4.0.0,>=3.0.0->spacy_fastlang) (3.1.2)\n",
            "Requirement already satisfied: packaging>=20.0 in c:\\users\\35193\\appdata\\local\\packages\\pythonsoftwarefoundation.python.3.10_qbz5n2kfra8p0\\localcache\\local-packages\\python310\\site-packages (from spacy<4.0.0,>=3.0.0->spacy_fastlang) (21.3)\n",
            "Requirement already satisfied: langcodes<4.0.0,>=3.2.0 in c:\\users\\35193\\appdata\\local\\packages\\pythonsoftwarefoundation.python.3.10_qbz5n2kfra8p0\\localcache\\local-packages\\python310\\site-packages (from spacy<4.0.0,>=3.0.0->spacy_fastlang) (3.3.0)\n",
            "Requirement already satisfied: pyparsing!=3.0.5,>=2.0.2 in c:\\users\\35193\\appdata\\local\\packages\\pythonsoftwarefoundation.python.3.10_qbz5n2kfra8p0\\localcache\\local-packages\\python310\\site-packages (from packaging>=20.0->spacy<4.0.0,>=3.0.0->spacy_fastlang) (3.0.9)\n",
            "Requirement already satisfied: annotated-types>=0.4.0 in c:\\users\\35193\\appdata\\local\\packages\\pythonsoftwarefoundation.python.3.10_qbz5n2kfra8p0\\localcache\\local-packages\\python310\\site-packages (from pydantic!=1.8,!=1.8.1,<3.0.0,>=1.7.4->spacy<4.0.0,>=3.0.0->spacy_fastlang) (0.6.0)\n",
            "Requirement already satisfied: pydantic-core==2.16.3 in c:\\users\\35193\\appdata\\local\\packages\\pythonsoftwarefoundation.python.3.10_qbz5n2kfra8p0\\localcache\\local-packages\\python310\\site-packages (from pydantic!=1.8,!=1.8.1,<3.0.0,>=1.7.4->spacy<4.0.0,>=3.0.0->spacy_fastlang) (2.16.3)\n",
            "Requirement already satisfied: typing-extensions>=4.6.1 in c:\\users\\35193\\appdata\\local\\packages\\pythonsoftwarefoundation.python.3.10_qbz5n2kfra8p0\\localcache\\local-packages\\python310\\site-packages (from pydantic!=1.8,!=1.8.1,<3.0.0,>=1.7.4->spacy<4.0.0,>=3.0.0->spacy_fastlang) (4.8.0)\n",
            "Requirement already satisfied: charset-normalizer<3,>=2 in c:\\users\\35193\\appdata\\local\\packages\\pythonsoftwarefoundation.python.3.10_qbz5n2kfra8p0\\localcache\\local-packages\\python310\\site-packages (from requests<3.0.0,>=2.13.0->spacy<4.0.0,>=3.0.0->spacy_fastlang) (2.1.1)\n",
            "Requirement already satisfied: idna<4,>=2.5 in c:\\users\\35193\\appdata\\local\\packages\\pythonsoftwarefoundation.python.3.10_qbz5n2kfra8p0\\localcache\\local-packages\\python310\\site-packages (from requests<3.0.0,>=2.13.0->spacy<4.0.0,>=3.0.0->spacy_fastlang) (3.4)\n",
            "Requirement already satisfied: urllib3<1.27,>=1.21.1 in c:\\users\\35193\\appdata\\local\\packages\\pythonsoftwarefoundation.python.3.10_qbz5n2kfra8p0\\localcache\\local-packages\\python310\\site-packages (from requests<3.0.0,>=2.13.0->spacy<4.0.0,>=3.0.0->spacy_fastlang) (1.26.12)\n",
            "Requirement already satisfied: certifi>=2017.4.17 in c:\\users\\35193\\appdata\\local\\packages\\pythonsoftwarefoundation.python.3.10_qbz5n2kfra8p0\\localcache\\local-packages\\python310\\site-packages (from requests<3.0.0,>=2.13.0->spacy<4.0.0,>=3.0.0->spacy_fastlang) (2022.9.24)\n",
            "Requirement already satisfied: blis<0.8.0,>=0.7.8 in c:\\users\\35193\\appdata\\local\\packages\\pythonsoftwarefoundation.python.3.10_qbz5n2kfra8p0\\localcache\\local-packages\\python310\\site-packages (from thinc<8.3.0,>=8.2.2->spacy<4.0.0,>=3.0.0->spacy_fastlang) (0.7.11)\n",
            "Requirement already satisfied: confection<1.0.0,>=0.0.1 in c:\\users\\35193\\appdata\\local\\packages\\pythonsoftwarefoundation.python.3.10_qbz5n2kfra8p0\\localcache\\local-packages\\python310\\site-packages (from thinc<8.3.0,>=8.2.2->spacy<4.0.0,>=3.0.0->spacy_fastlang) (0.1.4)\n",
            "Requirement already satisfied: colorama in c:\\users\\35193\\appdata\\local\\packages\\pythonsoftwarefoundation.python.3.10_qbz5n2kfra8p0\\localcache\\local-packages\\python310\\site-packages (from tqdm<5.0.0,>=4.38.0->spacy<4.0.0,>=3.0.0->spacy_fastlang) (0.4.6)\n",
            "Requirement already satisfied: click<9.0.0,>=7.1.1 in c:\\users\\35193\\appdata\\local\\packages\\pythonsoftwarefoundation.python.3.10_qbz5n2kfra8p0\\localcache\\local-packages\\python310\\site-packages (from typer<0.10.0,>=0.3.0->spacy<4.0.0,>=3.0.0->spacy_fastlang) (8.1.3)\n",
            "Requirement already satisfied: cloudpathlib<0.17.0,>=0.7.0 in c:\\users\\35193\\appdata\\local\\packages\\pythonsoftwarefoundation.python.3.10_qbz5n2kfra8p0\\localcache\\local-packages\\python310\\site-packages (from weasel<0.4.0,>=0.1.0->spacy<4.0.0,>=3.0.0->spacy_fastlang) (0.16.0)\n",
            "Requirement already satisfied: MarkupSafe>=2.0 in c:\\users\\35193\\appdata\\local\\packages\\pythonsoftwarefoundation.python.3.10_qbz5n2kfra8p0\\localcache\\local-packages\\python310\\site-packages (from jinja2->spacy<4.0.0,>=3.0.0->spacy_fastlang) (2.1.1)\n",
            "Downloading spacy_fastlang-2.1.0-py3-none-any.whl (780 kB)\n",
            "   ---------------------------------------- 0.0/780.4 kB ? eta -:--:--\n",
            "   --- ------------------------------------ 61.4/780.4 kB 1.1 MB/s eta 0:00:01\n",
            "   ------ --------------------------------- 122.9/780.4 kB 1.4 MB/s eta 0:00:01\n",
            "   ------- -------------------------------- 153.6/780.4 kB 1.0 MB/s eta 0:00:01\n",
            "   ---------- ----------------------------- 204.8/780.4 kB 1.0 MB/s eta 0:00:01\n",
            "   --------------- ------------------------ 307.2/780.4 kB 1.3 MB/s eta 0:00:01\n",
            "   -------------------- ------------------- 399.4/780.4 kB 1.4 MB/s eta 0:00:01\n",
            "   --------------------------- ------------ 532.5/780.4 kB 1.6 MB/s eta 0:00:01\n",
            "   ---------------------------------- ----- 665.6/780.4 kB 1.7 MB/s eta 0:00:01\n",
            "   ---------------------------------------- 780.4/780.4 kB 1.8 MB/s eta 0:00:00\n",
            "Downloading fasttext_wheel-0.9.2-cp310-cp310-win_amd64.whl (241 kB)\n",
            "   ---------------------------------------- 0.0/241.5 kB ? eta -:--:--\n",
            "   ---------------------------- ----------- 174.1/241.5 kB 3.5 MB/s eta 0:00:01\n",
            "   ---------------------------------------- 241.5/241.5 kB 3.0 MB/s eta 0:00:00\n",
            "Using cached pybind11-2.12.0-py3-none-any.whl (234 kB)\n",
            "Installing collected packages: pybind11, fasttext-wheel, spacy_fastlang\n",
            "Successfully installed fasttext-wheel-0.9.2 pybind11-2.12.0 spacy_fastlang-2.1.0\n"
          ]
        },
        {
          "name": "stderr",
          "output_type": "stream",
          "text": [
            "  WARNING: The script pybind11-config.exe is installed in 'C:\\Users\\35193\\AppData\\Local\\Packages\\PythonSoftwareFoundation.Python.3.10_qbz5n2kfra8p0\\LocalCache\\local-packages\\Python310\\Scripts' which is not on PATH.\n",
            "  Consider adding this directory to PATH or, if you prefer to suppress this warning, use --no-warn-script-location.\n"
          ]
        }
      ],
      "source": [
        "!pip install langid\n",
        "!pip install gensim\n",
        "!pip install -U spacy\n",
        "!python -m spacy download it_core_news_sm\n",
        "!wget https://github.com/explosion/sense2vec/releases/download/v1.0.0/s2v_reddit_2015_md.tar.gz\n",
        "!tar -xzvf s2v_reddit_2015_md.tar.gz\n",
        "!pip install sense2vec\n",
        "!pip install spacy_fastlang"
      ]
    },
    {
      "cell_type": "code",
      "execution_count": 2,
      "metadata": {
        "colab": {
          "base_uri": "https://localhost:8080/"
        },
        "id": "q-3BMXNIjGo0",
        "outputId": "4f4029be-8466-4362-9d69-eb3f50431962"
      },
      "outputs": [
        {
          "ename": "ModuleNotFoundError",
          "evalue": "No module named 'google.colab'",
          "output_type": "error",
          "traceback": [
            "\u001b[1;31m---------------------------------------------------------------------------\u001b[0m",
            "\u001b[1;31mModuleNotFoundError\u001b[0m                       Traceback (most recent call last)",
            "Cell \u001b[1;32mIn[2], line 4\u001b[0m\n\u001b[0;32m      1\u001b[0m \u001b[38;5;28;01mimport\u001b[39;00m \u001b[38;5;21;01mnumpy\u001b[39;00m \u001b[38;5;28;01mas\u001b[39;00m \u001b[38;5;21;01mnp\u001b[39;00m\n\u001b[0;32m      2\u001b[0m \u001b[38;5;28;01mimport\u001b[39;00m \u001b[38;5;21;01mpandas\u001b[39;00m \u001b[38;5;28;01mas\u001b[39;00m \u001b[38;5;21;01mpd\u001b[39;00m\n\u001b[1;32m----> 4\u001b[0m \u001b[38;5;28;01mfrom\u001b[39;00m \u001b[38;5;21;01mgoogle\u001b[39;00m\u001b[38;5;21;01m.\u001b[39;00m\u001b[38;5;21;01mcolab\u001b[39;00m \u001b[38;5;28;01mimport\u001b[39;00m drive\n\u001b[0;32m      5\u001b[0m drive\u001b[38;5;241m.\u001b[39mmount(\u001b[38;5;124m'\u001b[39m\u001b[38;5;124m/content/gdrive\u001b[39m\u001b[38;5;124m'\u001b[39m)\n\u001b[0;32m      7\u001b[0m \u001b[38;5;28;01mimport\u001b[39;00m \u001b[38;5;21;01mre\u001b[39;00m\n",
            "\u001b[1;31mModuleNotFoundError\u001b[0m: No module named 'google.colab'"
          ]
        }
      ],
      "source": [
        "import numpy as np\n",
        "import pandas as pd\n",
        "\n",
        "from google.colab import drive\n",
        "drive.mount('/content/gdrive')\n",
        "\n",
        "import re\n",
        "import json\n",
        "import gensim.downloader as api\n",
        "\n",
        "import langid\n",
        "from gensim.models import Word2Vec\n",
        "import spacy\n",
        "import spacy_fastlang\n",
        "\n",
        "from sense2vec import Sense2Vec\n",
        "import random\n",
        "\n",
        "import torch\n",
        "from transformers import RobertaTokenizer\n",
        "from transformers import RobertaForMultipleChoice\n",
        "from torch.distributions import Categorical\n",
        "from transformers import AutoTokenizer, AutoModelForSequenceClassification\n",
        "from transformers import pipeline\n",
        "\n",
        "from sklearn.metrics import accuracy_score, precision_score, recall_score, f1_score, confusion_matrix\n",
        "import seaborn as sns\n",
        "import matplotlib.pyplot as plt\n",
        "\n",
        "import nltk\n",
        "nltk.download('omw-1.4')\n",
        "nltk.download('wordnet')\n",
        "from nltk.corpus import wordnet as wn\n",
        "\n",
        "import time\n",
        "import warnings\n",
        "warnings.filterwarnings('ignore')"
      ]
    },
    {
      "cell_type": "markdown",
      "metadata": {
        "id": "KWomv2Y0g-l_"
      },
      "source": [
        "# 2.0 Set up"
      ]
    },
    {
      "cell_type": "code",
      "execution_count": null,
      "metadata": {
        "id": "M9yPG6KyH1dx"
      },
      "outputs": [],
      "source": [
        "def load_data(data_path, gold_path):\n",
        "  count = 0\n",
        "  hypernyms_dict = {}\n",
        "  with open(data_path, \"r\", encoding = 'utf-8') as data_file, open(gold_path, \"r\", encoding = 'utf-8') as gold_file:\n",
        "    for data_line, gold_line in zip(data_file, gold_file):\n",
        "      term_list = [term for term in data_line.split()[:-1]]\n",
        "      term = \" \".join(term_list)\n",
        "      hypernyms = [hypernym.replace(\"\\n\", \"\") for hypernym in gold_line.split(\"\\t\")]\n",
        "      hypernyms_dict[term] = hypernyms\n",
        "      count += 1\n",
        "\n",
        "      if count == 20:\n",
        "        break\n",
        "\n",
        "  return hypernyms_dict"
      ]
    },
    {
      "cell_type": "code",
      "execution_count": null,
      "metadata": {
        "id": "oWNvGVp9XdIx"
      },
      "outputs": [],
      "source": [
        "#  PARTIAL italian training data\n",
        "train_hypernyms = load_data(\"/content/1B.italian.training.data.txt\", \"/content/1B.italian.training.gold.txt\")\n",
        "\n",
        "# PARTIAL italian test data\n",
        "test_hypernyms = load_data(\"/content/1B.italian.test.data.txt\", \"/content/1B.italian.test.gold.txt\")"
      ]
    },
    {
      "cell_type": "markdown",
      "metadata": {
        "id": "ff5gVEnfg6Lp"
      },
      "source": [
        "# 3.0 Find Distractors"
      ]
    },
    {
      "cell_type": "markdown",
      "metadata": {
        "id": "1SIts6mWLj_1"
      },
      "source": [
        "## 3.1 Fasttext\n"
      ]
    },
    {
      "cell_type": "code",
      "execution_count": null,
      "metadata": {
        "colab": {
          "base_uri": "https://localhost:8080/"
        },
        "id": "OHRYBJYpLpYi",
        "outputId": "12affec6-2bb2-425f-f3bd-0c1c250fbf15"
      },
      "outputs": [
        {
          "name": "stdout",
          "output_type": "stream",
          "text": [
            "fatal: destination path 'fastText' already exists and is not an empty directory.\n",
            "python3: can't open file '/content/setup.py': [Errno 2] No such file or directory\n"
          ]
        }
      ],
      "source": [
        "!git clone https://github.com/facebookresearch/fastText.git\n",
        "!cd fastText\n",
        "!sudo python setup.py install"
      ]
    },
    {
      "cell_type": "markdown",
      "metadata": {
        "id": "SVpKhfWuYzKN"
      },
      "source": [
        "### Functions"
      ]
    },
    {
      "cell_type": "code",
      "execution_count": null,
      "metadata": {
        "id": "K6SnidfZLq7S"
      },
      "outputs": [],
      "source": [
        "import fasttext.util\n",
        "# fasttext.util.download_model('it', if_exists='ignore')"
      ]
    },
    {
      "cell_type": "code",
      "execution_count": null,
      "metadata": {
        "colab": {
          "base_uri": "https://localhost:8080/"
        },
        "id": "xh530uT4Lwjn",
        "outputId": "a65e7903-4ede-4c6a-ae2d-64964387b926"
      },
      "outputs": [
        {
          "name": "stderr",
          "output_type": "stream",
          "text": [
            "Warning : `load_model` does not return WordVectorModel or SupervisedModel any more, but a `FastText` object which is very similar.\n"
          ]
        }
      ],
      "source": [
        "model = fasttext.load_model('cc.it.300.bin')"
      ]
    },
    {
      "cell_type": "code",
      "execution_count": 7,
      "metadata": {
        "id": "gz0eSEndRsz0"
      },
      "outputs": [
        {
          "name": "stdout",
          "output_type": "stream",
          "text": [
            "Distractors: []\n"
          ]
        }
      ],
      "source": [
        "from scipy.spatial.distance import cosine\n",
        "\n",
        "# Function that calculates cosine similarity\n",
        "def cosine_similarity(embedding_1, embedding_2):\n",
        "    return 1 - cosine(embedding_1, embedding_2)\n",
        "\n",
        "\n",
        "def find_distractors(hypernym, num_distractors):\n",
        "  distractors = []\n",
        "\n",
        "  # Get word embedding for golden label\n",
        "  golden_embedding = model.get_word_vector(hypernym)\n",
        "\n",
        "  # Generate three distractors\n",
        "  candidates = model.get_nearest_neighbors(hypernym, k = 10)\n",
        "  for distractor in candidates:\n",
        "    distractor = distractor[1]\n",
        "    distractor_embedding = model.get_word_vector(distractor)\n",
        "    similarity = cosine_similarity(golden_embedding, distractor_embedding)\n",
        "    # Set the range threshold for the cosine similarity\n",
        "    if 0.1 <= similarity <= 0.6 and distractor not in distractors:\n",
        "      distractors.append(distractor)\n",
        "\n",
        "  return distractors[:num_distractors]"
      ]
    },
    {
      "cell_type": "code",
      "execution_count": 21,
      "metadata": {},
      "outputs": [
        {
          "name": "stdout",
          "output_type": "stream",
          "text": [
            "Distractors for 'gatto':\n",
            "1. cane\n",
            "2. micio\n",
            "3. gattino\n"
          ]
        },
        {
          "name": "stderr",
          "output_type": "stream",
          "text": [
            "Warning : `load_model` does not return WordVectorModel or SupervisedModel any more, but a `FastText` object which is very similar.\n"
          ]
        }
      ],
      "source": [
        "# Import necessary libraries\n",
        "\n",
        "# Define the find_distractors function\n",
        "def find_distractors(word, num_distractors, model):\n",
        "    distractors = []\n",
        "\n",
        "    # Get the nearest neighbors of the word from the FastText model\n",
        "    nearest_neighbors = model.get_nearest_neighbors(word, k=num_distractors)\n",
        "\n",
        "    # Extract the words from the nearest neighbors\n",
        "    distractors = [neighbor[1] for neighbor in nearest_neighbors]\n",
        "\n",
        "    # Remove the word itself from the distractors list\n",
        "    distractors = [distractor for distractor in distractors if distractor != word]\n",
        "\n",
        "    return distractors\n",
        "\n",
        "# Define the word for which you want to find distractors\n",
        "word = \"gatto\"\n",
        "\n",
        "import fasttext.util\n",
        "model = fasttext.load_model('cc.it.300.bin')\n",
        "distractors = find_distractors(word, 3, model)\n",
        "\n",
        "# Print the distractors\n",
        "print(\"Distractors for '{}':\".format(word))\n",
        "for i, distractor in enumerate(distractors, 1):\n",
        "    print(\"{}. {}\".format(i, distractor))\n"
      ]
    },
    {
      "cell_type": "markdown",
      "metadata": {
        "id": "WhD8vekoRgIL"
      },
      "source": [
        "### Example"
      ]
    },
    {
      "cell_type": "code",
      "execution_count": 53,
      "metadata": {
        "colab": {
          "base_uri": "https://localhost:8080/"
        },
        "id": "HYnIStdDL1Is",
        "outputId": "6b156975-5570-487f-a0ba-7feba2b9fec2"
      },
      "outputs": [
        {
          "data": {
            "text/plain": [
              "[(0.69635009765625, 'dinale'),\n",
              " (0.6637539267539978, 'tecnicoeconomica'),\n",
              " (0.6575295329093933, 'numeroe'),\n",
              " (0.6210983991622925, 'ordinal'),\n",
              " (0.617618203163147, 'Ordinale'),\n",
              " (0.6075699925422668, 'Numeroordinale'),\n",
              " (0.6015861630439758, 'Numerocardinale'),\n",
              " (0.5819660425186157, 'estetologo'),\n",
              " (0.5808798670768738, 'Sindacatore'),\n",
              " (0.5799951553344727, 'anticardinale')]"
            ]
          },
          "execution_count": 53,
          "metadata": {},
          "output_type": "execute_result"
        }
      ],
      "source": [
        "model.get_nearest_neighbors('numero ordinale')"
      ]
    },
    {
      "cell_type": "code",
      "execution_count": 54,
      "metadata": {
        "colab": {
          "base_uri": "https://localhost:8080/"
        },
        "id": "qMYnnwyzL5n6",
        "outputId": "af942918-4bb0-4d08-e337-28e57ef7e214"
      },
      "outputs": [
        {
          "data": {
            "text/plain": [
              "[(0.4903110861778259, 'decimillesimo'),\n",
              " (0.46558308601379395, 'millesimi'),\n",
              " (0.430698961019516, 'duecentesimo'),\n",
              " (0.4299042224884033, 'ordinalità'),\n",
              " (0.4258556365966797, 'centesimo'),\n",
              " (0.421135812997818, 'decimo'),\n",
              " (0.4166191816329956, 'trecentesimo'),\n",
              " (0.40764376521110535, 'decimillesimi'),\n",
              " (0.4020084738731384, 'cinquantesimo'),\n",
              " (0.40015530586242676, 'milionesimo')]"
            ]
          },
          "execution_count": 54,
          "metadata": {},
          "output_type": "execute_result"
        }
      ],
      "source": [
        "model.get_analogies(\"numero ordinale\", \"carinale\", \"millesimo\")"
      ]
    },
    {
      "cell_type": "code",
      "execution_count": 22,
      "metadata": {
        "id": "JUOTCo9WRzwu"
      },
      "outputs": [
        {
          "name": "stdout",
          "output_type": "stream",
          "text": [
            "Distractors for 'numero ordinale':\n",
            "1. dinale\n",
            "2. tecnicoeconomica\n",
            "3. numeroe\n"
          ]
        }
      ],
      "source": [
        "word = \"numero ordinale\"\n",
        "distractors = find_distractors(word, 3, model)\n",
        "# Print the distractors\n",
        "print(\"Distractors for '{}':\".format(word))\n",
        "for i, distractor in enumerate(distractors, 1):\n",
        "    print(\"{}. {}\".format(i, distractor))"
      ]
    },
    {
      "cell_type": "code",
      "execution_count": 56,
      "metadata": {
        "colab": {
          "base_uri": "https://localhost:8080/"
        },
        "id": "iYZ0qhE8RkkU",
        "outputId": "70936007-18aa-4667-ca17-9b7117541c5c"
      },
      "outputs": [
        {
          "name": "stdout",
          "output_type": "stream",
          "text": [
            "Distractor 1: estetologo\n",
            "Cosine similarity: 0.58\n",
            "Distractor 2: Sindacatore\n",
            "Cosine similarity: 0.58\n",
            "Distractor 3: anticardinale\n",
            "Cosine similarity: 0.58\n"
          ]
        }
      ],
      "source": [
        "for i, distractor in enumerate(distractors):\n",
        "  print(f\"Distractor {i + 1}: {distractor}\")\n",
        "\n",
        "  # Get word embedding for distractor\n",
        "  distractor_embedding = model.get_word_vector(distractor)\n",
        "\n",
        "  # Calculate cosine similarity between golden label and distractor embeddings\n",
        "  golden_embedding = model.get_word_vector(\"numero ordinale\")\n",
        "  similarity = cosine_similarity(golden_embedding, distractor_embedding)\n",
        "  print('Cosine similarity: {:.2}'.format(similarity))"
      ]
    },
    {
      "cell_type": "markdown",
      "metadata": {
        "id": "LM9zDcnbL-ut"
      },
      "source": [
        "# 4.0 Create entries"
      ]
    },
    {
      "cell_type": "code",
      "execution_count": 57,
      "metadata": {
        "id": "QMejxfx46FGi"
      },
      "outputs": [],
      "source": [
        "def save_jsonl(file_path, data):\n",
        "  id_seq = 0\n",
        "  with open(file_path, \"w\") as output_file:\n",
        "    for term, hypernyms in data.items():\n",
        "      for hypernym in hypernyms:\n",
        "        distractors = find_distractors(hypernym, num_distractors = 3)\n",
        "        entries = (hypernym, *distractors)\n",
        "        choices = list(entries)\n",
        "        random.shuffle(choices) # to create randomness\n",
        "        reformatted_json_data = {\n",
        "              'id' : id_seq,\n",
        "              'text': term,\n",
        "              'choices': choices,\n",
        "              'label' : choices.index(hypernym)\n",
        "        }\n",
        "        json.dump(reformatted_json_data, output_file)\n",
        "        output_file.write(\"\\n\")\n",
        "        id_seq +=1\n",
        "\n",
        "def read_lines_jsonl(file_path, num_lines):\n",
        "  with open(file_path, 'r') as f:\n",
        "    json_list = list(f)\n",
        "    for line in json_list[:num_lines]:\n",
        "      data = json.loads(line)\n",
        "      print(data)"
      ]
    },
    {
      "cell_type": "code",
      "execution_count": 59,
      "metadata": {
        "colab": {
          "base_uri": "https://localhost:8080/"
        },
        "id": "8bfbw5MqpVqb",
        "outputId": "b6a2945e-d66f-4595-ba15-06b7af6cbc57"
      },
      "outputs": [
        {
          "name": "stdout",
          "output_type": "stream",
          "text": [
            "{'id': 0, 'text': 'sesto', 'choices': ['grado', 'grado.', 'ingrado', 'poter'], 'label': 0}\n",
            "{'id': 1, 'text': 'sesto', 'choices': ['anticardinale', 'numero ordinale', 'estetologo', 'Sindacatore'], 'label': 1}\n",
            "{'id': 2, 'text': 'sesto', 'choices': ['frazione', 'frazionale', '-frazione', 'ex-frazione'], 'label': 0}\n",
            "{'id': 3, 'text': 'sesto', 'choices': ['cariche', 'carica.La', 'ricoperta', 'carica'], 'label': 3}\n",
            "{'id': 4, 'text': 'Sigillo', 'choices': ['denominatore', 'comune', 'comunee', 'comune.Il'], 'label': 1}\n",
            "{'id': 5, 'text': 'Sigillo', 'choices': ['Principalità', 'città-provincia', 'municipalità', 'Municipalities'], 'label': 2}\n",
            "{'id': 6, 'text': 'Sigillo', 'choices': ['comunee', 'monale', 'ComuneAlba', 'comune italiano'], 'label': 3}\n",
            "{'id': 7, 'text': 'Sigillo', 'choices': ['-frazione', 'frazionale', 'ex-frazione', 'frazione'], 'label': 3}\n",
            "{'id': 8, 'text': 'Sigillo', 'choices': ['paese'], 'label': 0}\n",
            "{'id': 9, 'text': 'Sigillo', 'choices': ['quartiere'], 'label': 0}\n"
          ]
        }
      ],
      "source": [
        "# train jsonl file\n",
        "save_jsonl(\"hypernym_discovery-task26-train-data.jsonl\", train_hypernyms)\n",
        "read_lines_jsonl(\"hypernym_discovery-task26-train-data.jsonl\", num_lines = 10) # preview of the first 10 lines"
      ]
    },
    {
      "cell_type": "code",
      "execution_count": 60,
      "metadata": {
        "colab": {
          "base_uri": "https://localhost:8080/"
        },
        "id": "QoP2BcrhaQ_G",
        "outputId": "0515ae5b-a1de-4e73-c26c-540b1ef72ae0"
      },
      "outputs": [
        {
          "data": {
            "text/plain": [
              "0.558272123336792"
            ]
          },
          "execution_count": 60,
          "metadata": {},
          "output_type": "execute_result"
        }
      ],
      "source": [
        "a = model.get_word_vector(\"grado\")\n",
        "b = model.get_word_vector(\"grado.\")\n",
        "cosine_similarity(a, b)"
      ]
    },
    {
      "cell_type": "code",
      "execution_count": null,
      "metadata": {
        "id": "UGJEipDX2L7s"
      },
      "outputs": [],
      "source": [
        "# test jsonl file\n",
        "save_jsonl(\"hypernym_discovery-task26-test-data.jsonl\", test_hypernyms)\n",
        "read_lines_jsonl(\"hypernym_discovery-task26-test-data.jsonl\", num_lines = 10) # preview of the first 10 lines"
      ]
    },
    {
      "cell_type": "markdown",
      "metadata": {
        "id": "wpnSwrev0jUA"
      },
      "source": [
        "# 5.0 Prompt formulation"
      ]
    },
    {
      "cell_type": "code",
      "execution_count": null,
      "metadata": {
        "id": "JvgSvHol0mLk"
      },
      "outputs": [],
      "source": [
        "prompts = [\n",
        "    \"Il termine '{text}' può essere iperonimo di: \\n a) {option1} \\n b) {option2} \\n c) {option3} \\n d) {option4}\",\n",
        "    \"Dato il termine '{text}', quale tra le seguenti parole è un suo iperonimo? \\n a) {option1} \\n b) {option2} \\n c) {option3} \\n d) {option4}\",\n",
        "    \"Scegli l'iperonimo del termine '{text}': \\n a) {option1} \\n b) {option2} \\n c) {option3} \\n d) {option4}\"\n",
        "]"
      ]
    },
    {
      "cell_type": "code",
      "execution_count": null,
      "metadata": {
        "id": "yoZJb-dE7lkN"
      },
      "outputs": [],
      "source": [
        "print(' '.join(prompt + '\\n\\n' for prompt in prompts), end='')"
      ]
    },
    {
      "cell_type": "code",
      "execution_count": null,
      "metadata": {
        "id": "vqqCjLLSAUMy"
      },
      "outputs": [],
      "source": [
        "def save_prompts_jsonl(prompts, file_path):\n",
        "  json_prompts = []\n",
        "  for prompt in prompts:\n",
        "    json_prompts.append({\"prompt\": prompt})\n",
        "\n",
        "  with open(file_path, \"w\") as output_file:\n",
        "    for json_prompt in json_prompts:\n",
        "      json.dump(json_prompt, output_file)\n",
        "      output_file.write(\"\\n\")"
      ]
    },
    {
      "cell_type": "code",
      "execution_count": null,
      "metadata": {
        "id": "DMnn5M3GBVOS"
      },
      "outputs": [],
      "source": [
        "save_prompts_jsonl(prompts, \"hypernym_discovery-task26-json.jsonl\")\n",
        "read_lines_jsonl(\"hypernym_discovery-task26-json.jsonl\", num_lines = 3)"
      ]
    },
    {
      "cell_type": "markdown",
      "metadata": {
        "id": "Q0sLMr7iCJJy"
      },
      "source": [
        "# 6.0 Prompts Evaluation"
      ]
    },
    {
      "cell_type": "code",
      "execution_count": null,
      "metadata": {
        "colab": {
          "base_uri": "https://localhost:8080/"
        },
        "id": "31T-DzisjeHA",
        "outputId": "d5f41f9e-390c-47b1-ffe3-7d264d26c2e2"
      },
      "outputs": [
        {
          "data": {
            "text/plain": [
              "device(type='cuda')"
            ]
          },
          "execution_count": 16,
          "metadata": {},
          "output_type": "execute_result"
        }
      ],
      "source": [
        "device = torch.device(\"cuda\") if torch.cuda.is_available() else torch.device(\"cpu\")\n",
        "device"
      ]
    },
    {
      "cell_type": "code",
      "execution_count": null,
      "metadata": {
        "id": "31xt8WrSjhTH"
      },
      "outputs": [],
      "source": [
        "def evaluate_prompt(tokenizer, model, prompt, data_file, zero_shot_classification = False):\n",
        "  formatted_prompts, y_true, y_pred, score = [], [], [], []\n",
        "  lines = 0\n",
        "\n",
        "  with open(data_file, \"r\") as f:\n",
        "    json_data = list(f)\n",
        "    for line in json_data:\n",
        "      pair = json.loads(line)\n",
        "      id = pair['id']\n",
        "      text = pair['text']\n",
        "      choices = pair['choices']\n",
        "      label = pair['label']\n",
        "\n",
        "      formatted_prompt = prompt.format(text = text, option1 = choices[0], option2 = choices[1], option3 = choices[2], option4 = choices[3])\n",
        "      inputs = tokenizer([formatted_prompt] * len(choices), choices,\n",
        "                         padding = True, return_tensors = \"pt\").to(device)\n",
        "\n",
        "      if zero_shot_classification:\n",
        "        output = model(inputs, candidate_labels=choices, hypothesis_template=\"Questo esempio è {}.\")\n",
        "        predicted_output = output['labels'][0]\n",
        "        predicted_label = choices.index(predicted_output)\n",
        "        prediction_score = output['scores'][0]\n",
        "        lines += 1\n",
        "\n",
        "        if lines == 20:\n",
        "          break\n",
        "\n",
        "      else:\n",
        "        labels = torch.tensor(len(choices) - 1).unsqueeze(0)\n",
        "        with torch.no_grad():\n",
        "          output = model(**{k: v.unsqueeze(0) for k, v in inputs.items()}, labels = labels)\n",
        "\n",
        "        probabilities = torch.softmax(output[\"logits\"][0], -1).tolist()\n",
        "        predicted_label = np.argmax(probabilities)\n",
        "        prediction_score = probabilities[predicted_label]\n",
        "        lines += 1\n",
        "\n",
        "        if lines == 20:\n",
        "          break\n",
        "\n",
        "      formatted_prompts.append(formatted_prompt)\n",
        "      y_true.append(label)\n",
        "      y_pred.append(predicted_label)\n",
        "      score.append(prediction_score)\n",
        "\n",
        "    return formatted_prompts, y_true, y_pred, score\n",
        "\n",
        "\n",
        "def visualize_results(results, num_results):\n",
        "  for prompt in range(len(results)):\n",
        "    for n in range(num_results):\n",
        "      print(\"Prompt: \", results[prompt][0][n])\n",
        "      print(\"True label: \", results[prompt][1][n])\n",
        "      print(\"Predicted label: \", results[prompt][2][n])\n",
        "      print(\"Prediction score: \", round(results[prompt][3][n], 3))\n",
        "      print(\" \")"
      ]
    },
    {
      "cell_type": "code",
      "execution_count": null,
      "metadata": {
        "id": "beXPGvlB9MTB"
      },
      "outputs": [],
      "source": [
        "def compute_metrics(y_true, y_pred):\n",
        "  accuracy = accuracy_score(y_true, y_pred)\n",
        "  precision = precision_score(y_true, y_pred, average='weighted', zero_division=1)\n",
        "  recall = recall_score(y_true, y_pred, average='weighted', zero_division=1)\n",
        "  f1 = f1_score(y_true, y_pred, average='weighted', zero_division=1)\n",
        "  cf_matrix = confusion_matrix(y_true, y_pred)\n",
        "  return accuracy, precision, recall, f1, cf_matrix\n",
        "\n",
        "\n",
        "def print_confusion_matrix(metrics, type):\n",
        "  for n in range(len(metrics)):\n",
        "    print(f\"{type} Confusion Matrix for the Prompt {n}\")\n",
        "    print(\"Prompt: \", prompts[n])\n",
        "\n",
        "    # Confusion Matrix Plot\n",
        "    cf_matrix = metrics[n][4]\n",
        "    fig, ax = plt.subplots(figsize=(5, 3))\n",
        "    sns.heatmap(cf_matrix, annot = True, fmt = '.0f')\n",
        "    ax.set_title('Confusion Matrix')\n",
        "    ax.set_xlabel('Predicted Labels')\n",
        "    ax.set_ylabel('True Labels')\n",
        "    plt.show()\n",
        "\n",
        "    print(\"Total Predictions: \", np.sum(cf_matrix))\n",
        "    print(\"Correct Predictions: \", np.trace(cf_matrix))\n",
        "    print(\"----------------------------------------------------------------\")\n",
        "    print(\" \")\n",
        "\n",
        "def print_overall_statistics(train_metrics, test_metrics, prompts):\n",
        "  comparison_table = []\n",
        "  for id, prompt in enumerate(prompts):\n",
        "    data = {}\n",
        "    for dtype, metrics in zip(['Train', 'Test'], [train_metrics, test_metrics]):\n",
        "      accuracy, precision, recall, f1, cf_matrix = metrics[id]\n",
        "      data[f'{dtype} Accuracy'] = round(accuracy, 3)\n",
        "      data[f'{dtype} Precision'] = round(precision, 3)\n",
        "      data[f'{dtype} Recall'] = round(recall, 3)\n",
        "      data[f'{dtype} F1-score'] = round(f1, 3)\n",
        "    comparison_table.append(data)\n",
        "  return pd.DataFrame(comparison_table).transpose()"
      ]
    },
    {
      "cell_type": "markdown",
      "metadata": {
        "id": "NSHhbtQhQAXY"
      },
      "source": [
        "## 6.1 RoBERTa For Multiple Choice"
      ]
    },
    {
      "cell_type": "code",
      "execution_count": null,
      "metadata": {
        "id": "9zq2H7HsuWse"
      },
      "outputs": [],
      "source": [
        "model_name = \"LIAMF-USP/roberta-large-finetuned-race\"\n",
        "roberta_tokenizer = RobertaTokenizer.from_pretrained(model_name)\n",
        "roberta_model = RobertaForMultipleChoice.from_pretrained(model_name).to(device)"
      ]
    },
    {
      "cell_type": "code",
      "execution_count": null,
      "metadata": {
        "colab": {
          "base_uri": "https://localhost:8080/"
        },
        "id": "so51vzKd8LnZ",
        "outputId": "dbc29402-342d-4b53-de1c-65c35dc7e1b0"
      },
      "outputs": [
        {
          "name": "stdout",
          "output_type": "stream",
          "text": [
            "Execution Time:  1.9569334228833517 minutes\n"
          ]
        }
      ],
      "source": [
        "start_time = time.time()\n",
        "roberta_train_results, roberta_test_results = [], []\n",
        "\n",
        "for prompt in prompts:\n",
        "  formatted_prompt, y_true, y_pred, score = evaluate_prompt(roberta_tokenizer, roberta_model, prompt, \"hypernym_discovery-task26-train-data.jsonl\")\n",
        "  roberta_train_results.append([formatted_prompt, y_true, y_pred, score])\n",
        "\n",
        "  formatted_prompt, y_true, y_pred, score = evaluate_prompt(roberta_tokenizer, roberta_model, prompt, \"hypernym_discovery-task26-test-data.jsonl\")\n",
        "  roberta_test_results.append([formatted_prompt, y_true, y_pred, score])\n",
        "\n",
        "end_time = time.time()\n",
        "print(\"Execution Time: \", (end_time - start_time)/60, \"minutes\")"
      ]
    },
    {
      "cell_type": "code",
      "execution_count": null,
      "metadata": {
        "id": "W1oXAKZBsZ72"
      },
      "outputs": [],
      "source": [
        "visualize_results(roberta_train_results, num_results = 2) # preview of the first 2 train results for each prompt"
      ]
    },
    {
      "cell_type": "code",
      "execution_count": null,
      "metadata": {
        "id": "xfk8jfMDvyo3"
      },
      "outputs": [],
      "source": [
        "roberta_train_metrics, roberta_test_metrics = [], []\n",
        "\n",
        "for prompt in range(len(prompts)):\n",
        "  accuracy, precision, recall, f1, cf_matrix = compute_metrics(roberta_train_results[prompt][1], roberta_train_results[prompt][2])\n",
        "  roberta_train_metrics.append([accuracy, precision, recall, f1, cf_matrix])\n",
        "\n",
        "  accuracy, precision, recall, f1, cf_matrix = compute_metrics(roberta_test_results[prompt][1], roberta_test_results[prompt][2])\n",
        "  roberta_test_metrics.append([accuracy, precision, recall, f1, cf_matrix])"
      ]
    },
    {
      "cell_type": "markdown",
      "metadata": {
        "id": "qsNljtPY8PxS"
      },
      "source": [
        "### Overall Statistics"
      ]
    },
    {
      "cell_type": "code",
      "execution_count": null,
      "metadata": {
        "id": "mseiH-1S8RCE"
      },
      "outputs": [],
      "source": [
        "# Train Statistics for each prompt\n",
        "print_confusion_matrix(roberta_train_metrics, \"Train\")"
      ]
    },
    {
      "cell_type": "code",
      "execution_count": null,
      "metadata": {
        "id": "g8AfPh9T8S5A"
      },
      "outputs": [],
      "source": [
        "# Test Statistics for each prompt\n",
        "print_confusion_matrix(roberta_test_metrics, \"Test\")"
      ]
    },
    {
      "cell_type": "code",
      "execution_count": null,
      "metadata": {
        "id": "M-oflTOA8bFt"
      },
      "outputs": [],
      "source": [
        "print_overall_statistics(roberta_train_metrics, roberta_test_metrics, prompts)"
      ]
    },
    {
      "cell_type": "markdown",
      "metadata": {
        "id": "Y9YoFnhIcsEx"
      },
      "source": [
        "## 6.2 Zero Shot Text Classification"
      ]
    },
    {
      "cell_type": "code",
      "execution_count": null,
      "metadata": {
        "id": "KFeCM8kZSlRY"
      },
      "outputs": [],
      "source": [
        "classifier_names = [\"xlm-roberta-large\", \"facebook/bart-large-mnli\"]\n",
        "#roberta_classifier = pipeline(\"zero-shot-classification\", model=classifier_names[0], batch_size = 8, truncation=True, device = device)\n",
        "\n",
        "bert_tokenizer = AutoTokenizer.from_pretrained('facebook/bart-large-mnli')\n",
        "bert_classifier = pipeline(\"zero-shot-classification\", model=classifier_names[1], batch_size = 8, truncation=True, device = device)"
      ]
    },
    {
      "cell_type": "code",
      "execution_count": null,
      "metadata": {
        "colab": {
          "base_uri": "https://localhost:8080/"
        },
        "id": "-wyqqRtO-51n",
        "outputId": "0a6a8bf0-0f79-4ec6-a3e0-e1907865f374"
      },
      "outputs": [
        {
          "name": "stdout",
          "output_type": "stream",
          "text": [
            "Execution Time:  0.9809847831726074 minutes\n"
          ]
        }
      ],
      "source": [
        "start_time = time.time()\n",
        "classifier_train_results, classifier_test_results = [], []\n",
        "\n",
        "for prompt in prompts:\n",
        "  formatted_prompt, y_true, y_pred, score = evaluate_prompt(bert_tokenizer, bert_classifier, prompt, \"hypernym_discovery-task26-train-data.jsonl\", True)\n",
        "  classifier_train_results.append([formatted_prompt, y_true, y_pred, score])\n",
        "\n",
        "  formatted_prompt, y_true, y_pred, score = evaluate_prompt(bert_tokenizer, bert_classifier, prompt, \"hypernym_discovery-task26-test-data.jsonl\", True)\n",
        "  classifier_test_results.append([formatted_prompt, y_true, y_pred, score])\n",
        "\n",
        "end_time = time.time()\n",
        "print(\"Execution Time: \", (end_time - start_time)/60, \"minutes\")"
      ]
    },
    {
      "cell_type": "code",
      "execution_count": null,
      "metadata": {
        "id": "fqIUvwZFhEHe"
      },
      "outputs": [],
      "source": [
        "visualize_results(classifier_train_results, num_results = 2) # preview of the first 2 train results for each prompt"
      ]
    },
    {
      "cell_type": "code",
      "execution_count": null,
      "metadata": {
        "id": "_PAkEwGFgBlH"
      },
      "outputs": [],
      "source": [
        "classifier_train_metrics, classifier_test_metrics = [], []\n",
        "\n",
        "for prompt in range(len(prompts)):\n",
        "  accuracy, precision, recall, f1, cf_matrix = compute_metrics(classifier_train_results[prompt][1], classifier_train_results[prompt][2])\n",
        "  classifier_train_metrics.append([accuracy, precision, recall, f1, cf_matrix])\n",
        "\n",
        "  accuracy, precision, recall, f1, cf_matrix = compute_metrics(classifier_test_results[prompt][1], classifier_test_results[prompt][2])\n",
        "  classifier_test_metrics.append([accuracy, precision, recall, f1, cf_matrix])"
      ]
    },
    {
      "cell_type": "markdown",
      "metadata": {
        "id": "wQSyzYZjuga5"
      },
      "source": [
        "### Overall Statistics"
      ]
    },
    {
      "cell_type": "code",
      "execution_count": null,
      "metadata": {
        "id": "ixERGlZ4gYEW"
      },
      "outputs": [],
      "source": [
        "# Train Confusion Matrix for each prompt\n",
        "print_confusion_matrix(classifier_train_metrics, \"Train\")"
      ]
    },
    {
      "cell_type": "code",
      "execution_count": null,
      "metadata": {
        "id": "_qTYO4Yr3vOK"
      },
      "outputs": [],
      "source": [
        "# Test Statistics for each prompt\n",
        "print_confusion_matrix(classifier_test_metrics, \"Test\")"
      ]
    },
    {
      "cell_type": "code",
      "execution_count": null,
      "metadata": {
        "id": "UGF0DnMDkWHh"
      },
      "outputs": [],
      "source": [
        "print_overall_statistics(classifier_train_metrics, classifier_test_metrics, prompts)"
      ]
    }
  ],
  "metadata": {
    "accelerator": "GPU",
    "colab": {
      "gpuType": "T4",
      "provenance": [],
      "toc_visible": true
    },
    "kernelspec": {
      "display_name": "Python 3",
      "name": "python3"
    },
    "language_info": {
      "codemirror_mode": {
        "name": "ipython",
        "version": 3
      },
      "file_extension": ".py",
      "mimetype": "text/x-python",
      "name": "python",
      "nbconvert_exporter": "python",
      "pygments_lexer": "ipython3",
      "version": "3.9.19"
    }
  },
  "nbformat": 4,
  "nbformat_minor": 0
}
